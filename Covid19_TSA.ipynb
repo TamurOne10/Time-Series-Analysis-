{
 "cells": [
  {
   "cell_type": "markdown",
   "metadata": {},
   "source": [
    "# Covid-19 dataset Forecasting Model "
   ]
  },
  {
   "cell_type": "code",
   "execution_count": 1,
   "metadata": {},
   "outputs": [],
   "source": [
    "# Importing Libraries for EDA\n",
    "import pandas as pd \n",
    "import numpy as np \n",
    "import matplotlib.pyplot as plt \n",
    "import plotly.express as px \n",
    "import seaborn as sns"
   ]
  },
  {
   "cell_type": "code",
   "execution_count": 2,
   "metadata": {},
   "outputs": [
    {
     "data": {
      "text/html": [
       "<div>\n",
       "<style scoped>\n",
       "    .dataframe tbody tr th:only-of-type {\n",
       "        vertical-align: middle;\n",
       "    }\n",
       "\n",
       "    .dataframe tbody tr th {\n",
       "        vertical-align: top;\n",
       "    }\n",
       "\n",
       "    .dataframe thead th {\n",
       "        text-align: right;\n",
       "    }\n",
       "</style>\n",
       "<table border=\"1\" class=\"dataframe\">\n",
       "  <thead>\n",
       "    <tr style=\"text-align: right;\">\n",
       "      <th></th>\n",
       "      <th>Date</th>\n",
       "      <th>Cases</th>\n",
       "      <th>Deaths</th>\n",
       "      <th>Recovered</th>\n",
       "      <th>Travel_history</th>\n",
       "      <th>Province</th>\n",
       "      <th>City</th>\n",
       "    </tr>\n",
       "  </thead>\n",
       "  <tbody>\n",
       "    <tr>\n",
       "      <th>0</th>\n",
       "      <td>2/26/2020</td>\n",
       "      <td>1</td>\n",
       "      <td>0</td>\n",
       "      <td>0</td>\n",
       "      <td>China</td>\n",
       "      <td>Islamabad Capital Territory</td>\n",
       "      <td>Islamabad</td>\n",
       "    </tr>\n",
       "    <tr>\n",
       "      <th>1</th>\n",
       "      <td>2/26/2020</td>\n",
       "      <td>2</td>\n",
       "      <td>0</td>\n",
       "      <td>0</td>\n",
       "      <td>Iran/Taftan</td>\n",
       "      <td>Sindh</td>\n",
       "      <td>Karachi</td>\n",
       "    </tr>\n",
       "    <tr>\n",
       "      <th>2</th>\n",
       "      <td>2/29/2020</td>\n",
       "      <td>1</td>\n",
       "      <td>0</td>\n",
       "      <td>0</td>\n",
       "      <td>China</td>\n",
       "      <td>Islamabad Capital Territory</td>\n",
       "      <td>Islamabad</td>\n",
       "    </tr>\n",
       "    <tr>\n",
       "      <th>3</th>\n",
       "      <td>2/29/2020</td>\n",
       "      <td>1</td>\n",
       "      <td>0</td>\n",
       "      <td>0</td>\n",
       "      <td>Iran/Taftan</td>\n",
       "      <td>Sindh</td>\n",
       "      <td>Karachi</td>\n",
       "    </tr>\n",
       "    <tr>\n",
       "      <th>4</th>\n",
       "      <td>3/2/2020</td>\n",
       "      <td>1</td>\n",
       "      <td>0</td>\n",
       "      <td>0</td>\n",
       "      <td>Iran/Taftan</td>\n",
       "      <td>Gilgit-Baltistan</td>\n",
       "      <td>Gilgit</td>\n",
       "    </tr>\n",
       "    <tr>\n",
       "      <th>...</th>\n",
       "      <td>...</td>\n",
       "      <td>...</td>\n",
       "      <td>...</td>\n",
       "      <td>...</td>\n",
       "      <td>...</td>\n",
       "      <td>...</td>\n",
       "      <td>...</td>\n",
       "    </tr>\n",
       "    <tr>\n",
       "      <th>1323</th>\n",
       "      <td>5/10/2020</td>\n",
       "      <td>709</td>\n",
       "      <td>8</td>\n",
       "      <td>29</td>\n",
       "      <td>Local - Social Contact</td>\n",
       "      <td>Sindh</td>\n",
       "      <td>Karachi</td>\n",
       "    </tr>\n",
       "    <tr>\n",
       "      <th>1324</th>\n",
       "      <td>5/10/2020</td>\n",
       "      <td>59</td>\n",
       "      <td>0</td>\n",
       "      <td>0</td>\n",
       "      <td>Local - Social Contact</td>\n",
       "      <td>Baluchistan</td>\n",
       "      <td>Quetta</td>\n",
       "    </tr>\n",
       "    <tr>\n",
       "      <th>1325</th>\n",
       "      <td>5/10/2020</td>\n",
       "      <td>12</td>\n",
       "      <td>0</td>\n",
       "      <td>1</td>\n",
       "      <td>Local - Social Contact</td>\n",
       "      <td>Gilgit-Baltistan</td>\n",
       "      <td>Gilgit</td>\n",
       "    </tr>\n",
       "    <tr>\n",
       "      <th>1326</th>\n",
       "      <td>5/10/2020</td>\n",
       "      <td>160</td>\n",
       "      <td>11</td>\n",
       "      <td>40</td>\n",
       "      <td>Local - Social Contact</td>\n",
       "      <td>Khyber Pakhtunkhwa</td>\n",
       "      <td>Peshawar</td>\n",
       "    </tr>\n",
       "    <tr>\n",
       "      <th>1327</th>\n",
       "      <td>5/10/2020</td>\n",
       "      <td>7</td>\n",
       "      <td>0</td>\n",
       "      <td>0</td>\n",
       "      <td>Local - Social Contact</td>\n",
       "      <td>Azad Jummu Kashmir</td>\n",
       "      <td>Muzaffarabad</td>\n",
       "    </tr>\n",
       "  </tbody>\n",
       "</table>\n",
       "<p>1328 rows × 7 columns</p>\n",
       "</div>"
      ],
      "text/plain": [
       "           Date  Cases  Deaths  Recovered          Travel_history  \\\n",
       "0     2/26/2020      1       0          0                   China   \n",
       "1     2/26/2020      2       0          0             Iran/Taftan   \n",
       "2     2/29/2020      1       0          0                   China   \n",
       "3     2/29/2020      1       0          0             Iran/Taftan   \n",
       "4      3/2/2020      1       0          0             Iran/Taftan   \n",
       "...         ...    ...     ...        ...                     ...   \n",
       "1323  5/10/2020    709       8         29  Local - Social Contact   \n",
       "1324  5/10/2020     59       0          0  Local - Social Contact   \n",
       "1325  5/10/2020     12       0          1  Local - Social Contact   \n",
       "1326  5/10/2020    160      11         40  Local - Social Contact   \n",
       "1327  5/10/2020      7       0          0  Local - Social Contact   \n",
       "\n",
       "                         Province          City  \n",
       "0     Islamabad Capital Territory     Islamabad  \n",
       "1                           Sindh       Karachi  \n",
       "2     Islamabad Capital Territory     Islamabad  \n",
       "3                           Sindh       Karachi  \n",
       "4                Gilgit-Baltistan        Gilgit  \n",
       "...                           ...           ...  \n",
       "1323                        Sindh       Karachi  \n",
       "1324                  Baluchistan        Quetta  \n",
       "1325             Gilgit-Baltistan        Gilgit  \n",
       "1326           Khyber Pakhtunkhwa      Peshawar  \n",
       "1327           Azad Jummu Kashmir  Muzaffarabad  \n",
       "\n",
       "[1328 rows x 7 columns]"
      ]
     },
     "execution_count": 2,
     "metadata": {},
     "output_type": "execute_result"
    }
   ],
   "source": [
    "# Loading Dataset from Library\n",
    "df = pd.read_csv('covid19_Pakistan.csv')\n",
    "df"
   ]
  },
  {
   "cell_type": "code",
   "execution_count": 3,
   "metadata": {},
   "outputs": [
    {
     "data": {
      "text/html": [
       "<div>\n",
       "<style scoped>\n",
       "    .dataframe tbody tr th:only-of-type {\n",
       "        vertical-align: middle;\n",
       "    }\n",
       "\n",
       "    .dataframe tbody tr th {\n",
       "        vertical-align: top;\n",
       "    }\n",
       "\n",
       "    .dataframe thead th {\n",
       "        text-align: right;\n",
       "    }\n",
       "</style>\n",
       "<table border=\"1\" class=\"dataframe\">\n",
       "  <thead>\n",
       "    <tr style=\"text-align: right;\">\n",
       "      <th></th>\n",
       "      <th>Date</th>\n",
       "      <th>Cases</th>\n",
       "      <th>Deaths</th>\n",
       "      <th>Recovered</th>\n",
       "      <th>Travel_history</th>\n",
       "      <th>Province</th>\n",
       "      <th>City</th>\n",
       "    </tr>\n",
       "  </thead>\n",
       "  <tbody>\n",
       "    <tr>\n",
       "      <th>0</th>\n",
       "      <td>2/26/2020</td>\n",
       "      <td>1</td>\n",
       "      <td>0</td>\n",
       "      <td>0</td>\n",
       "      <td>China</td>\n",
       "      <td>Islamabad Capital Territory</td>\n",
       "      <td>Islamabad</td>\n",
       "    </tr>\n",
       "    <tr>\n",
       "      <th>1</th>\n",
       "      <td>2/26/2020</td>\n",
       "      <td>2</td>\n",
       "      <td>0</td>\n",
       "      <td>0</td>\n",
       "      <td>Iran/Taftan</td>\n",
       "      <td>Sindh</td>\n",
       "      <td>Karachi</td>\n",
       "    </tr>\n",
       "    <tr>\n",
       "      <th>2</th>\n",
       "      <td>2/29/2020</td>\n",
       "      <td>1</td>\n",
       "      <td>0</td>\n",
       "      <td>0</td>\n",
       "      <td>China</td>\n",
       "      <td>Islamabad Capital Territory</td>\n",
       "      <td>Islamabad</td>\n",
       "    </tr>\n",
       "    <tr>\n",
       "      <th>3</th>\n",
       "      <td>2/29/2020</td>\n",
       "      <td>1</td>\n",
       "      <td>0</td>\n",
       "      <td>0</td>\n",
       "      <td>Iran/Taftan</td>\n",
       "      <td>Sindh</td>\n",
       "      <td>Karachi</td>\n",
       "    </tr>\n",
       "    <tr>\n",
       "      <th>4</th>\n",
       "      <td>3/2/2020</td>\n",
       "      <td>1</td>\n",
       "      <td>0</td>\n",
       "      <td>0</td>\n",
       "      <td>Iran/Taftan</td>\n",
       "      <td>Gilgit-Baltistan</td>\n",
       "      <td>Gilgit</td>\n",
       "    </tr>\n",
       "  </tbody>\n",
       "</table>\n",
       "</div>"
      ],
      "text/plain": [
       "        Date  Cases  Deaths  Recovered Travel_history  \\\n",
       "0  2/26/2020      1       0          0          China   \n",
       "1  2/26/2020      2       0          0    Iran/Taftan   \n",
       "2  2/29/2020      1       0          0          China   \n",
       "3  2/29/2020      1       0          0    Iran/Taftan   \n",
       "4   3/2/2020      1       0          0    Iran/Taftan   \n",
       "\n",
       "                      Province       City  \n",
       "0  Islamabad Capital Territory  Islamabad  \n",
       "1                        Sindh    Karachi  \n",
       "2  Islamabad Capital Territory  Islamabad  \n",
       "3                        Sindh    Karachi  \n",
       "4             Gilgit-Baltistan     Gilgit  "
      ]
     },
     "execution_count": 3,
     "metadata": {},
     "output_type": "execute_result"
    }
   ],
   "source": [
    "df.head()"
   ]
  },
  {
   "cell_type": "code",
   "execution_count": 4,
   "metadata": {},
   "outputs": [
    {
     "data": {
      "text/html": [
       "<div>\n",
       "<style scoped>\n",
       "    .dataframe tbody tr th:only-of-type {\n",
       "        vertical-align: middle;\n",
       "    }\n",
       "\n",
       "    .dataframe tbody tr th {\n",
       "        vertical-align: top;\n",
       "    }\n",
       "\n",
       "    .dataframe thead th {\n",
       "        text-align: right;\n",
       "    }\n",
       "</style>\n",
       "<table border=\"1\" class=\"dataframe\">\n",
       "  <thead>\n",
       "    <tr style=\"text-align: right;\">\n",
       "      <th></th>\n",
       "      <th>Date</th>\n",
       "      <th>Cases</th>\n",
       "      <th>Deaths</th>\n",
       "      <th>Recovered</th>\n",
       "      <th>Travel_history</th>\n",
       "      <th>Province</th>\n",
       "      <th>City</th>\n",
       "    </tr>\n",
       "  </thead>\n",
       "  <tbody>\n",
       "    <tr>\n",
       "      <th>1323</th>\n",
       "      <td>5/10/2020</td>\n",
       "      <td>709</td>\n",
       "      <td>8</td>\n",
       "      <td>29</td>\n",
       "      <td>Local - Social Contact</td>\n",
       "      <td>Sindh</td>\n",
       "      <td>Karachi</td>\n",
       "    </tr>\n",
       "    <tr>\n",
       "      <th>1324</th>\n",
       "      <td>5/10/2020</td>\n",
       "      <td>59</td>\n",
       "      <td>0</td>\n",
       "      <td>0</td>\n",
       "      <td>Local - Social Contact</td>\n",
       "      <td>Baluchistan</td>\n",
       "      <td>Quetta</td>\n",
       "    </tr>\n",
       "    <tr>\n",
       "      <th>1325</th>\n",
       "      <td>5/10/2020</td>\n",
       "      <td>12</td>\n",
       "      <td>0</td>\n",
       "      <td>1</td>\n",
       "      <td>Local - Social Contact</td>\n",
       "      <td>Gilgit-Baltistan</td>\n",
       "      <td>Gilgit</td>\n",
       "    </tr>\n",
       "    <tr>\n",
       "      <th>1326</th>\n",
       "      <td>5/10/2020</td>\n",
       "      <td>160</td>\n",
       "      <td>11</td>\n",
       "      <td>40</td>\n",
       "      <td>Local - Social Contact</td>\n",
       "      <td>Khyber Pakhtunkhwa</td>\n",
       "      <td>Peshawar</td>\n",
       "    </tr>\n",
       "    <tr>\n",
       "      <th>1327</th>\n",
       "      <td>5/10/2020</td>\n",
       "      <td>7</td>\n",
       "      <td>0</td>\n",
       "      <td>0</td>\n",
       "      <td>Local - Social Contact</td>\n",
       "      <td>Azad Jummu Kashmir</td>\n",
       "      <td>Muzaffarabad</td>\n",
       "    </tr>\n",
       "  </tbody>\n",
       "</table>\n",
       "</div>"
      ],
      "text/plain": [
       "           Date  Cases  Deaths  Recovered          Travel_history  \\\n",
       "1323  5/10/2020    709       8         29  Local - Social Contact   \n",
       "1324  5/10/2020     59       0          0  Local - Social Contact   \n",
       "1325  5/10/2020     12       0          1  Local - Social Contact   \n",
       "1326  5/10/2020    160      11         40  Local - Social Contact   \n",
       "1327  5/10/2020      7       0          0  Local - Social Contact   \n",
       "\n",
       "                Province          City  \n",
       "1323               Sindh       Karachi  \n",
       "1324         Baluchistan        Quetta  \n",
       "1325    Gilgit-Baltistan        Gilgit  \n",
       "1326  Khyber Pakhtunkhwa      Peshawar  \n",
       "1327  Azad Jummu Kashmir  Muzaffarabad  "
      ]
     },
     "execution_count": 4,
     "metadata": {},
     "output_type": "execute_result"
    }
   ],
   "source": [
    "df.tail()"
   ]
  },
  {
   "cell_type": "code",
   "execution_count": 5,
   "metadata": {},
   "outputs": [
    {
     "name": "stdout",
     "output_type": "stream",
     "text": [
      "<class 'pandas.core.frame.DataFrame'>\n",
      "RangeIndex: 1328 entries, 0 to 1327\n",
      "Data columns (total 7 columns):\n",
      " #   Column          Non-Null Count  Dtype \n",
      "---  ------          --------------  ----- \n",
      " 0   Date            1328 non-null   object\n",
      " 1   Cases           1328 non-null   int64 \n",
      " 2   Deaths          1328 non-null   int64 \n",
      " 3   Recovered       1328 non-null   int64 \n",
      " 4   Travel_history  1328 non-null   object\n",
      " 5   Province        1328 non-null   object\n",
      " 6   City            1328 non-null   object\n",
      "dtypes: int64(3), object(4)\n",
      "memory usage: 72.8+ KB\n"
     ]
    }
   ],
   "source": [
    "#Checking for datatypes in the dataset \n",
    "df.info()"
   ]
  },
  {
   "cell_type": "code",
   "execution_count": 6,
   "metadata": {},
   "outputs": [
    {
     "data": {
      "text/html": [
       "<div>\n",
       "<style scoped>\n",
       "    .dataframe tbody tr th:only-of-type {\n",
       "        vertical-align: middle;\n",
       "    }\n",
       "\n",
       "    .dataframe tbody tr th {\n",
       "        vertical-align: top;\n",
       "    }\n",
       "\n",
       "    .dataframe thead th {\n",
       "        text-align: right;\n",
       "    }\n",
       "</style>\n",
       "<table border=\"1\" class=\"dataframe\">\n",
       "  <thead>\n",
       "    <tr style=\"text-align: right;\">\n",
       "      <th></th>\n",
       "      <th>Cases</th>\n",
       "      <th>Deaths</th>\n",
       "      <th>Recovered</th>\n",
       "    </tr>\n",
       "  </thead>\n",
       "  <tbody>\n",
       "    <tr>\n",
       "      <th>count</th>\n",
       "      <td>1328.000000</td>\n",
       "      <td>1328.000000</td>\n",
       "      <td>1328.000000</td>\n",
       "    </tr>\n",
       "    <tr>\n",
       "      <th>mean</th>\n",
       "      <td>22.647590</td>\n",
       "      <td>0.455572</td>\n",
       "      <td>2.467620</td>\n",
       "    </tr>\n",
       "    <tr>\n",
       "      <th>std</th>\n",
       "      <td>82.977344</td>\n",
       "      <td>1.804996</td>\n",
       "      <td>11.861503</td>\n",
       "    </tr>\n",
       "    <tr>\n",
       "      <th>min</th>\n",
       "      <td>0.000000</td>\n",
       "      <td>0.000000</td>\n",
       "      <td>0.000000</td>\n",
       "    </tr>\n",
       "    <tr>\n",
       "      <th>25%</th>\n",
       "      <td>1.000000</td>\n",
       "      <td>0.000000</td>\n",
       "      <td>0.000000</td>\n",
       "    </tr>\n",
       "    <tr>\n",
       "      <th>50%</th>\n",
       "      <td>3.000000</td>\n",
       "      <td>0.000000</td>\n",
       "      <td>0.000000</td>\n",
       "    </tr>\n",
       "    <tr>\n",
       "      <th>75%</th>\n",
       "      <td>10.000000</td>\n",
       "      <td>0.000000</td>\n",
       "      <td>0.000000</td>\n",
       "    </tr>\n",
       "    <tr>\n",
       "      <th>max</th>\n",
       "      <td>1080.000000</td>\n",
       "      <td>31.000000</td>\n",
       "      <td>208.000000</td>\n",
       "    </tr>\n",
       "  </tbody>\n",
       "</table>\n",
       "</div>"
      ],
      "text/plain": [
       "             Cases       Deaths    Recovered\n",
       "count  1328.000000  1328.000000  1328.000000\n",
       "mean     22.647590     0.455572     2.467620\n",
       "std      82.977344     1.804996    11.861503\n",
       "min       0.000000     0.000000     0.000000\n",
       "25%       1.000000     0.000000     0.000000\n",
       "50%       3.000000     0.000000     0.000000\n",
       "75%      10.000000     0.000000     0.000000\n",
       "max    1080.000000    31.000000   208.000000"
      ]
     },
     "execution_count": 6,
     "metadata": {},
     "output_type": "execute_result"
    }
   ],
   "source": [
    "# Checking the statistical Approach of Data \n",
    "df.describe()"
   ]
  },
  {
   "cell_type": "code",
   "execution_count": 7,
   "metadata": {},
   "outputs": [
    {
     "data": {
      "text/plain": [
       "Date              0\n",
       "Cases             0\n",
       "Deaths            0\n",
       "Recovered         0\n",
       "Travel_history    0\n",
       "Province          0\n",
       "City              0\n",
       "dtype: int64"
      ]
     },
     "execution_count": 7,
     "metadata": {},
     "output_type": "execute_result"
    }
   ],
   "source": [
    "# Checking for the Null Values in the data \n",
    "df.isnull().sum()"
   ]
  },
  {
   "cell_type": "code",
   "execution_count": 8,
   "metadata": {},
   "outputs": [
    {
     "data": {
      "text/plain": [
       "Date               67\n",
       "Cases             138\n",
       "Deaths             17\n",
       "Recovered          49\n",
       "Travel_history     15\n",
       "Province           10\n",
       "City              127\n",
       "dtype: int64"
      ]
     },
     "execution_count": 8,
     "metadata": {},
     "output_type": "execute_result"
    }
   ],
   "source": [
    "# Chwcking for unique values in every column \n",
    "df.nunique()"
   ]
  },
  {
   "cell_type": "code",
   "execution_count": 9,
   "metadata": {},
   "outputs": [
    {
     "data": {
      "text/plain": [
       "Index(['Date', 'Cases', 'Deaths', 'Recovered', 'Travel_history', 'Province',\n",
       "       'City'],\n",
       "      dtype='object')"
      ]
     },
     "execution_count": 9,
     "metadata": {},
     "output_type": "execute_result"
    }
   ],
   "source": [
    "# Checking the following column Headings and their Spellings \n",
    "df.columns"
   ]
  },
  {
   "cell_type": "code",
   "execution_count": 10,
   "metadata": {},
   "outputs": [
    {
     "data": {
      "text/html": [
       "<div>\n",
       "<style scoped>\n",
       "    .dataframe tbody tr th:only-of-type {\n",
       "        vertical-align: middle;\n",
       "    }\n",
       "\n",
       "    .dataframe tbody tr th {\n",
       "        vertical-align: top;\n",
       "    }\n",
       "\n",
       "    .dataframe thead th {\n",
       "        text-align: right;\n",
       "    }\n",
       "</style>\n",
       "<table border=\"1\" class=\"dataframe\">\n",
       "  <thead>\n",
       "    <tr style=\"text-align: right;\">\n",
       "      <th></th>\n",
       "      <th>Cases</th>\n",
       "      <th>Deaths</th>\n",
       "      <th>Recovered</th>\n",
       "    </tr>\n",
       "  </thead>\n",
       "  <tbody>\n",
       "    <tr>\n",
       "      <th>0</th>\n",
       "      <td>1</td>\n",
       "      <td>0</td>\n",
       "      <td>0</td>\n",
       "    </tr>\n",
       "    <tr>\n",
       "      <th>1</th>\n",
       "      <td>2</td>\n",
       "      <td>0</td>\n",
       "      <td>0</td>\n",
       "    </tr>\n",
       "    <tr>\n",
       "      <th>2</th>\n",
       "      <td>1</td>\n",
       "      <td>0</td>\n",
       "      <td>0</td>\n",
       "    </tr>\n",
       "    <tr>\n",
       "      <th>3</th>\n",
       "      <td>1</td>\n",
       "      <td>0</td>\n",
       "      <td>0</td>\n",
       "    </tr>\n",
       "    <tr>\n",
       "      <th>4</th>\n",
       "      <td>1</td>\n",
       "      <td>0</td>\n",
       "      <td>0</td>\n",
       "    </tr>\n",
       "    <tr>\n",
       "      <th>5</th>\n",
       "      <td>0</td>\n",
       "      <td>0</td>\n",
       "      <td>1</td>\n",
       "    </tr>\n",
       "    <tr>\n",
       "      <th>6</th>\n",
       "      <td>1</td>\n",
       "      <td>0</td>\n",
       "      <td>0</td>\n",
       "    </tr>\n",
       "    <tr>\n",
       "      <th>7</th>\n",
       "      <td>6</td>\n",
       "      <td>0</td>\n",
       "      <td>0</td>\n",
       "    </tr>\n",
       "    <tr>\n",
       "      <th>8</th>\n",
       "      <td>3</td>\n",
       "      <td>0</td>\n",
       "      <td>0</td>\n",
       "    </tr>\n",
       "    <tr>\n",
       "      <th>9</th>\n",
       "      <td>1</td>\n",
       "      <td>0</td>\n",
       "      <td>0</td>\n",
       "    </tr>\n",
       "  </tbody>\n",
       "</table>\n",
       "</div>"
      ],
      "text/plain": [
       "   Cases  Deaths  Recovered\n",
       "0      1       0          0\n",
       "1      2       0          0\n",
       "2      1       0          0\n",
       "3      1       0          0\n",
       "4      1       0          0\n",
       "5      0       0          1\n",
       "6      1       0          0\n",
       "7      6       0          0\n",
       "8      3       0          0\n",
       "9      1       0          0"
      ]
     },
     "execution_count": 10,
     "metadata": {},
     "output_type": "execute_result"
    }
   ],
   "source": [
    "# Spliting the data into different data type  for better understanding \n",
    "df.select_dtypes(include=['number']).head(10)"
   ]
  },
  {
   "cell_type": "code",
   "execution_count": 11,
   "metadata": {},
   "outputs": [
    {
     "data": {
      "text/html": [
       "<div>\n",
       "<style scoped>\n",
       "    .dataframe tbody tr th:only-of-type {\n",
       "        vertical-align: middle;\n",
       "    }\n",
       "\n",
       "    .dataframe tbody tr th {\n",
       "        vertical-align: top;\n",
       "    }\n",
       "\n",
       "    .dataframe thead th {\n",
       "        text-align: right;\n",
       "    }\n",
       "</style>\n",
       "<table border=\"1\" class=\"dataframe\">\n",
       "  <thead>\n",
       "    <tr style=\"text-align: right;\">\n",
       "      <th></th>\n",
       "      <th>Date</th>\n",
       "      <th>Travel_history</th>\n",
       "      <th>Province</th>\n",
       "      <th>City</th>\n",
       "    </tr>\n",
       "  </thead>\n",
       "  <tbody>\n",
       "    <tr>\n",
       "      <th>0</th>\n",
       "      <td>2/26/2020</td>\n",
       "      <td>China</td>\n",
       "      <td>Islamabad Capital Territory</td>\n",
       "      <td>Islamabad</td>\n",
       "    </tr>\n",
       "    <tr>\n",
       "      <th>1</th>\n",
       "      <td>2/26/2020</td>\n",
       "      <td>Iran/Taftan</td>\n",
       "      <td>Sindh</td>\n",
       "      <td>Karachi</td>\n",
       "    </tr>\n",
       "    <tr>\n",
       "      <th>2</th>\n",
       "      <td>2/29/2020</td>\n",
       "      <td>China</td>\n",
       "      <td>Islamabad Capital Territory</td>\n",
       "      <td>Islamabad</td>\n",
       "    </tr>\n",
       "    <tr>\n",
       "      <th>3</th>\n",
       "      <td>2/29/2020</td>\n",
       "      <td>Iran/Taftan</td>\n",
       "      <td>Sindh</td>\n",
       "      <td>Karachi</td>\n",
       "    </tr>\n",
       "    <tr>\n",
       "      <th>4</th>\n",
       "      <td>3/2/2020</td>\n",
       "      <td>Iran/Taftan</td>\n",
       "      <td>Gilgit-Baltistan</td>\n",
       "      <td>Gilgit</td>\n",
       "    </tr>\n",
       "    <tr>\n",
       "      <th>5</th>\n",
       "      <td>3/6/2020</td>\n",
       "      <td>Unknown</td>\n",
       "      <td>Sindh</td>\n",
       "      <td>Karachi</td>\n",
       "    </tr>\n",
       "    <tr>\n",
       "      <th>6</th>\n",
       "      <td>3/7/2020</td>\n",
       "      <td>Iran/Taftan</td>\n",
       "      <td>Sindh</td>\n",
       "      <td>Karachi</td>\n",
       "    </tr>\n",
       "    <tr>\n",
       "      <th>7</th>\n",
       "      <td>3/9/2020</td>\n",
       "      <td>Syria</td>\n",
       "      <td>Sindh</td>\n",
       "      <td>Karachi</td>\n",
       "    </tr>\n",
       "    <tr>\n",
       "      <th>8</th>\n",
       "      <td>3/9/2020</td>\n",
       "      <td>UK</td>\n",
       "      <td>Sindh</td>\n",
       "      <td>Karachi</td>\n",
       "    </tr>\n",
       "    <tr>\n",
       "      <th>9</th>\n",
       "      <td>3/10/2020</td>\n",
       "      <td>Iran/Taftan</td>\n",
       "      <td>Sindh</td>\n",
       "      <td>Karachi</td>\n",
       "    </tr>\n",
       "  </tbody>\n",
       "</table>\n",
       "</div>"
      ],
      "text/plain": [
       "        Date Travel_history                     Province       City\n",
       "0  2/26/2020          China  Islamabad Capital Territory  Islamabad\n",
       "1  2/26/2020    Iran/Taftan                        Sindh    Karachi\n",
       "2  2/29/2020          China  Islamabad Capital Territory  Islamabad\n",
       "3  2/29/2020    Iran/Taftan                        Sindh    Karachi\n",
       "4   3/2/2020    Iran/Taftan             Gilgit-Baltistan     Gilgit\n",
       "5   3/6/2020        Unknown                        Sindh    Karachi\n",
       "6   3/7/2020    Iran/Taftan                        Sindh    Karachi\n",
       "7   3/9/2020          Syria                        Sindh    Karachi\n",
       "8   3/9/2020             UK                        Sindh    Karachi\n",
       "9  3/10/2020    Iran/Taftan                        Sindh    Karachi"
      ]
     },
     "execution_count": 11,
     "metadata": {},
     "output_type": "execute_result"
    }
   ],
   "source": [
    "df.select_dtypes(include=['object']).head(10)"
   ]
  },
  {
   "cell_type": "code",
   "execution_count": 12,
   "metadata": {},
   "outputs": [
    {
     "data": {
      "text/plain": [
       "array(['Islamabad', 'Karachi', 'Gilgit', 'Hyderabad', 'Quetta', 'Skardu',\n",
       "       'Taftan', 'Sukkur', 'Lahore', 'Dera Ismail Khan', 'Mardan',\n",
       "       'Mansehra', 'Dera Ghazi Khan', 'Peshawar', 'Charsadda', 'Buner',\n",
       "       'Mardan ', 'Hangu ', 'Mirpur', 'Multan', 'Nagar', 'Khyber',\n",
       "       'Rawalpindi', 'Jehlum', 'Gujrat ', 'Gujranwala', 'Karak', 'Dadu',\n",
       "       'South Waziristan', 'Sargodha', 'Faisalabad', 'Mandi Bahauddin',\n",
       "       'Rahim yar khan', 'Astore', 'Swabi', 'Gujrat', 'Kharmang',\n",
       "       'Dir Upper', 'Swat', 'Mianwali', 'Narowal', 'Nankana', 'Attock',\n",
       "       'Bahawal Nagar', 'Shigar', 'Larkana', 'Shangla', 'Nowshera',\n",
       "       'Orakzai', 'Malakand', 'Kohat', 'Khushab', 'Vehari', 'Raiwind',\n",
       "       'Dir Lower', 'Abbottabad', 'Bahawalpur', 'Rahim Yar Khan',\n",
       "       'Muzaffarabad', 'Ghanche', 'Bajaur', 'Bannu', 'Hafizabad', 'Kasur',\n",
       "       'Laiya', 'Jacobabad', 'Haripur', 'Kurrum', 'Bhambore ', 'Trarkhel',\n",
       "       'Tank', 'Lodhran', 'Sialkot', 'Hangu', 'Chiniot', 'Sheikhupura',\n",
       "       'Lakki Marwat', 'Torghar', 'Mohmand', 'North Waziristan', 'Okara',\n",
       "       'Toba Tek Singh', 'Jamshoro', 'Badin', 'Shaheed Benazirabad',\n",
       "       'Naushero Feroz', 'Shujawal', 'Sanghar', 'Tando M. Khan', 'Ghotki',\n",
       "       'Chakwal', 'Jhang', 'Bhakhar', 'Khairpur', 'Sujawal', 'Sahewal',\n",
       "       'Rajanpur', 'Muzaffargar', 'Khanewal', 'Pakpatan', 'Diamer',\n",
       "       'Shikarpur', 'Tando Alahyar', 'Umerkot', 'Kambar Shahdadkot',\n",
       "       'Kashmore', 'Mirpurkhas', 'Tharparkar', 'Thatta', 'Battagram',\n",
       "       'Chitral Lower', 'Chitral Upper', 'Tor Ghar', 'Kohistan upper',\n",
       "       'Kohistan Lower', 'Kolai Pallas', 'Matiari', 'Kurram', 'ISlamabad',\n",
       "       'islamabad', 'Pishin', 'Mohamand', 'Chitral', 'Kohistan Upper',\n",
       "       'Tor  Ghar', 'Dira Ismail Khan', 'Ziarat'], dtype=object)"
      ]
     },
     "execution_count": 12,
     "metadata": {},
     "output_type": "execute_result"
    }
   ],
   "source": [
    "# Checking the spellings and total number of variables in different columns , so can analyze the data better.\n",
    "df['City'].unique()"
   ]
  },
  {
   "cell_type": "code",
   "execution_count": 13,
   "metadata": {},
   "outputs": [],
   "source": [
    "#There is a spelling mistake in cities name (Islamabad)\n",
    "df['City'] = df['City'].replace('ISlamabad','islamabad')"
   ]
  },
  {
   "cell_type": "code",
   "execution_count": 14,
   "metadata": {},
   "outputs": [
    {
     "data": {
      "text/html": [
       "<div>\n",
       "<style scoped>\n",
       "    .dataframe tbody tr th:only-of-type {\n",
       "        vertical-align: middle;\n",
       "    }\n",
       "\n",
       "    .dataframe tbody tr th {\n",
       "        vertical-align: top;\n",
       "    }\n",
       "\n",
       "    .dataframe thead th {\n",
       "        text-align: right;\n",
       "    }\n",
       "</style>\n",
       "<table border=\"1\" class=\"dataframe\">\n",
       "  <thead>\n",
       "    <tr style=\"text-align: right;\">\n",
       "      <th></th>\n",
       "      <th>Date</th>\n",
       "      <th>Cases</th>\n",
       "      <th>Deaths</th>\n",
       "      <th>Recovered</th>\n",
       "      <th>Travel_history</th>\n",
       "      <th>Province</th>\n",
       "      <th>City</th>\n",
       "    </tr>\n",
       "  </thead>\n",
       "  <tbody>\n",
       "    <tr>\n",
       "      <th>1308</th>\n",
       "      <td>5/8/2020</td>\n",
       "      <td>37</td>\n",
       "      <td>0</td>\n",
       "      <td>0</td>\n",
       "      <td>Local - Social Contact</td>\n",
       "      <td>islamabad Capital Territory</td>\n",
       "      <td>Islamabad</td>\n",
       "    </tr>\n",
       "    <tr>\n",
       "      <th>1309</th>\n",
       "      <td>5/8/2020</td>\n",
       "      <td>838</td>\n",
       "      <td>12</td>\n",
       "      <td>0</td>\n",
       "      <td>Local - Social Contact</td>\n",
       "      <td>Punjab</td>\n",
       "      <td>Lahore</td>\n",
       "    </tr>\n",
       "    <tr>\n",
       "      <th>1310</th>\n",
       "      <td>5/8/2020</td>\n",
       "      <td>598</td>\n",
       "      <td>5</td>\n",
       "      <td>0</td>\n",
       "      <td>Local - Social Contact</td>\n",
       "      <td>Sindh</td>\n",
       "      <td>Karachi</td>\n",
       "    </tr>\n",
       "    <tr>\n",
       "      <th>1311</th>\n",
       "      <td>5/8/2020</td>\n",
       "      <td>62</td>\n",
       "      <td>2</td>\n",
       "      <td>13</td>\n",
       "      <td>Local - Social Contact</td>\n",
       "      <td>Baluchistan</td>\n",
       "      <td>Quetta</td>\n",
       "    </tr>\n",
       "    <tr>\n",
       "      <th>1312</th>\n",
       "      <td>5/8/2020</td>\n",
       "      <td>371</td>\n",
       "      <td>12</td>\n",
       "      <td>53</td>\n",
       "      <td>Local - Social Contact</td>\n",
       "      <td>Khyber Pakhtunkhwa</td>\n",
       "      <td>Peshawar</td>\n",
       "    </tr>\n",
       "    <tr>\n",
       "      <th>1313</th>\n",
       "      <td>5/8/2020</td>\n",
       "      <td>2</td>\n",
       "      <td>0</td>\n",
       "      <td>0</td>\n",
       "      <td>Local - Social Contact</td>\n",
       "      <td>Azad Jummu Kashmir</td>\n",
       "      <td>Muzaffarabad</td>\n",
       "    </tr>\n",
       "    <tr>\n",
       "      <th>1314</th>\n",
       "      <td>5/9/2020</td>\n",
       "      <td>51</td>\n",
       "      <td>0</td>\n",
       "      <td>0</td>\n",
       "      <td>Local - Social Contact</td>\n",
       "      <td>islamabad Capital Territory</td>\n",
       "      <td>Islamabad</td>\n",
       "    </tr>\n",
       "    <tr>\n",
       "      <th>1315</th>\n",
       "      <td>5/9/2020</td>\n",
       "      <td>1060</td>\n",
       "      <td>0</td>\n",
       "      <td>0</td>\n",
       "      <td>Local - Social Contact</td>\n",
       "      <td>Punjab</td>\n",
       "      <td>Lahore</td>\n",
       "    </tr>\n",
       "    <tr>\n",
       "      <th>1316</th>\n",
       "      <td>5/9/2020</td>\n",
       "      <td>1080</td>\n",
       "      <td>5</td>\n",
       "      <td>0</td>\n",
       "      <td>Local - Social Contact</td>\n",
       "      <td>Sindh</td>\n",
       "      <td>Karachi</td>\n",
       "    </tr>\n",
       "    <tr>\n",
       "      <th>1317</th>\n",
       "      <td>5/9/2020</td>\n",
       "      <td>151</td>\n",
       "      <td>0</td>\n",
       "      <td>13</td>\n",
       "      <td>Local - Social Contact</td>\n",
       "      <td>Baluchistan</td>\n",
       "      <td>Quetta</td>\n",
       "    </tr>\n",
       "    <tr>\n",
       "      <th>1318</th>\n",
       "      <td>5/9/2020</td>\n",
       "      <td>36</td>\n",
       "      <td>1</td>\n",
       "      <td>5</td>\n",
       "      <td>Local - Social Contact</td>\n",
       "      <td>Gilgit-Baltistan</td>\n",
       "      <td>Gilgit</td>\n",
       "    </tr>\n",
       "    <tr>\n",
       "      <th>1319</th>\n",
       "      <td>5/9/2020</td>\n",
       "      <td>182</td>\n",
       "      <td>13</td>\n",
       "      <td>53</td>\n",
       "      <td>Local - Social Contact</td>\n",
       "      <td>Khyber Pakhtunkhwa</td>\n",
       "      <td>Peshawar</td>\n",
       "    </tr>\n",
       "    <tr>\n",
       "      <th>1320</th>\n",
       "      <td>5/9/2020</td>\n",
       "      <td>1</td>\n",
       "      <td>0</td>\n",
       "      <td>0</td>\n",
       "      <td>Local - Social Contact</td>\n",
       "      <td>Azad Jummu Kashmir</td>\n",
       "      <td>Muzaffarabad</td>\n",
       "    </tr>\n",
       "    <tr>\n",
       "      <th>1321</th>\n",
       "      <td>5/10/2020</td>\n",
       "      <td>32</td>\n",
       "      <td>1</td>\n",
       "      <td>0</td>\n",
       "      <td>Local - Social Contact</td>\n",
       "      <td>islamabad Capital Territory</td>\n",
       "      <td>Islamabad</td>\n",
       "    </tr>\n",
       "    <tr>\n",
       "      <th>1322</th>\n",
       "      <td>5/10/2020</td>\n",
       "      <td>0</td>\n",
       "      <td>0</td>\n",
       "      <td>0</td>\n",
       "      <td>Local - Social Contact</td>\n",
       "      <td>Punjab</td>\n",
       "      <td>Lahore</td>\n",
       "    </tr>\n",
       "    <tr>\n",
       "      <th>1323</th>\n",
       "      <td>5/10/2020</td>\n",
       "      <td>709</td>\n",
       "      <td>8</td>\n",
       "      <td>29</td>\n",
       "      <td>Local - Social Contact</td>\n",
       "      <td>Sindh</td>\n",
       "      <td>Karachi</td>\n",
       "    </tr>\n",
       "    <tr>\n",
       "      <th>1324</th>\n",
       "      <td>5/10/2020</td>\n",
       "      <td>59</td>\n",
       "      <td>0</td>\n",
       "      <td>0</td>\n",
       "      <td>Local - Social Contact</td>\n",
       "      <td>Baluchistan</td>\n",
       "      <td>Quetta</td>\n",
       "    </tr>\n",
       "    <tr>\n",
       "      <th>1325</th>\n",
       "      <td>5/10/2020</td>\n",
       "      <td>12</td>\n",
       "      <td>0</td>\n",
       "      <td>1</td>\n",
       "      <td>Local - Social Contact</td>\n",
       "      <td>Gilgit-Baltistan</td>\n",
       "      <td>Gilgit</td>\n",
       "    </tr>\n",
       "    <tr>\n",
       "      <th>1326</th>\n",
       "      <td>5/10/2020</td>\n",
       "      <td>160</td>\n",
       "      <td>11</td>\n",
       "      <td>40</td>\n",
       "      <td>Local - Social Contact</td>\n",
       "      <td>Khyber Pakhtunkhwa</td>\n",
       "      <td>Peshawar</td>\n",
       "    </tr>\n",
       "    <tr>\n",
       "      <th>1327</th>\n",
       "      <td>5/10/2020</td>\n",
       "      <td>7</td>\n",
       "      <td>0</td>\n",
       "      <td>0</td>\n",
       "      <td>Local - Social Contact</td>\n",
       "      <td>Azad Jummu Kashmir</td>\n",
       "      <td>Muzaffarabad</td>\n",
       "    </tr>\n",
       "  </tbody>\n",
       "</table>\n",
       "</div>"
      ],
      "text/plain": [
       "           Date  Cases  Deaths  Recovered          Travel_history  \\\n",
       "1308   5/8/2020     37       0          0  Local - Social Contact   \n",
       "1309   5/8/2020    838      12          0  Local - Social Contact   \n",
       "1310   5/8/2020    598       5          0  Local - Social Contact   \n",
       "1311   5/8/2020     62       2         13  Local - Social Contact   \n",
       "1312   5/8/2020    371      12         53  Local - Social Contact   \n",
       "1313   5/8/2020      2       0          0  Local - Social Contact   \n",
       "1314   5/9/2020     51       0          0  Local - Social Contact   \n",
       "1315   5/9/2020   1060       0          0  Local - Social Contact   \n",
       "1316   5/9/2020   1080       5          0  Local - Social Contact   \n",
       "1317   5/9/2020    151       0         13  Local - Social Contact   \n",
       "1318   5/9/2020     36       1          5  Local - Social Contact   \n",
       "1319   5/9/2020    182      13         53  Local - Social Contact   \n",
       "1320   5/9/2020      1       0          0  Local - Social Contact   \n",
       "1321  5/10/2020     32       1          0  Local - Social Contact   \n",
       "1322  5/10/2020      0       0          0  Local - Social Contact   \n",
       "1323  5/10/2020    709       8         29  Local - Social Contact   \n",
       "1324  5/10/2020     59       0          0  Local - Social Contact   \n",
       "1325  5/10/2020     12       0          1  Local - Social Contact   \n",
       "1326  5/10/2020    160      11         40  Local - Social Contact   \n",
       "1327  5/10/2020      7       0          0  Local - Social Contact   \n",
       "\n",
       "                         Province          City  \n",
       "1308  islamabad Capital Territory     Islamabad  \n",
       "1309                       Punjab        Lahore  \n",
       "1310                        Sindh       Karachi  \n",
       "1311                  Baluchistan        Quetta  \n",
       "1312           Khyber Pakhtunkhwa      Peshawar  \n",
       "1313           Azad Jummu Kashmir  Muzaffarabad  \n",
       "1314  islamabad Capital Territory     Islamabad  \n",
       "1315                       Punjab        Lahore  \n",
       "1316                        Sindh       Karachi  \n",
       "1317                  Baluchistan        Quetta  \n",
       "1318             Gilgit-Baltistan        Gilgit  \n",
       "1319           Khyber Pakhtunkhwa      Peshawar  \n",
       "1320           Azad Jummu Kashmir  Muzaffarabad  \n",
       "1321  islamabad Capital Territory     Islamabad  \n",
       "1322                       Punjab        Lahore  \n",
       "1323                        Sindh       Karachi  \n",
       "1324                  Baluchistan        Quetta  \n",
       "1325             Gilgit-Baltistan        Gilgit  \n",
       "1326           Khyber Pakhtunkhwa      Peshawar  \n",
       "1327           Azad Jummu Kashmir  Muzaffarabad  "
      ]
     },
     "execution_count": 14,
     "metadata": {},
     "output_type": "execute_result"
    }
   ],
   "source": [
    "df.tail(20)"
   ]
  },
  {
   "cell_type": "code",
   "execution_count": 15,
   "metadata": {},
   "outputs": [
    {
     "data": {
      "text/plain": [
       "array(['China', 'Iran/Taftan', 'Unknown', 'Syria', 'UK',\n",
       "       'Local - Social Contact', 'USA', 'KSA', 'Local - Covid Relative',\n",
       "       'International Passenger', 'Dubai', 'Tableeghi Jamaat', 'Jail',\n",
       "       'Afghanistan', 'India'], dtype=object)"
      ]
     },
     "execution_count": 15,
     "metadata": {},
     "output_type": "execute_result"
    }
   ],
   "source": [
    "df['Travel_history'].unique()"
   ]
  },
  {
   "cell_type": "code",
   "execution_count": 16,
   "metadata": {},
   "outputs": [
    {
     "name": "stdout",
     "output_type": "stream",
     "text": [
      "Duplicate Rows:\n",
      "          Date  Cases  Deaths  Recovered          Travel_history  \\\n",
      "1163  5/1/2020      0       0          1  Local - Social Contact   \n",
      "\n",
      "              Province    City  \n",
      "1163  Gilgit-Baltistan  Gilgit  \n"
     ]
    }
   ],
   "source": [
    "# Checking if there are any duplicates in dataset\n",
    "duplicat_rows = df[df.duplicated()]\n",
    "if not duplicat_rows.empty:\n",
    "    print('Duplicate Rows:')\n",
    "    print (duplicat_rows)\n",
    "else:\n",
    "    print('No Duplicates')"
   ]
  },
  {
   "cell_type": "code",
   "execution_count": 17,
   "metadata": {},
   "outputs": [],
   "source": [
    "# Removing the duplicates from dataset \n",
    "df.drop_duplicates(inplace=True)"
   ]
  },
  {
   "cell_type": "code",
   "execution_count": 18,
   "metadata": {},
   "outputs": [
    {
     "name": "stdout",
     "output_type": "stream",
     "text": [
      "No Duplicates\n"
     ]
    }
   ],
   "source": [
    "# Checking The duplicate is removed and no left \n",
    "duplicat_rows = df[df.duplicated()]\n",
    "if not duplicat_rows.empty:\n",
    "    print('Duplicate Rows:')\n",
    "    print (duplicat_rows)\n",
    "else:\n",
    "    print('No Duplicates')"
   ]
  },
  {
   "cell_type": "code",
   "execution_count": 19,
   "metadata": {},
   "outputs": [
    {
     "data": {
      "text/plain": [
       "<seaborn.axisgrid.PairGrid at 0x1ba5e460e80>"
      ]
     },
     "execution_count": 19,
     "metadata": {},
     "output_type": "execute_result"
    },
    {
     "data": {
      "image/png": "[encoded data removed]",
      "text/plain": [
       "<Figure size 750x750 with 12 Axes>"
      ]
     },
     "metadata": {},
     "output_type": "display_data"
    }
   ],
   "source": [
    "# Visualing the variables to understand their co-relation with the target variable\n",
    "sns.pairplot(df)\n"
   ]
  },
  {
   "cell_type": "code",
   "execution_count": 20,
   "metadata": {},
   "outputs": [
    {
     "data": {
      "application/vnd.plotly.v1+json": {
       "config": {
        "plotlyServerURL": "https://plot.ly"
       },
       "data": [
        {
         "alignmentgroup": "True",
         "hovertemplate": "Deaths=%{x}<br>Province=%{y}<extra></extra>",
         "legendgroup": "",
         "marker": {
          "color": "#636efa",
          "pattern": {
           "shape": ""
          }
         },
         "name": "",
         "offsetgroup": "",
         "orientation": "h",
         "showlegend": false,
         "textposition": "auto",
         "type": "bar",
         "x": [
          0,
          0,
          0,
          0,
          0,
          0,
          0,
          0,
          0,
          0,
          0,
          0,
          0,
          0,
          0,
          0,
          0,
          0,
          0,
          0,
          0,
          0,
          1,
          0,
          0,
          0,
          0,
          0,
          0,
          0,
          0,
          0,
          0,
          0,
          0,
          0,
          0,
          0,
          0,
          0,
          0,
          0,
          0,
          0,
          1,
          1,
          0,
          0,
          0,
          0,
          0,
          0,
          0,
          0,
          0,
          0,
          0,
          1,
          0,
          0,
          0,
          0,
          0,
          0,
          0,
          0,
          0,
          0,
          0,
          0,
          0,
          0,
          0,
          0,
          0,
          0,
          0,
          0,
          0,
          0,
          0,
          0,
          0,
          0,
          0,
          0,
          0,
          0,
          0,
          0,
          1,
          0,
          0,
          0,
          0,
          1,
          0,
          0,
          0,
          0,
          0,
          0,
          0,
          0,
          0,
          0,
          0,
          0,
          0,
          0,
          0,
          0,
          0,
          0,
          0,
          0,
          1,
          0,
          0,
          0,
          0,
          0,
          0,
          0,
          0,
          0,
          0,
          1,
          0,
          0,
          0,
          0,
          0,
          0,
          0,
          0,
          0,
          0,
          0,
          0,
          0,
          0,
          0,
          0,
          0,
          0,
          0,
          0,
          0,
          0,
          0,
          0,
          0,
          1,
          0,
          0,
          0,
          0,
          0,
          0,
          0,
          0,
          0,
          0,
          0,
          0,
          0,
          0,
          0,
          0,
          0,
          2,
          0,
          0,
          1,
          0,
          0,
          0,
          0,
          0,
          0,
          0,
          0,
          0,
          0,
          0,
          0,
          0,
          0,
          0,
          0,
          1,
          0,
          0,
          0,
          0,
          0,
          0,
          0,
          0,
          0,
          0,
          0,
          0,
          0,
          0,
          1,
          0,
          2,
          1,
          0,
          0,
          0,
          0,
          1,
          0,
          1,
          0,
          0,
          0,
          0,
          0,
          4,
          0,
          0,
          0,
          0,
          0,
          0,
          0,
          0,
          0,
          0,
          0,
          0,
          3,
          0,
          0,
          0,
          0,
          0,
          0,
          0,
          0,
          0,
          0,
          0,
          0,
          0,
          0,
          0,
          0,
          0,
          0,
          0,
          1,
          0,
          0,
          0,
          0,
          1,
          1,
          0,
          0,
          0,
          0,
          0,
          0,
          0,
          0,
          0,
          0,
          0,
          0,
          1,
          0,
          0,
          1,
          0,
          0,
          0,
          0,
          0,
          0,
          0,
          0,
          0,
          0,
          0,
          1,
          1,
          1,
          0,
          1,
          0,
          0,
          1,
          0,
          0,
          0,
          0,
          0,
          0,
          0,
          0,
          0,
          0,
          0,
          0,
          0,
          0,
          0,
          0,
          0,
          0,
          0,
          0,
          0,
          3,
          0,
          0,
          0,
          0,
          0,
          0,
          1,
          1,
          0,
          0,
          0,
          0,
          0,
          0,
          0,
          0,
          0,
          0,
          0,
          0,
          0,
          0,
          0,
          3,
          1,
          0,
          0,
          0,
          0,
          0,
          0,
          0,
          0,
          0,
          0,
          0,
          0,
          0,
          0,
          0,
          0,
          0,
          2,
          0,
          0,
          0,
          0,
          0,
          0,
          0,
          0,
          0,
          0,
          0,
          0,
          0,
          0,
          0,
          0,
          0,
          1,
          0,
          0,
          0,
          0,
          0,
          0,
          0,
          0,
          2,
          0,
          0,
          3,
          0,
          0,
          0,
          0,
          0,
          0,
          0,
          0,
          0,
          0,
          0,
          0,
          0,
          0,
          0,
          0,
          0,
          0,
          0,
          0,
          0,
          0,
          1,
          0,
          1,
          0,
          0,
          0,
          0,
          0,
          1,
          0,
          0,
          0,
          0,
          0,
          0,
          0,
          0,
          0,
          0,
          0,
          0,
          2,
          0,
          0,
          0,
          0,
          0,
          0,
          0,
          0,
          0,
          0,
          0,
          0,
          0,
          0,
          0,
          0,
          0,
          0,
          0,
          0,
          0,
          0,
          1,
          0,
          0,
          0,
          0,
          0,
          0,
          0,
          0,
          0,
          1,
          0,
          1,
          0,
          0,
          1,
          1,
          0,
          0,
          0,
          0,
          0,
          0,
          0,
          0,
          0,
          0,
          0,
          0,
          1,
          0,
          0,
          0,
          0,
          1,
          0,
          0,
          0,
          0,
          0,
          0,
          0,
          0,
          0,
          1,
          0,
          0,
          1,
          0,
          0,
          0,
          0,
          0,
          0,
          0,
          0,
          0,
          0,
          0,
          0,
          0,
          0,
          0,
          0,
          0,
          0,
          0,
          0,
          0,
          0,
          0,
          0,
          1,
          0,
          0,
          0,
          0,
          0,
          0,
          0,
          0,
          0,
          1,
          0,
          0,
          0,
          0,
          0,
          1,
          0,
          0,
          0,
          1,
          0,
          0,
          0,
          0,
          0,
          0,
          0,
          0,
          0,
          0,
          0,
          4,
          1,
          1,
          0,
          0,
          0,
          0,
          0,
          0,
          0,
          0,
          0,
          6,
          0,
          0,
          3,
          0,
          0,
          0,
          0,
          0,
          0,
          0,
          0,
          0,
          2,
          0,
          1,
          1,
          1,
          0,
          0,
          0,
          0,
          0,
          0,
          0,
          0,
          0,
          0,
          0,
          0,
          0,
          0,
          2,
          0,
          0,
          0,
          0,
          0,
          0,
          0,
          0,
          0,
          0,
          0,
          1,
          0,
          0,
          1,
          0,
          0,
          1,
          1,
          0,
          0,
          0,
          0,
          0,
          0,
          0,
          0,
          0,
          0,
          0,
          0,
          0,
          0,
          0,
          0,
          0,
          0,
          0,
          0,
          3,
          1,
          0,
          3,
          0,
          0,
          0,
          0,
          0,
          0,
          0,
          0,
          0,
          0,
          0,
          0,
          0,
          0,
          0,
          4,
          0,
          0,
          0,
          0,
          0,
          0,
          0,
          0,
          0,
          0,
          0,
          0,
          0,
          0,
          0,
          0,
          0,
          0,
          0,
          0,
          0,
          0,
          0,
          0,
          0,
          0,
          0,
          0,
          0,
          0,
          0,
          0,
          0,
          1,
          0,
          0,
          0,
          0,
          5,
          1,
          4,
          0,
          0,
          0,
          0,
          0,
          0,
          0,
          0,
          0,
          0,
          0,
          0,
          0,
          0,
          0,
          0,
          0,
          0,
          0,
          0,
          0,
          0,
          0,
          2,
          0,
          2,
          1,
          0,
          0,
          0,
          0,
          0,
          0,
          0,
          0,
          0,
          0,
          0,
          0,
          0,
          0,
          0,
          7,
          0,
          0,
          0,
          0,
          0,
          0,
          0,
          0,
          0,
          0,
          0,
          0,
          4,
          0,
          0,
          0,
          0,
          0,
          0,
          0,
          0,
          0,
          0,
          0,
          0,
          0,
          0,
          0,
          2,
          0,
          0,
          0,
          0,
          0,
          0,
          0,
          0,
          0,
          0,
          0,
          0,
          0,
          2,
          0,
          0,
          0,
          0,
          0,
          0,
          0,
          0,
          0,
          0,
          0,
          0,
          0,
          1,
          1,
          0,
          0,
          0,
          0,
          0,
          5,
          0,
          0,
          0,
          0,
          4,
          0,
          0,
          0,
          0,
          0,
          0,
          0,
          8,
          0,
          0,
          0,
          0,
          0,
          2,
          1,
          1,
          4,
          1,
          1,
          0,
          0,
          0,
          0,
          0,
          0,
          0,
          0,
          0,
          0,
          0,
          0,
          0,
          0,
          0,
          0,
          0,
          0,
          0,
          0,
          0,
          0,
          0,
          0,
          0,
          0,
          0,
          0,
          0,
          0,
          1,
          5,
          0,
          0,
          0,
          0,
          1,
          5,
          1,
          2,
          2,
          0,
          0,
          0,
          0,
          1,
          0,
          0,
          0,
          0,
          5,
          0,
          0,
          0,
          0,
          1,
          1,
          0,
          0,
          0,
          0,
          0,
          0,
          0,
          0,
          2,
          5,
          9,
          0,
          0,
          0,
          0,
          0,
          7,
          0,
          0,
          0,
          0,
          0,
          0,
          0,
          0,
          2,
          1,
          0,
          0,
          0,
          0,
          0,
          1,
          0,
          0,
          0,
          0,
          0,
          0,
          0,
          0,
          0,
          0,
          0,
          1,
          1,
          0,
          0,
          3,
          0,
          1,
          0,
          0,
          0,
          0,
          0,
          0,
          0,
          0,
          0,
          0,
          0,
          0,
          0,
          1,
          1,
          0,
          0,
          0,
          0,
          0,
          0,
          0,
          0,
          0,
          0,
          0,
          0,
          0,
          0,
          0,
          0,
          0,
          0,
          0,
          0,
          0,
          0,
          0,
          0,
          0,
          0,
          0,
          0,
          0,
          0,
          0,
          0,
          0,
          0,
          0,
          2,
          0,
          0,
          2,
          0,
          0,
          0,
          0,
          0,
          0,
          0,
          0,
          0,
          2,
          0,
          4,
          0,
          0,
          0,
          0,
          0,
          0,
          0,
          0,
          0,
          0,
          0,
          0,
          0,
          0,
          0,
          3,
          3,
          0,
          0,
          0,
          0,
          0,
          0,
          0,
          0,
          0,
          0,
          0,
          0,
          0,
          0,
          2,
          4,
          0,
          0,
          0,
          0,
          0,
          0,
          0,
          0,
          0,
          0,
          0,
          0,
          0,
          0,
          0,
          0,
          5,
          0,
          3,
          0,
          0,
          0,
          0,
          0,
          0,
          0,
          0,
          0,
          0,
          0,
          0,
          0,
          3,
          5,
          1,
          0,
          0,
          0,
          4,
          0,
          0,
          0,
          0,
          0,
          0,
          0,
          0,
          0,
          0,
          0,
          0,
          0,
          0,
          0,
          0,
          0,
          3,
          0,
          4,
          1,
          1,
          0,
          0,
          0,
          0,
          0,
          0,
          0,
          0,
          0,
          0,
          0,
          0,
          10,
          0,
          0,
          5,
          0,
          0,
          0,
          0,
          0,
          3,
          8,
          0,
          0,
          0,
          0,
          0,
          0,
          0,
          0,
          0,
          8,
          0,
          3,
          12,
          0,
          0,
          0,
          0,
          0,
          0,
          0,
          0,
          0,
          0,
          0,
          0,
          0,
          0,
          0,
          6,
          0,
          2,
          0,
          0,
          0,
          15,
          0,
          0,
          0,
          0,
          0,
          0,
          0,
          0,
          0,
          0,
          0,
          0,
          0,
          0,
          0,
          0,
          0,
          0,
          0,
          0,
          0,
          0,
          0,
          0,
          0,
          0,
          0,
          0,
          0,
          0,
          0,
          0,
          0,
          0,
          0,
          0,
          9,
          0,
          1,
          0,
          0,
          0,
          0,
          1,
          0,
          0,
          0,
          0,
          0,
          0,
          0,
          0,
          0,
          0,
          0,
          0,
          0,
          0,
          0,
          0,
          0,
          0,
          0,
          0,
          0,
          0,
          0,
          0,
          0,
          0,
          0,
          0,
          0,
          4,
          9,
          0,
          9,
          5,
          0,
          0,
          8,
          0,
          8,
          0,
          12,
          7,
          0,
          0,
          3,
          0,
          0,
          0,
          0,
          0,
          1,
          0,
          0,
          0,
          0,
          0,
          0,
          0,
          0,
          0,
          0,
          0,
          0,
          0,
          0,
          0,
          0,
          0,
          0,
          0,
          0,
          0,
          0,
          1,
          0,
          0,
          0,
          0,
          0,
          0,
          8,
          11,
          0,
          0,
          9,
          0,
          0,
          31,
          9,
          0,
          0,
          9,
          0,
          0,
          7,
          14,
          1,
          0,
          6,
          0,
          12,
          5,
          2,
          12,
          0,
          0,
          0,
          5,
          0,
          1,
          13,
          0,
          1,
          0,
          8,
          0,
          0,
          11,
          0
         ],
         "xaxis": "x",
         "y": [
          "Islamabad Capital Territory",
          "Sindh",
          "Islamabad Capital Territory",
          "Sindh",
          "Gilgit-Baltistan",
          "Sindh",
          "Sindh",
          "Sindh",
          "Sindh",
          "Sindh",
          "Sindh",
          "Baluchistan",
          "Gilgit-Baltistan",
          "Sindh",
          "Gilgit-Baltistan",
          "Islamabad Capital Territory",
          "Sindh",
          "Baluchistan",
          "Sindh",
          "Sindh",
          "Punjab",
          "Khyber Pakhtunkhwa",
          "Khyber Pakhtunkhwa",
          "Sindh",
          "Sindh",
          "Sindh",
          "Punjab",
          "Islamabad Capital Territory",
          "khyber Pakhtunkhwa",
          "Khyber Pakhtunkhwa",
          "Punjab",
          "Sindh",
          "Sindh",
          "Punjab",
          "khyber Pakhtunkhwa",
          "Khyber Pakhtunkhwa",
          "Baluchistan",
          "Islamabad Capital Territory",
          "Islamabad Capital Territory",
          "Punjab",
          "Sindh",
          "Sindh",
          "Gilgit-Baltistan",
          "Khyber Pakhtunkhwa",
          "Khyber Pakhtunkhwa",
          "Khyber Pakhtunkhwa",
          "Azad Jummu Kashmir",
          "Punjab",
          "Punjab",
          "Punjab",
          "Sindh",
          "Baluchistan",
          "Khyber Pakhtunkhwa",
          "Khyber Pakhtunkhwa",
          "Gilgit-Baltistan",
          "Gilgit-Baltistan",
          "Baluchistan",
          "Sindh",
          "Khyber Pakhtunkhwa",
          "Federal Administration Tribal Area",
          "Punjab",
          "Punjab",
          "Punjab",
          "Punjab",
          "Punjab",
          "Gilgit-Baltistan",
          "Gilgit-Baltistan",
          "Sindh",
          "Islamabad Capital Territory",
          "Baluchistan",
          "Sindh",
          "Sindh",
          "Gilgit-Baltistan",
          "Punjab",
          "Punjab",
          "Punjab",
          "Punjab",
          "Khyber Pakhtunkhwa",
          "Khyber Pakhtunkhwa",
          "Khyber Pakhtunkhwa",
          "Khyber Pakhtunkhwa",
          "Khyber Pakhtunkhwa",
          "Gilgit-Baltistan",
          "Sindh",
          "Sindh",
          "Islamabad Capital Territory",
          "Punjab",
          "Punjab",
          "Punjab",
          "Punjab",
          "Baluchistan",
          "Sindh",
          "Sindh",
          "Sindh",
          "Baluchistan",
          "Gilgit-Baltistan",
          "Punjab",
          "Punjab",
          "Khyber Pakhtunkhwa",
          "Sindh",
          "Sindh",
          "Sindh",
          "Gilgit-Baltistan",
          "Khyber Pakhtunkhwa",
          "Federal Administration Tribal Area",
          "Khyber Pakhtunkhwa",
          "Baluchistan",
          "Punjab",
          "Punjab",
          "Punjab",
          "Punjab",
          "Punjab",
          "Punjab",
          "Punjab",
          "Punjab",
          "Sindh",
          "Punjab",
          "Islamabad Capital Territory",
          "Sindh",
          "Sindh",
          "Baluchistan",
          "Gilgit-Baltistan",
          "Khyber Pakhtunkhwa",
          "Khyber Pakhtunkhwa",
          "Khyber Pakhtunkhwa",
          "Punjab",
          "Punjab",
          "Punjab",
          "Punjab",
          "Punjab",
          "Baluchistan",
          "Gilgit-Baltistan",
          "Gilgit-Baltistan",
          "Khyber Pakhtunkhwa",
          "Khyber Pakhtunkhwa",
          "Azad Jummu Kashmir",
          "Islamabad Capital Territory",
          "Sindh",
          "Khyber Pakhtunkhwa",
          "Baluchistan",
          "Gilgit-Baltistan",
          "Punjab",
          "Punjab",
          "Punjab",
          "Punjab",
          "Punjab",
          "Punjab",
          "Punjab",
          "Punjab",
          "Punjab",
          "Punjab",
          "Punjab",
          "Punjab",
          "Punjab",
          "Islamabad Capital Territory",
          "Gilgit-Baltistan",
          "Gilgit-Baltistan",
          "Sindh",
          "Sindh",
          "Khyber Pakhtunkhwa",
          "Khyber Pakhtunkhwa",
          "Khyber Pakhtunkhwa",
          "Khyber Pakhtunkhwa",
          "Khyber Pakhtunkhwa",
          "Khyber Pakhtunkhwa",
          "Khyber Pakhtunkhwa",
          "Khyber Pakhtunkhwa",
          "Khyber Pakhtunkhwa",
          "Khyber Pakhtunkhwa",
          "Punjab",
          "Punjab",
          "Punjab",
          "Baluchistan",
          "Punjab",
          "Khyber Pakhtunkhwa",
          "Khyber Pakhtunkhwa",
          "Khyber Pakhtunkhwa",
          "Punjab",
          "Punjab",
          "Punjab",
          "Punjab",
          "Punjab",
          "Punjab",
          "Punjab",
          "Punjab",
          "Punjab",
          "Punjab",
          "Punjab",
          "Punjab",
          "Punjab",
          "Islamabad Capital Territory",
          "Sindh",
          "Sindh",
          "Baluchistan",
          "Gilgit-Baltistan",
          "Khyber Pakhtunkhwa",
          "Khyber Pakhtunkhwa",
          "Islamabad Capital Territory",
          "Punjab",
          "Punjab",
          "Punjab",
          "Punjab",
          "Punjab",
          "Punjab",
          "Punjab",
          "Punjab",
          "Punjab",
          "Azad Jummu Kashmir",
          "Sindh",
          "Gilgit-Baltistan",
          "Gilgit-Baltistan",
          "Gilgit-Baltistan",
          "Gilgit-Baltistan",
          "Gilgit-Baltistan",
          "Khyber Pakhtunkhwa",
          "Khyber Pakhtunkhwa",
          "Khyber Pakhtunkhwa",
          "Islamabad Capital Territory",
          "Punjab",
          "Punjab",
          "Punjab",
          "Punjab",
          "Sindh",
          "Sindh",
          "Baluchistan",
          "Gilgit-Baltistan",
          "Federal Administration Tribal Area",
          "Khyber Pakhtunkhwa",
          "Khyber Pakhtunkhwa",
          "Khyber Pakhtunkhwa",
          "Khyber Pakhtunkhwa",
          "Khyber Pakhtunkhwa",
          "Khyber Pakhtunkhwa",
          "Khyber Pakhtunkhwa",
          "Islamabad Capital Territory",
          "Punjab",
          "Punjab",
          "Punjab",
          "Punjab",
          "Punjab",
          "Punjab",
          "Punjab",
          "Sindh",
          "Sindh",
          "Sindh",
          "Sindh",
          "Baluchistan",
          "Gilgit-Baltistan",
          "Khyber Pakhtunkhwa",
          "Federal Administration Tribal Area",
          "Khyber Pakhtunkhwa",
          "Khyber Pakhtunkhwa",
          "Khyber Pakhtunkhwa",
          "Khyber Pakhtunkhwa",
          "Federal Administration Tribal Area",
          "Khyber Pakhtunkhwa",
          "Khyber Pakhtunkhwa",
          "Islamabad Capital Territory",
          "Azad Jummu Kashmir",
          "Azad Jummu Kashmir",
          "Khyber Pakhtunkhwa",
          "Khyber Pakhtunkhwa",
          "Khyber Pakhtunkhwa",
          "Khyber Pakhtunkhwa",
          "Khyber Pakhtunkhwa",
          "Khyber Pakhtunkhwa",
          "Federal Administration Tribal Area",
          "Khyber Pakhtunkhwa",
          "Federal Administration Tribal Area",
          "Khyber Pakhtunkhwa",
          "Khyber Pakhtunkhwa",
          "Khyber Pakhtunkhwa",
          "Khyber Pakhtunkhwa",
          "Federal Administration Tribal Area",
          "Sindh",
          "Punjab",
          "Punjab",
          "Punjab",
          "Baluchistan",
          "Punjab",
          "Punjab",
          "Punjab",
          "Punjab",
          "Punjab",
          "Punjab",
          "Punjab",
          "Punjab",
          "Punjab",
          "Punjab",
          "Gilgit-Baltistan",
          "Sindh",
          "Sindh",
          "Sindh",
          "Punjab",
          "Islamabad Capital Territory",
          "Baluchistan",
          "Khyber Pakhtunkhwa",
          "Khyber Pakhtunkhwa",
          "Khyber Pakhtunkhwa",
          "Khyber Pakhtunkhwa",
          "Khyber Pakhtunkhwa",
          "Khyber Pakhtunkhwa",
          "Khyber Pakhtunkhwa",
          "Khyber Pakhtunkhwa",
          "Khyber Pakhtunkhwa",
          "Khyber Pakhtunkhwa",
          "Khyber Pakhtunkhwa",
          "Punjab",
          "Punjab",
          "Punjab",
          "Punjab",
          "Punjab",
          "Punjab",
          "Punjab",
          "Gilgit-Baltistan",
          "Gilgit-Baltistan",
          "Gilgit-Baltistan",
          "Islamabad Capital Territory",
          "Sindh",
          "Khyber Pakhtunkhwa",
          "Baluchistan",
          "Khyber Pakhtunkhwa",
          "Khyber Pakhtunkhwa",
          "Khyber Pakhtunkhwa",
          "Khyber Pakhtunkhwa",
          "Khyber Pakhtunkhwa",
          "Khyber Pakhtunkhwa",
          "Punjab",
          "Punjab",
          "Punjab",
          "Punjab",
          "Punjab",
          "Punjab",
          "Punjab",
          "Punjab",
          "Punjab",
          "Punjab",
          "Punjab",
          "Punjab",
          "Punjab",
          "Punjab",
          "Islamabad Capital Territory",
          "Khyber Pakhtunkhwa",
          "Punjab",
          "Khyber Pakhtunkhwa",
          "Khyber Pakhtunkhwa",
          "Khyber Pakhtunkhwa",
          "Khyber Pakhtunkhwa",
          "Federal Administration Tribal Area",
          "Khyber Pakhtunkhwa",
          "Khyber Pakhtunkhwa",
          "Khyber Pakhtunkhwa",
          "Khyber Pakhtunkhwa",
          "Sindh",
          "Baluchistan",
          "Khyber Pakhtunkhwa",
          "Azad Jummu Kashmir",
          "Gilgit-Baltistan",
          "Gilgit-Baltistan",
          "Gilgit-Baltistan",
          "Islamabad Capital Territory",
          "Khyber Pakhtunkhwa",
          "Khyber Pakhtunkhwa",
          "Khyber Pakhtunkhwa",
          "Khyber Pakhtunkhwa",
          "Khyber Pakhtunkhwa",
          "Khyber Pakhtunkhwa",
          "Khyber Pakhtunkhwa",
          "Khyber Pakhtunkhwa",
          "Khyber Pakhtunkhwa",
          "Khyber Pakhtunkhwa",
          "Khyber Pakhtunkhwa",
          "Khyber Pakhtunkhwa",
          "Federal Administration Tribal Area",
          "Khyber Pakhtunkhwa",
          "Khyber Pakhtunkhwa",
          "Khyber Pakhtunkhwa",
          "Federal Administration Tribal Area",
          "Federal Administration Tribal Area",
          "Sindh",
          "Azad Jummu Kashmir",
          "Baluchistan",
          "Gilgit-Baltistan",
          "Punjab",
          "Punjab",
          "Punjab",
          "Gilgit-Baltistan",
          "Gilgit-Baltistan",
          "Sindh",
          "Sindh",
          "Baluchistan",
          "Punjab",
          "Punjab",
          "Gilgit-Baltistan",
          "Gilgit-Baltistan",
          "Azad Jummu Kashmir",
          "Khyber Pakhtunkhwa",
          "Khyber Pakhtunkhwa",
          "Khyber Pakhtunkhwa",
          "Khyber Pakhtunkhwa",
          "Khyber Pakhtunkhwa",
          "Khyber Pakhtunkhwa",
          "Khyber Pakhtunkhwa",
          "Khyber Pakhtunkhwa",
          "Khyber Pakhtunkhwa",
          "Federal Administration Tribal Area",
          "Khyber Pakhtunkhwa",
          "Khyber Pakhtunkhwa",
          "Khyber Pakhtunkhwa",
          "Khyber Pakhtunkhwa",
          "Khyber Pakhtunkhwa",
          "Khyber Pakhtunkhwa",
          "Khyber Pakhtunkhwa",
          "Federal Administration Tribal Area",
          "Islamabad Capital Territory",
          "Punjab",
          "Sindh",
          "Sindh",
          "Baluchistan",
          "Gilgit-Baltistan",
          "Gilgit-Baltistan",
          "Khyber Pakhtunkhwa",
          "Khyber Pakhtunkhwa",
          "Khyber Pakhtunkhwa",
          "Federal Administration Tribal Area",
          "Khyber Pakhtunkhwa",
          "Khyber Pakhtunkhwa",
          "Khyber Pakhtunkhwa",
          "Khyber Pakhtunkhwa",
          "Federal Administration Tribal Area",
          "Federal Administration Tribal Area",
          "Khyber Pakhtunkhwa",
          "Khyber Pakhtunkhwa",
          "Khyber Pakhtunkhwa",
          "Azad Jummu Kashmir",
          "Punjab",
          "Punjab",
          "Punjab",
          "Punjab",
          "Punjab",
          "Punjab",
          "Punjab",
          "Punjab",
          "Punjab",
          "Punjab",
          "Punjab",
          "Punjab",
          "Punjab",
          "Punjab",
          "Punjab",
          "Punjab",
          "Punjab",
          "Punjab",
          "Punjab",
          "Punjab",
          "Punjab",
          "Punjab",
          "Punjab",
          "Sindh",
          "Sindh",
          "Sindh",
          "Sindh",
          "Sindh",
          "Sindh",
          "Sindh",
          "Sindh",
          "Sindh",
          "Sindh",
          "Sindh",
          "Sindh",
          "Baluchistan",
          "Gilgit-Baltistan",
          "Khyber Pakhtunkhwa",
          "Khyber Pakhtunkhwa",
          "Khyber Pakhtunkhwa",
          "Khyber Pakhtunkhwa",
          "Khyber Pakhtunkhwa",
          "Khyber Pakhtunkhwa",
          "Federal Administration Tribal Area",
          "Federal Administration Tribal Area",
          "Khyber Pakhtunkhwa",
          "Khyber Pakhtunkhwa",
          "Khyber Pakhtunkhwa",
          "Khyber Pakhtunkhwa",
          "Azad Jummu Kashmir",
          "Islamabad Capital Territory",
          "Punjab",
          "Punjab",
          "Punjab",
          "Punjab",
          "Punjab",
          "Sindh",
          "Sindh",
          "Sindh",
          "Baluchistan",
          "Gilgit-Baltistan",
          "Khyber Pakhtunkhwa",
          "Khyber Pakhtunkhwa",
          "Khyber Pakhtunkhwa",
          "Khyber Pakhtunkhwa",
          "Khyber Pakhtunkhwa",
          "Khyber Pakhtunkhwa",
          "Khyber Pakhtunkhwa",
          "Khyber Pakhtunkhwa",
          "Khyber Pakhtunkhwa",
          "Khyber Pakhtunkhwa",
          "Khyber Pakhtunkhwa",
          "Khyber Pakhtunkhwa",
          "Khyber Pakhtunkhwa",
          "Federal Administration Tribal Area",
          "Azad Jummu Kashmir",
          "Punjab",
          "Punjab",
          "Punjab",
          "Punjab",
          "Punjab",
          "Punjab",
          "Punjab",
          "Punjab",
          "Punjab",
          "Punjab",
          "Punjab",
          "Punjab",
          "Punjab",
          "Punjab",
          "Punjab",
          "Punjab",
          "Punjab",
          "Punjab",
          "Punjab",
          "Sindh",
          "Sindh",
          "Baluchistan",
          "Gilgit-Baltistan",
          "Khyber Pakhtunkhwa",
          "Khyber Pakhtunkhwa",
          "Federal Administration Tribal Area",
          "Khyber Pakhtunkhwa",
          "Khyber Pakhtunkhwa",
          "Khyber Pakhtunkhwa",
          "Khyber Pakhtunkhwa",
          "Khyber Pakhtunkhwa",
          "Khyber Pakhtunkhwa",
          "Khyber Pakhtunkhwa",
          "Khyber Pakhtunkhwa",
          "Khyber Pakhtunkhwa",
          "Khyber Pakhtunkhwa",
          "Khyber Pakhtunkhwa",
          "Khyber Pakhtunkhwa",
          "Khyber Pakhtunkhwa",
          "Khyber Pakhtunkhwa",
          "Khyber Pakhtunkhwa",
          "Khyber Pakhtunkhwa",
          "Azad Jummu Kashmir",
          "Punjab",
          "Punjab",
          "Punjab",
          "Punjab",
          "Gilgit-Baltistan",
          "Gilgit-Baltistan",
          "Azad Jummu Kashmir",
          "Baluchistan",
          "Khyber Pakhtunkhwa",
          "Khyber Pakhtunkhwa",
          "Khyber Pakhtunkhwa",
          "Khyber Pakhtunkhwa",
          "Khyber Pakhtunkhwa",
          "Khyber Pakhtunkhwa",
          "Khyber Pakhtunkhwa",
          "Khyber Pakhtunkhwa",
          "Khyber Pakhtunkhwa",
          "Khyber Pakhtunkhwa",
          "Khyber Pakhtunkhwa",
          "Khyber Pakhtunkhwa",
          "Sindh",
          "Sindh",
          "Sindh",
          "Punjab",
          "Punjab",
          "Punjab",
          "Punjab",
          "Punjab",
          "Punjab",
          "Punjab",
          "Punjab",
          "Punjab",
          "Islamabad Capital Territory",
          "Sindh",
          "Sindh",
          "Khyber Pakhtunkhwa",
          "Khyber Pakhtunkhwa",
          "Khyber Pakhtunkhwa",
          "Khyber Pakhtunkhwa",
          "Khyber Pakhtunkhwa",
          "Khyber Pakhtunkhwa",
          "Khyber Pakhtunkhwa",
          "Khyber Pakhtunkhwa",
          "Federal Administration Tribal Area",
          "Khyber Pakhtunkhwa",
          "Khyber Pakhtunkhwa",
          "Khyber Pakhtunkhwa",
          "Khyber Pakhtunkhwa",
          "Federal Administration Tribal Area",
          "Federal Administration Tribal Area",
          "Baluchistan",
          "Azad Jummu Kashmir",
          "Punjab",
          "Punjab",
          "Punjab",
          "Punjab",
          "Punjab",
          "Punjab",
          "Punjab",
          "Punjab",
          "Punjab",
          "Punjab",
          "Islamabad Capital Territory",
          "Punjab",
          "Punjab",
          "Punjab",
          "Punjab",
          "Sindh",
          "Sindh",
          "Sindh",
          "Khyber Pakhtunkhwa",
          "Khyber Pakhtunkhwa",
          "Khyber Pakhtunkhwa",
          "Khyber Pakhtunkhwa",
          "Federal Administration Tribal Area",
          "Khyber Pakhtunkhwa",
          "Federal Administration Tribal Area",
          "Khyber Pakhtunkhwa",
          "Khyber Pakhtunkhwa",
          "Khyber Pakhtunkhwa",
          "Khyber Pakhtunkhwa",
          "Khyber Pakhtunkhwa",
          "Khyber Pakhtunkhwa",
          "Federal Administration Tribal Area",
          "Khyber Pakhtunkhwa",
          "Azad Jummu Kashmir",
          "Baluchistan",
          "Gilgit-Baltistan",
          "Gilgit-Baltistan",
          "Gilgit-Baltistan",
          "Gilgit-Baltistan",
          "Baluchistan",
          "Sindh",
          "Sindh",
          "Sindh",
          "Khyber Pakhtunkhwa",
          "Khyber Pakhtunkhwa",
          "Khyber Pakhtunkhwa",
          "Khyber Pakhtunkhwa",
          "Khyber Pakhtunkhwa",
          "Khyber Pakhtunkhwa",
          "Khyber Pakhtunkhwa",
          "Federal Administration Tribal Area",
          "Khyber Pakhtunkhwa",
          "Khyber Pakhtunkhwa",
          "Khyber Pakhtunkhwa",
          "Federal Administration Tribal Area",
          "Khyber Pakhtunkhwa",
          "Khyber Pakhtunkhwa",
          "Khyber Pakhtunkhwa",
          "Khyber Pakhtunkhwa",
          "Punjab",
          "Punjab",
          "Punjab",
          "Punjab",
          "Punjab",
          "Punjab",
          "Punjab",
          "Punjab",
          "Punjab",
          "Punjab",
          "Punjab",
          "Punjab",
          "Punjab",
          "Punjab",
          "Punjab",
          "Punjab",
          "Punjab",
          "Punjab",
          "Punjab",
          "Punjab",
          "Punjab",
          "Punjab",
          "Punjab",
          "Punjab",
          "Punjab",
          "Punjab",
          "Punjab",
          "Islamabad Capital Territory",
          "Azad Jummu Kashmir",
          "Gilgit-Baltistan",
          "Gilgit-Baltistan",
          "Gilgit-Baltistan",
          "Gilgit-Baltistan",
          "Gilgit-Baltistan",
          "Baluchistan",
          "Sindh",
          "Sindh",
          "Sindh",
          "Sindh",
          "Sindh",
          "Sindh",
          "Khyber Pakhtunkhwa",
          "Khyber Pakhtunkhwa",
          "Khyber Pakhtunkhwa",
          "Khyber Pakhtunkhwa",
          "Khyber Pakhtunkhwa",
          "Khyber Pakhtunkhwa",
          "Khyber Pakhtunkhwa",
          "Khyber Pakhtunkhwa",
          "Khyber Pakhtunkhwa",
          "Federal Administration Tribal Area",
          "Khyber Pakhtunkhwa",
          "Khyber Pakhtunkhwa",
          "Punjab",
          "Punjab",
          "Punjab",
          "Punjab",
          "Punjab",
          "Punjab",
          "Punjab",
          "Punjab",
          "Punjab",
          "Punjab",
          "Punjab",
          "Punjab",
          "Baluchistan",
          "Islamabad Capital Territory",
          "Khyber Pakhtunkhwa",
          "Khyber Pakhtunkhwa",
          "Khyber Pakhtunkhwa",
          "Khyber Pakhtunkhwa",
          "Khyber Pakhtunkhwa",
          "Khyber Pakhtunkhwa",
          "Khyber Pakhtunkhwa",
          "Federal Administration Tribal Area",
          "Khyber Pakhtunkhwa",
          "Khyber Pakhtunkhwa",
          "Khyber Pakhtunkhwa",
          "Khyber Pakhtunkhwa",
          "Khyber Pakhtunkhwa",
          "Federal Administration Tribal Area",
          "Khyber Pakhtunkhwa",
          "Khyber Pakhtunkhwa",
          "Gilgit-Baltistan",
          "Punjab",
          "Punjab",
          "Punjab",
          "Punjab",
          "Punjab",
          "Punjab",
          "Punjab",
          "Punjab",
          "Punjab",
          "Punjab",
          "Punjab",
          "Punjab",
          "Punjab",
          "Sindh",
          "Sindh",
          "Sindh",
          "Sindh",
          "Sindh",
          "Sindh",
          "Sindh",
          "Sindh",
          "Sindh",
          "Sindh",
          "Sindh",
          "Sindh",
          "Sindh",
          "Sindh",
          "Sindh",
          "Islamabad Capital Territory",
          "Sindh",
          "Sindh",
          "Sindh",
          "Sindh",
          "Sindh",
          "Sindh",
          "Sindh",
          "Sindh",
          "Sindh",
          "Sindh",
          "Azad Jummu Kashmir",
          "Gilgit-Baltistan",
          "Baluchistan",
          "Baluchistan",
          "Punjab",
          "Punjab",
          "Punjab",
          "Punjab",
          "Punjab",
          "Punjab",
          "Punjab",
          "Punjab",
          "Punjab",
          "Punjab",
          "Punjab",
          "Punjab",
          "Punjab",
          "Punjab",
          "Islamabad Capital Territory",
          "Sindh",
          "Sindh",
          "Sindh",
          "Sindh",
          "Sindh",
          "Sindh",
          "Khyber Pakhtunkhwa",
          "Khyber Pakhtunkhwa",
          "Gilgit-Baltistan",
          "Baluchistan",
          "Punjab",
          "Punjab",
          "Punjab",
          "Punjab",
          "Punjab",
          "Punjab",
          "Punjab",
          "Islamabad Capital Territory",
          "Punjab",
          "Sindh",
          "Sindh",
          "Sindh",
          "Sindh",
          "Azad Jummu Kashmir",
          "Gilgit-Baltistan",
          "Khyber Pakhtunkhwa",
          "Khyber Pakhtunkhwa",
          "Federal Administration Tribal Area",
          "Khyber Pakhtunkhwa",
          "Khyber Pakhtunkhwa",
          "Khyber Pakhtunkhwa",
          "Khyber Pakhtunkhwa",
          "Khyber Pakhtunkhwa",
          "Khyber Pakhtunkhwa",
          "Khyber Pakhtunkhwa",
          "Khyber Pakhtunkhwa",
          "Khyber Pakhtunkhwa",
          "Khyber Pakhtunkhwa",
          "Khyber Pakhtunkhwa",
          "Khyber Pakhtunkhwa",
          "Baluchistan",
          "Punjab",
          "Punjab",
          "Punjab",
          "Punjab",
          "Punjab",
          "Punjab",
          "Punjab",
          "Punjab",
          "Punjab",
          "Punjab",
          "Punjab",
          "Punjab",
          "Punjab",
          "Punjab",
          "Punjab",
          "Punjab",
          "Punjab",
          "Punjab",
          "Punjab",
          "Punjab",
          "Baluchistan",
          "Sindh",
          "Sindh",
          "Sindh",
          "Sindh",
          "Gilgit-Baltistan",
          "Punjab",
          "Khyber Pakhtunkhwa",
          "Khyber Pakhtunkhwa",
          "Khyber Pakhtunkhwa",
          "Khyber Pakhtunkhwa",
          "Khyber Pakhtunkhwa",
          "Khyber Pakhtunkhwa",
          "Khyber Pakhtunkhwa",
          "Khyber Pakhtunkhwa",
          "Islamabad Capital Territory",
          "Khyber Pakhtunkhwa",
          "Khyber Pakhtunkhwa",
          "Khyber Pakhtunkhwa",
          "Khyber Pakhtunkhwa",
          "Khyber Pakhtunkhwa",
          "Khyber Pakhtunkhwa",
          "Khyber Pakhtunkhwa",
          "Khyber Pakhtunkhwa",
          "Federal Administration Tribal Area",
          "Khyber Pakhtunkhwa",
          "Khyber Pakhtunkhwa",
          "Khyber Pakhtunkhwa",
          "Khyber Pakhtunkhwa",
          "Khyber Pakhtunkhwa",
          "Khyber Pakhtunkhwa",
          "Khyber Pakhtunkhwa",
          "Federal Administration Tribal Area",
          "Khyber Pakhtunkhwa",
          "Federal Administration Tribal Area",
          "Khyber Pakhtunkhwa",
          "Sindh",
          "Punjab",
          "Islamabad Capital Territory",
          "Azad Jummu Kashmir",
          "Gilgit-Baltistan",
          "Baluchistan",
          "Islamabad Capital Territory",
          "Punjab",
          "Sindh",
          "Sindh",
          "Sindh",
          "Sindh",
          "Sindh",
          "Sindh",
          "Sindh",
          "Sindh",
          "Sindh",
          "Sindh",
          "Baluchistan",
          "Gilgit-Baltistan",
          "Azad Jummu Kashmir",
          "Khyber Pakhtunkhwa",
          "Khyber Pakhtunkhwa",
          "Khyber Pakhtunkhwa",
          "Khyber Pakhtunkhwa",
          "Khyber Pakhtunkhwa",
          "Khyber Pakhtunkhwa",
          "Khyber Pakhtunkhwa",
          "Khyber Pakhtunkhwa",
          "Khyber Pakhtunkhwa",
          "Khyber Pakhtunkhwa",
          "Khyber Pakhtunkhwa",
          "Khyber Pakhtunkhwa",
          "Khyber Pakhtunkhwa",
          "Khyber Pakhtunkhwa",
          "Khyber Pakhtunkhwa",
          "Khyber Pakhtunkhwa",
          "Khyber Pakhtunkhwa",
          "Khyber Pakhtunkhwa",
          "Sindh",
          "Sindh",
          "Sindh",
          "Sindh",
          "Sindh",
          "Sindh",
          "Sindh",
          "Sindh",
          "Sindh",
          "Sindh",
          "Sindh",
          "Sindh",
          "Islamabad Capital Territory",
          "Gilgit-Baltistan",
          "Azad Jummu Kashmir",
          "Baluchistan",
          "Khyber Pakhtunkhwa",
          "Khyber Pakhtunkhwa",
          "Khyber Pakhtunkhwa",
          "Khyber Pakhtunkhwa",
          "Khyber Pakhtunkhwa",
          "Khyber Pakhtunkhwa",
          "Khyber Pakhtunkhwa",
          "Khyber Pakhtunkhwa",
          "Khyber Pakhtunkhwa",
          "Khyber Pakhtunkhwa",
          "Khyber Pakhtunkhwa",
          "Khyber Pakhtunkhwa",
          "Khyber Pakhtunkhwa",
          "Khyber Pakhtunkhwa",
          "Khyber Pakhtunkhwa",
          "Khyber Pakhtunkhwa",
          "Khyber Pakhtunkhwa",
          "Khyber Pakhtunkhwa",
          "Khyber Pakhtunkhwa",
          "Khyber Pakhtunkhwa",
          "Khyber Pakhtunkhwa",
          "Khyber Pakhtunkhwa",
          "Khyber Pakhtunkhwa",
          "Khyber Pakhtunkhwa",
          "Khyber Pakhtunkhwa",
          "Khyber Pakhtunkhwa",
          "Khyber Pakhtunkhwa",
          "Khyber Pakhtunkhwa",
          "Khyber Pakhtunkhwa",
          "Khyber Pakhtunkhwa",
          "Khyber Pakhtunkhwa",
          "Khyber Pakhtunkhwa",
          "Khyber Pakhtunkhwa",
          "Khyber Pakhtunkhwa",
          "Khyber Pakhtunkhwa",
          "Khyber Pakhtunkhwa",
          "Khyber Pakhtunkhwa",
          "Punjab",
          "Islamabad Capital Territory",
          "Gilgit-Baltistan",
          "Sindh",
          "Sindh",
          "Sindh",
          "Sindh",
          "Sindh",
          "Sindh",
          "Sindh",
          "Sindh",
          "Sindh",
          "Sindh",
          "Baluchistan",
          "Khyber Pakhtunkhwa",
          "Khyber Pakhtunkhwa",
          "Khyber Pakhtunkhwa",
          "Khyber Pakhtunkhwa",
          "Khyber Pakhtunkhwa",
          "Khyber Pakhtunkhwa",
          "Khyber Pakhtunkhwa",
          "Khyber Pakhtunkhwa",
          "Khyber Pakhtunkhwa",
          "Khyber Pakhtunkhwa",
          "Khyber Pakhtunkhwa",
          "Khyber Pakhtunkhwa",
          "Khyber Pakhtunkhwa",
          "Khyber Pakhtunkhwa",
          "Khyber Pakhtunkhwa",
          "Khyber Pakhtunkhwa",
          "Khyber Pakhtunkhwa",
          "Punjab",
          "Sindh",
          "Sindh",
          "Sindh",
          "Sindh",
          "Sindh",
          "Sindh",
          "Sindh",
          "Sindh",
          "Sindh",
          "Sindh",
          "Sindh",
          "Sindh",
          "Sindh",
          "Islamabad Capital Territory",
          "Gilgit-Baltistan",
          "Baluchistan",
          "Khyber Pakhtunkhwa",
          "Khyber Pakhtunkhwa",
          "Khyber Pakhtunkhwa",
          "Khyber Pakhtunkhwa",
          "Khyber Pakhtunkhwa",
          "Khyber Pakhtunkhwa",
          "Khyber Pakhtunkhwa",
          "Khyber Pakhtunkhwa",
          "Khyber Pakhtunkhwa",
          "Khyber Pakhtunkhwa",
          "Khyber Pakhtunkhwa",
          "Khyber Pakhtunkhwa",
          "Khyber Pakhtunkhwa",
          "Khyber Pakhtunkhwa",
          "Khyber Pakhtunkhwa",
          "Khyber Pakhtunkhwa",
          "Khyber Pakhtunkhwa",
          "Punjab",
          "Islamabad Capital Territory",
          "Sindh",
          "Sindh",
          "Sindh",
          "Sindh",
          "Sindh",
          "Sindh",
          "Sindh",
          "Sindh",
          "Sindh",
          "Sindh",
          "Sindh",
          "Sindh",
          "Sindh",
          "Sindh",
          "Punjab",
          "Khyber Pakhtunkhwa",
          "Baluchistan",
          "Gilgit-Baltistan",
          "Azad Jummu Kashmir",
          "Islamabad Capital Territory",
          "Sindh",
          "Sindh",
          "Sindh",
          "Sindh",
          "Sindh",
          "Sindh",
          "Sindh",
          "Sindh",
          "Sindh",
          "Sindh",
          "Sindh",
          "Sindh",
          "Sindh",
          "Sindh",
          "Sindh",
          "Sindh",
          "Sindh",
          "Sindh",
          "Baluchistan",
          "Khyber Pakhtunkhwa",
          "Khyber Pakhtunkhwa",
          "Khyber Pakhtunkhwa",
          "Khyber Pakhtunkhwa",
          "Khyber Pakhtunkhwa",
          "Khyber Pakhtunkhwa",
          "Khyber Pakhtunkhwa",
          "Khyber Pakhtunkhwa",
          "Khyber Pakhtunkhwa",
          "Khyber Pakhtunkhwa",
          "Khyber Pakhtunkhwa",
          "Khyber Pakhtunkhwa",
          "Khyber Pakhtunkhwa",
          "Khyber Pakhtunkhwa",
          "Khyber Pakhtunkhwa",
          "Khyber Pakhtunkhwa",
          "Punjab",
          "Gilgit-Baltistan",
          "Islamabad Capital Territory",
          "Punjab",
          "Sindh",
          "Gilgit-Baltistan",
          "Khyber Pakhtunkhwa",
          "Azad Jummu Kashmir",
          "Islamabad Capital Territory",
          "Punjab",
          "Sindh",
          "Sindh",
          "Sindh",
          "Sindh",
          "Sindh",
          "Sindh",
          "Sindh",
          "Sindh",
          "Baluchistan",
          "Gilgit-Baltistan",
          "Khyber Pakhtunkhwa",
          "Islamabad Capital Territory",
          "Punjab",
          "Sindh",
          "Sindh",
          "Sindh",
          "Sindh",
          "Sindh",
          "Sindh",
          "Sindh",
          "Sindh",
          "Sindh",
          "Sindh",
          "Sindh",
          "Sindh",
          "Baluchistan",
          "Gilgit-Baltistan",
          "Azad Jummu Kashmir",
          "islamabad Capital Territory",
          "Sindh",
          "Sindh",
          "Baluchistan",
          "Baluchistan",
          "Gilgit-Baltistan",
          "Gilgit-Baltistan",
          "Khyber Pakhtunkhwa",
          "Khyber Pakhtunkhwa",
          "Khyber Pakhtunkhwa",
          "Khyber Pakhtunkhwa",
          "Khyber Pakhtunkhwa",
          "Khyber Pakhtunkhwa",
          "Khyber Pakhtunkhwa",
          "Khyber Pakhtunkhwa",
          "Khyber Pakhtunkhwa",
          "Khyber Pakhtunkhwa",
          "Khyber Pakhtunkhwa",
          "Khyber Pakhtunkhwa",
          "Khyber Pakhtunkhwa",
          "Khyber Pakhtunkhwa",
          "Khyber Pakhtunkhwa",
          "Khyber Pakhtunkhwa",
          "Khyber Pakhtunkhwa",
          "Khyber Pakhtunkhwa",
          "Khyber Pakhtunkhwa",
          "Khyber Pakhtunkhwa",
          "Khyber Pakhtunkhwa",
          "Khyber Pakhtunkhwa",
          "Khyber Pakhtunkhwa",
          "Khyber Pakhtunkhwa",
          "Khyber Pakhtunkhwa",
          "Khyber Pakhtunkhwa",
          "Khyber Pakhtunkhwa",
          "Khyber Pakhtunkhwa",
          "Khyber Pakhtunkhwa",
          "Khyber Pakhtunkhwa",
          "Khyber Pakhtunkhwa",
          "Khyber Pakhtunkhwa",
          "Khyber Pakhtunkhwa",
          "Khyber Pakhtunkhwa",
          "Khyber Pakhtunkhwa",
          "islamabad Capital Territory",
          "Gilgit-Baltistan",
          "Khyber Pakhtunkhwa",
          "Khyber Pakhtunkhwa",
          "Khyber Pakhtunkhwa",
          "Khyber Pakhtunkhwa",
          "Khyber Pakhtunkhwa",
          "Khyber Pakhtunkhwa",
          "Khyber Pakhtunkhwa",
          "Khyber Pakhtunkhwa",
          "Khyber Pakhtunkhwa",
          "Khyber Pakhtunkhwa",
          "Khyber Pakhtunkhwa",
          "Khyber Pakhtunkhwa",
          "Khyber Pakhtunkhwa",
          "Khyber Pakhtunkhwa",
          "Khyber Pakhtunkhwa",
          "Khyber Pakhtunkhwa",
          "Khyber Pakhtunkhwa",
          "Khyber Pakhtunkhwa",
          "Khyber Pakhtunkhwa",
          "Khyber Pakhtunkhwa",
          "Khyber Pakhtunkhwa",
          "Khyber Pakhtunkhwa",
          "Khyber Pakhtunkhwa",
          "Khyber Pakhtunkhwa",
          "Khyber Pakhtunkhwa",
          "Khyber Pakhtunkhwa",
          "Khyber Pakhtunkhwa",
          "Khyber Pakhtunkhwa",
          "Khyber Pakhtunkhwa",
          "Khyber Pakhtunkhwa",
          "Khyber Pakhtunkhwa",
          "Khyber Pakhtunkhwa",
          "Khyber Pakhtunkhwa",
          "Khyber Pakhtunkhwa",
          "Khyber Pakhtunkhwa",
          "Baluchistan",
          "Baluchistan",
          "Sindh",
          "Punjab",
          "islamabad Capital Territory",
          "Punjab",
          "Baluchistan",
          "Baluchistan",
          "Gilgit-Baltistan",
          "Khyber Pakhtunkhwa",
          "Azad Jummu Kashmir",
          "Sindh",
          "islamabad Capital Territory",
          "Punjab",
          "Sindh",
          "Baluchistan",
          "Gilgit-Baltistan",
          "Khyber Pakhtunkhwa",
          "Khyber Pakhtunkhwa",
          "Khyber Pakhtunkhwa",
          "Khyber Pakhtunkhwa",
          "Khyber Pakhtunkhwa",
          "Khyber Pakhtunkhwa",
          "Khyber Pakhtunkhwa",
          "Khyber Pakhtunkhwa",
          "Khyber Pakhtunkhwa",
          "Khyber Pakhtunkhwa",
          "Khyber Pakhtunkhwa",
          "Khyber Pakhtunkhwa",
          "Khyber Pakhtunkhwa",
          "Khyber Pakhtunkhwa",
          "Khyber Pakhtunkhwa",
          "Khyber Pakhtunkhwa",
          "Khyber Pakhtunkhwa",
          "Khyber Pakhtunkhwa",
          "Khyber Pakhtunkhwa",
          "Khyber Pakhtunkhwa",
          "Khyber Pakhtunkhwa",
          "Khyber Pakhtunkhwa",
          "Khyber Pakhtunkhwa",
          "Khyber Pakhtunkhwa",
          "Khyber Pakhtunkhwa",
          "Khyber Pakhtunkhwa",
          "Khyber Pakhtunkhwa",
          "Khyber Pakhtunkhwa",
          "Khyber Pakhtunkhwa",
          "Khyber Pakhtunkhwa",
          "Khyber Pakhtunkhwa",
          "Khyber Pakhtunkhwa",
          "Khyber Pakhtunkhwa",
          "Khyber Pakhtunkhwa",
          "Khyber Pakhtunkhwa",
          "islamabad Capital Territory",
          "Punjab",
          "Sindh",
          "Baluchistan",
          "Gilgit-Baltistan",
          "Khyber Pakhtunkhwa",
          "Azad Jummu Kashmir",
          "islamabad Capital Territory",
          "Punjab",
          "Sindh",
          "Baluchistan",
          "Gilgit-Baltistan",
          "Khyber Pakhtunkhwa",
          "Azad Jummu Kashmir",
          "islamabad Capital Territory",
          "Punjab",
          "Sindh",
          "Baluchistan",
          "Gilgit-Baltistan",
          "Khyber Pakhtunkhwa",
          "islamabad Capital Territory",
          "Punjab",
          "Sindh",
          "Baluchistan",
          "Khyber Pakhtunkhwa",
          "Azad Jummu Kashmir",
          "islamabad Capital Territory",
          "Punjab",
          "Sindh",
          "Baluchistan",
          "Gilgit-Baltistan",
          "Khyber Pakhtunkhwa",
          "Azad Jummu Kashmir",
          "islamabad Capital Territory",
          "Punjab",
          "Sindh",
          "Baluchistan",
          "Gilgit-Baltistan",
          "Khyber Pakhtunkhwa",
          "Azad Jummu Kashmir"
         ],
         "yaxis": "y"
        }
       ],
       "layout": {
        "barmode": "relative",
        "legend": {
         "tracegroupgap": 0
        },
        "margin": {
         "t": 60
        },
        "template": {
         "data": {
          "bar": [
           {
            "error_x": {
             "color": "#2a3f5f"
            },
            "error_y": {
             "color": "#2a3f5f"
            },
            "marker": {
             "line": {
              "color": "#E5ECF6",
              "width": 0.5
             },
             "pattern": {
              "fillmode": "overlay",
              "size": 10,
              "solidity": 0.2
             }
            },
            "type": "bar"
           }
          ],
          "barpolar": [
           {
            "marker": {
             "line": {
              "color": "#E5ECF6",
              "width": 0.5
             },
             "pattern": {
              "fillmode": "overlay",
              "size": 10,
              "solidity": 0.2
             }
            },
            "type": "barpolar"
           }
          ],
          "carpet": [
           {
            "aaxis": {
             "endlinecolor": "#2a3f5f",
             "gridcolor": "white",
             "linecolor": "white",
             "minorgridcolor": "white",
             "startlinecolor": "#2a3f5f"
            },
            "baxis": {
             "endlinecolor": "#2a3f5f",
             "gridcolor": "white",
             "linecolor": "white",
             "minorgridcolor": "white",
             "startlinecolor": "#2a3f5f"
            },
            "type": "carpet"
           }
          ],
          "choropleth": [
           {
            "colorbar": {
             "outlinewidth": 0,
             "ticks": ""
            },
            "type": "choropleth"
           }
          ],
          "contour": [
           {
            "colorbar": {
             "outlinewidth": 0,
             "ticks": ""
            },
            "colorscale": [
             [
              0,
              "#0d0887"
             ],
             [
              0.1111111111111111,
              "#46039f"
             ],
             [
              0.2222222222222222,
              "#7201a8"
             ],
             [
              0.3333333333333333,
              "#9c179e"
             ],
             [
              0.4444444444444444,
              "#bd3786"
             ],
             [
              0.5555555555555556,
              "#d8576b"
             ],
             [
              0.6666666666666666,
              "#ed7953"
             ],
             [
              0.7777777777777778,
              "#fb9f3a"
             ],
             [
              0.8888888888888888,
              "#fdca26"
             ],
             [
              1,
              "#f0f921"
             ]
            ],
            "type": "contour"
           }
          ],
          "contourcarpet": [
           {
            "colorbar": {
             "outlinewidth": 0,
             "ticks": ""
            },
            "type": "contourcarpet"
           }
          ],
          "heatmap": [
           {
            "colorbar": {
             "outlinewidth": 0,
             "ticks": ""
            },
            "colorscale": [
             [
              0,
              "#0d0887"
             ],
             [
              0.1111111111111111,
              "#46039f"
             ],
             [
              0.2222222222222222,
              "#7201a8"
             ],
             [
              0.3333333333333333,
              "#9c179e"
             ],
             [
              0.4444444444444444,
              "#bd3786"
             ],
             [
              0.5555555555555556,
              "#d8576b"
             ],
             [
              0.6666666666666666,
              "#ed7953"
             ],
             [
              0.7777777777777778,
              "#fb9f3a"
             ],
             [
              0.8888888888888888,
              "#fdca26"
             ],
             [
              1,
              "#f0f921"
             ]
            ],
            "type": "heatmap"
           }
          ],
          "heatmapgl": [
           {
            "colorbar": {
             "outlinewidth": 0,
             "ticks": ""
            },
            "colorscale": [
             [
              0,
              "#0d0887"
             ],
             [
              0.1111111111111111,
              "#46039f"
             ],
             [
              0.2222222222222222,
              "#7201a8"
             ],
             [
              0.3333333333333333,
              "#9c179e"
             ],
             [
              0.4444444444444444,
              "#bd3786"
             ],
             [
              0.5555555555555556,
              "#d8576b"
             ],
             [
              0.6666666666666666,
              "#ed7953"
             ],
             [
              0.7777777777777778,
              "#fb9f3a"
             ],
             [
              0.8888888888888888,
              "#fdca26"
             ],
             [
              1,
              "#f0f921"
             ]
            ],
            "type": "heatmapgl"
           }
          ],
          "histogram": [
           {
            "marker": {
             "pattern": {
              "fillmode": "overlay",
              "size": 10,
              "solidity": 0.2
             }
            },
            "type": "histogram"
           }
          ],
          "histogram2d": [
           {
            "colorbar": {
             "outlinewidth": 0,
             "ticks": ""
            },
            "colorscale": [
             [
              0,
              "#0d0887"
             ],
             [
              0.1111111111111111,
              "#46039f"
             ],
             [
              0.2222222222222222,
              "#7201a8"
             ],
             [
              0.3333333333333333,
              "#9c179e"
             ],
             [
              0.4444444444444444,
              "#bd3786"
             ],
             [
              0.5555555555555556,
              "#d8576b"
             ],
             [
              0.6666666666666666,
              "#ed7953"
             ],
             [
              0.7777777777777778,
              "#fb9f3a"
             ],
             [
              0.8888888888888888,
              "#fdca26"
             ],
             [
              1,
              "#f0f921"
             ]
            ],
            "type": "histogram2d"
           }
          ],
          "histogram2dcontour": [
           {
            "colorbar": {
             "outlinewidth": 0,
             "ticks": ""
            },
            "colorscale": [
             [
              0,
              "#0d0887"
             ],
             [
              0.1111111111111111,
              "#46039f"
             ],
             [
              0.2222222222222222,
              "#7201a8"
             ],
             [
              0.3333333333333333,
              "#9c179e"
             ],
             [
              0.4444444444444444,
              "#bd3786"
             ],
             [
              0.5555555555555556,
              "#d8576b"
             ],
             [
              0.6666666666666666,
              "#ed7953"
             ],
             [
              0.7777777777777778,
              "#fb9f3a"
             ],
             [
              0.8888888888888888,
              "#fdca26"
             ],
             [
              1,
              "#f0f921"
             ]
            ],
            "type": "histogram2dcontour"
           }
          ],
          "mesh3d": [
           {
            "colorbar": {
             "outlinewidth": 0,
             "ticks": ""
            },
            "type": "mesh3d"
           }
          ],
          "parcoords": [
           {
            "line": {
             "colorbar": {
              "outlinewidth": 0,
              "ticks": ""
             }
            },
            "type": "parcoords"
           }
          ],
          "pie": [
           {
            "automargin": true,
            "type": "pie"
           }
          ],
          "scatter": [
           {
            "fillpattern": {
             "fillmode": "overlay",
             "size": 10,
             "solidity": 0.2
            },
            "type": "scatter"
           }
          ],
          "scatter3d": [
           {
            "line": {
             "colorbar": {
              "outlinewidth": 0,
              "ticks": ""
             }
            },
            "marker": {
             "colorbar": {
              "outlinewidth": 0,
              "ticks": ""
             }
            },
            "type": "scatter3d"
           }
          ],
          "scattercarpet": [
           {
            "marker": {
             "colorbar": {
              "outlinewidth": 0,
              "ticks": ""
             }
            },
            "type": "scattercarpet"
           }
          ],
          "scattergeo": [
           {
            "marker": {
             "colorbar": {
              "outlinewidth": 0,
              "ticks": ""
             }
            },
            "type": "scattergeo"
           }
          ],
          "scattergl": [
           {
            "marker": {
             "colorbar": {
              "outlinewidth": 0,
              "ticks": ""
             }
            },
            "type": "scattergl"
           }
          ],
          "scattermapbox": [
           {
            "marker": {
             "colorbar": {
              "outlinewidth": 0,
              "ticks": ""
             }
            },
            "type": "scattermapbox"
           }
          ],
          "scatterpolar": [
           {
            "marker": {
             "colorbar": {
              "outlinewidth": 0,
              "ticks": ""
             }
            },
            "type": "scatterpolar"
           }
          ],
          "scatterpolargl": [
           {
            "marker": {
             "colorbar": {
              "outlinewidth": 0,
              "ticks": ""
             }
            },
            "type": "scatterpolargl"
           }
          ],
          "scatterternary": [
           {
            "marker": {
             "colorbar": {
              "outlinewidth": 0,
              "ticks": ""
             }
            },
            "type": "scatterternary"
           }
          ],
          "surface": [
           {
            "colorbar": {
             "outlinewidth": 0,
             "ticks": ""
            },
            "colorscale": [
             [
              0,
              "#0d0887"
             ],
             [
              0.1111111111111111,
              "#46039f"
             ],
             [
              0.2222222222222222,
              "#7201a8"
             ],
             [
              0.3333333333333333,
              "#9c179e"
             ],
             [
              0.4444444444444444,
              "#bd3786"
             ],
             [
              0.5555555555555556,
              "#d8576b"
             ],
             [
              0.6666666666666666,
              "#ed7953"
             ],
             [
              0.7777777777777778,
              "#fb9f3a"
             ],
             [
              0.8888888888888888,
              "#fdca26"
             ],
             [
              1,
              "#f0f921"
             ]
            ],
            "type": "surface"
           }
          ],
          "table": [
           {
            "cells": {
             "fill": {
              "color": "#EBF0F8"
             },
             "line": {
              "color": "white"
             }
            },
            "header": {
             "fill": {
              "color": "#C8D4E3"
             },
             "line": {
              "color": "white"
             }
            },
            "type": "table"
           }
          ]
         },
         "layout": {
          "annotationdefaults": {
           "arrowcolor": "#2a3f5f",
           "arrowhead": 0,
           "arrowwidth": 1
          },
          "autotypenumbers": "strict",
          "coloraxis": {
           "colorbar": {
            "outlinewidth": 0,
            "ticks": ""
           }
          },
          "colorscale": {
           "diverging": [
            [
             0,
             "#8e0152"
            ],
            [
             0.1,
             "#c51b7d"
            ],
            [
             0.2,
             "#de77ae"
            ],
            [
             0.3,
             "#f1b6da"
            ],
            [
             0.4,
             "#fde0ef"
            ],
            [
             0.5,
             "#f7f7f7"
            ],
            [
             0.6,
             "#e6f5d0"
            ],
            [
             0.7,
             "#b8e186"
            ],
            [
             0.8,
             "#7fbc41"
            ],
            [
             0.9,
             "#4d9221"
            ],
            [
             1,
             "#276419"
            ]
           ],
           "sequential": [
            [
             0,
             "#0d0887"
            ],
            [
             0.1111111111111111,
             "#46039f"
            ],
            [
             0.2222222222222222,
             "#7201a8"
            ],
            [
             0.3333333333333333,
             "#9c179e"
            ],
            [
             0.4444444444444444,
             "#bd3786"
            ],
            [
             0.5555555555555556,
             "#d8576b"
            ],
            [
             0.6666666666666666,
             "#ed7953"
            ],
            [
             0.7777777777777778,
             "#fb9f3a"
            ],
            [
             0.8888888888888888,
             "#fdca26"
            ],
            [
             1,
             "#f0f921"
            ]
           ],
           "sequentialminus": [
            [
             0,
             "#0d0887"
            ],
            [
             0.1111111111111111,
             "#46039f"
            ],
            [
             0.2222222222222222,
             "#7201a8"
            ],
            [
             0.3333333333333333,
             "#9c179e"
            ],
            [
             0.4444444444444444,
             "#bd3786"
            ],
            [
             0.5555555555555556,
             "#d8576b"
            ],
            [
             0.6666666666666666,
             "#ed7953"
            ],
            [
             0.7777777777777778,
             "#fb9f3a"
            ],
            [
             0.8888888888888888,
             "#fdca26"
            ],
            [
             1,
             "#f0f921"
            ]
           ]
          },
          "colorway": [
           "#636efa",
           "#EF553B",
           "#00cc96",
           "#ab63fa",
           "#FFA15A",
           "#19d3f3",
           "#FF6692",
           "#B6E880",
           "#FF97FF",
           "#FECB52"
          ],
          "font": {
           "color": "#2a3f5f"
          },
          "geo": {
           "bgcolor": "white",
           "lakecolor": "white",
           "landcolor": "#E5ECF6",
           "showlakes": true,
           "showland": true,
           "subunitcolor": "white"
          },
          "hoverlabel": {
           "align": "left"
          },
          "hovermode": "closest",
          "mapbox": {
           "style": "light"
          },
          "paper_bgcolor": "white",
          "plot_bgcolor": "#E5ECF6",
          "polar": {
           "angularaxis": {
            "gridcolor": "white",
            "linecolor": "white",
            "ticks": ""
           },
           "bgcolor": "#E5ECF6",
           "radialaxis": {
            "gridcolor": "white",
            "linecolor": "white",
            "ticks": ""
           }
          },
          "scene": {
           "xaxis": {
            "backgroundcolor": "#E5ECF6",
            "gridcolor": "white",
            "gridwidth": 2,
            "linecolor": "white",
            "showbackground": true,
            "ticks": "",
            "zerolinecolor": "white"
           },
           "yaxis": {
            "backgroundcolor": "#E5ECF6",
            "gridcolor": "white",
            "gridwidth": 2,
            "linecolor": "white",
            "showbackground": true,
            "ticks": "",
            "zerolinecolor": "white"
           },
           "zaxis": {
            "backgroundcolor": "#E5ECF6",
            "gridcolor": "white",
            "gridwidth": 2,
            "linecolor": "white",
            "showbackground": true,
            "ticks": "",
            "zerolinecolor": "white"
           }
          },
          "shapedefaults": {
           "line": {
            "color": "#2a3f5f"
           }
          },
          "ternary": {
           "aaxis": {
            "gridcolor": "white",
            "linecolor": "white",
            "ticks": ""
           },
           "baxis": {
            "gridcolor": "white",
            "linecolor": "white",
            "ticks": ""
           },
           "bgcolor": "#E5ECF6",
           "caxis": {
            "gridcolor": "white",
            "linecolor": "white",
            "ticks": ""
           }
          },
          "title": {
           "x": 0.05
          },
          "xaxis": {
           "automargin": true,
           "gridcolor": "white",
           "linecolor": "white",
           "ticks": "",
           "title": {
            "standoff": 15
           },
           "zerolinecolor": "white",
           "zerolinewidth": 2
          },
          "yaxis": {
           "automargin": true,
           "gridcolor": "white",
           "linecolor": "white",
           "ticks": "",
           "title": {
            "standoff": 15
           },
           "zerolinecolor": "white",
           "zerolinewidth": 2
          }
         }
        },
        "xaxis": {
         "anchor": "y",
         "domain": [
          0,
          1
         ],
         "title": {
          "text": "Deaths"
         }
        },
        "yaxis": {
         "anchor": "x",
         "domain": [
          0,
          1
         ],
         "title": {
          "text": "Province"
         }
        }
       }
      }
     },
     "metadata": {},
     "output_type": "display_data"
    }
   ],
   "source": [
    "import plotly.express as px\n",
    "fig = px.bar(df, x='Deaths', y='Province')\n",
    "fig.show()"
   ]
  },
  {
   "cell_type": "code",
   "execution_count": 21,
   "metadata": {},
   "outputs": [
    {
     "data": {
      "application/vnd.plotly.v1+json": {
       "config": {
        "plotlyServerURL": "https://plot.ly"
       },
       "data": [
        {
         "alignmentgroup": "True",
         "hovertemplate": "Travel_history=China<br>Cases=%{x}<br>Province=%{y}<extra></extra>",
         "legendgroup": "China",
         "marker": {
          "color": "#636efa",
          "pattern": {
           "shape": ""
          }
         },
         "name": "China",
         "offsetgroup": "China",
         "orientation": "h",
         "showlegend": true,
         "textposition": "auto",
         "type": "bar",
         "x": [
          1,
          1
         ],
         "xaxis": "x",
         "y": [
          "Islamabad Capital Territory",
          "Islamabad Capital Territory"
         ],
         "yaxis": "y"
        },
        {
         "alignmentgroup": "True",
         "hovertemplate": "Travel_history=Iran/Taftan<br>Cases=%{x}<br>Province=%{y}<extra></extra>",
         "legendgroup": "Iran/Taftan",
         "marker": {
          "color": "#EF553B",
          "pattern": {
           "shape": ""
          }
         },
         "name": "Iran/Taftan",
         "offsetgroup": "Iran/Taftan",
         "orientation": "h",
         "showlegend": true,
         "textposition": "auto",
         "type": "bar",
         "x": [
          2,
          1,
          1,
          1,
          1,
          1,
          1,
          0,
          7,
          13,
          4,
          15,
          119,
          26,
          2,
          15,
          24,
          2,
          5,
          31,
          1,
          44,
          53,
          7,
          8,
          12,
          39,
          25,
          38,
          1,
          2,
          1,
          1,
          23,
          43,
          11,
          1,
          5,
          16,
          25,
          8,
          37,
          1,
          21,
          1,
          2,
          12,
          12,
          16,
          7,
          7,
          1,
          30,
          26,
          21,
          5,
          2,
          26,
          3,
          0,
          0,
          14,
          1,
          4,
          16,
          63,
          3,
          0,
          6,
          27,
          2,
          0,
          47,
          0,
          0,
          3,
          0,
          0,
          0,
          0,
          0,
          0,
          0,
          0,
          0,
          0,
          0,
          2
         ],
         "xaxis": "x",
         "y": [
          "Sindh",
          "Sindh",
          "Gilgit-Baltistan",
          "Sindh",
          "Sindh",
          "Baluchistan",
          "Gilgit-Baltistan",
          "Sindh",
          "Baluchistan",
          "Sindh",
          "Sindh",
          "Khyber Pakhtunkhwa",
          "Sindh",
          "Sindh",
          "Sindh",
          "Punjab",
          "Sindh",
          "Baluchistan",
          "Punjab",
          "Sindh",
          "Azad Jummu Kashmir",
          "Punjab",
          "Baluchistan",
          "Punjab",
          "Gilgit-Baltistan",
          "Baluchistan",
          "Sindh",
          "Gilgit-Baltistan",
          "Punjab",
          "Khyber Pakhtunkhwa",
          "Khyber Pakhtunkhwa",
          "Khyber Pakhtunkhwa",
          "Khyber Pakhtunkhwa",
          "Sindh",
          "Punjab",
          "Sindh",
          "Sindh",
          "Baluchistan",
          "Gilgit-Baltistan",
          "Punjab",
          "Sindh",
          "Khyber Pakhtunkhwa",
          "Federal Administration Tribal Area",
          "Punjab",
          "Khyber Pakhtunkhwa",
          "Punjab",
          "Baluchistan",
          "Baluchistan",
          "Punjab",
          "Punjab",
          "Sindh",
          "Khyber Pakhtunkhwa",
          "Punjab",
          "Punjab",
          "Punjab",
          "Punjab",
          "Gilgit-Baltistan",
          "Punjab",
          "Khyber Pakhtunkhwa",
          "Punjab",
          "Sindh",
          "Baluchistan",
          "Federal Administration Tribal Area",
          "Khyber Pakhtunkhwa",
          "Punjab",
          "Punjab",
          "Punjab",
          "Sindh",
          "Punjab",
          "Punjab",
          "Punjab",
          "Khyber Pakhtunkhwa",
          "Punjab",
          "Gilgit-Baltistan",
          "Sindh",
          "Khyber Pakhtunkhwa",
          "Khyber Pakhtunkhwa",
          "Sindh",
          "Khyber Pakhtunkhwa",
          "Punjab",
          "Sindh",
          "Khyber Pakhtunkhwa",
          "Punjab",
          "Sindh",
          "Sindh",
          "Khyber Pakhtunkhwa",
          "Sindh",
          "Khyber Pakhtunkhwa"
         ],
         "yaxis": "y"
        },
        {
         "alignmentgroup": "True",
         "hovertemplate": "Travel_history=Unknown<br>Cases=%{x}<br>Province=%{y}<extra></extra>",
         "legendgroup": "Unknown",
         "marker": {
          "color": "#00cc96",
          "pattern": {
           "shape": ""
          }
         },
         "name": "Unknown",
         "offsetgroup": "Unknown",
         "orientation": "h",
         "showlegend": true,
         "textposition": "auto",
         "type": "bar",
         "x": [
          0,
          1,
          1,
          1,
          1,
          1,
          3,
          1,
          1,
          2,
          10,
          1,
          8,
          4,
          4,
          5,
          1,
          1,
          2,
          3,
          6,
          1,
          15,
          4,
          1,
          2,
          2,
          1,
          39,
          1,
          18,
          7,
          2,
          1,
          1,
          5,
          7,
          26,
          11,
          5,
          7,
          2,
          3,
          1,
          3,
          34,
          3,
          2,
          3,
          0,
          1,
          1,
          4,
          1,
          1,
          4,
          5,
          2,
          1,
          1,
          14,
          18,
          1,
          7,
          37,
          0,
          3,
          10,
          2,
          1,
          3,
          21,
          4,
          1,
          1,
          1,
          6,
          6,
          10,
          3,
          0,
          0,
          0,
          6,
          92,
          47,
          79,
          14,
          0,
          39,
          22,
          4,
          35,
          3,
          33,
          8,
          0,
          86,
          48,
          0,
          52,
          96,
          53,
          123,
          28,
          73,
          6,
          138,
          43,
          182,
          57,
          217,
          262,
          55,
          177,
          0,
          84,
          65,
          475,
          120,
          71,
          60,
          72
         ],
         "xaxis": "x",
         "y": [
          "Sindh",
          "Khyber Pakhtunkhwa",
          "Punjab",
          "Islamabad Capital Territory",
          "khyber Pakhtunkhwa",
          "Khyber Pakhtunkhwa",
          "Punjab",
          "khyber Pakhtunkhwa",
          "Islamabad Capital Territory",
          "Islamabad Capital Territory",
          "Gilgit-Baltistan",
          "Khyber Pakhtunkhwa",
          "Punjab",
          "Gilgit-Baltistan",
          "Gilgit-Baltistan",
          "Baluchistan",
          "Khyber Pakhtunkhwa",
          "Federal Administration Tribal Area",
          "Punjab",
          "Islamabad Capital Territory",
          "Punjab",
          "Islamabad Capital Territory",
          "Punjab",
          "Baluchistan",
          "Khyber Pakhtunkhwa",
          "Khyber Pakhtunkhwa",
          "Baluchistan",
          "Gilgit-Baltistan",
          "Khyber Pakhtunkhwa",
          "Khyber Pakhtunkhwa",
          "Punjab",
          "Gilgit-Baltistan",
          "Khyber Pakhtunkhwa",
          "Khyber Pakhtunkhwa",
          "Azad Jummu Kashmir",
          "Islamabad Capital Territory",
          "Gilgit-Baltistan",
          "Punjab",
          "Gilgit-Baltistan",
          "Gilgit-Baltistan",
          "Khyber Pakhtunkhwa",
          "Khyber Pakhtunkhwa",
          "Khyber Pakhtunkhwa",
          "Khyber Pakhtunkhwa",
          "Khyber Pakhtunkhwa",
          "Khyber Pakhtunkhwa",
          "Khyber Pakhtunkhwa",
          "Khyber Pakhtunkhwa",
          "Khyber Pakhtunkhwa",
          "Baluchistan",
          "Khyber Pakhtunkhwa",
          "Khyber Pakhtunkhwa",
          "Khyber Pakhtunkhwa",
          "Khyber Pakhtunkhwa",
          "Khyber Pakhtunkhwa",
          "Azad Jummu Kashmir",
          "Gilgit-Baltistan",
          "Gilgit-Baltistan",
          "Khyber Pakhtunkhwa",
          "Khyber Pakhtunkhwa",
          "Punjab",
          "Gilgit-Baltistan",
          "Khyber Pakhtunkhwa",
          "Islamabad Capital Territory",
          "Gilgit-Baltistan",
          "Khyber Pakhtunkhwa",
          "Khyber Pakhtunkhwa",
          "Khyber Pakhtunkhwa",
          "Azad Jummu Kashmir",
          "Azad Jummu Kashmir",
          "Gilgit-Baltistan",
          "Punjab",
          "Islamabad Capital Territory",
          "Gilgit-Baltistan",
          "Gilgit-Baltistan",
          "Gilgit-Baltistan",
          "Islamabad Capital Territory",
          "Baluchistan",
          "Baluchistan",
          "Azad Jummu Kashmir",
          "Gilgit-Baltistan",
          "Gilgit-Baltistan",
          "Gilgit-Baltistan",
          "Baluchistan",
          "Sindh",
          "Punjab",
          "Sindh",
          "Sindh",
          "Punjab",
          "Sindh",
          "Khyber Pakhtunkhwa",
          "Khyber Pakhtunkhwa",
          "Punjab",
          "Azad Jummu Kashmir",
          "Baluchistan",
          "Gilgit-Baltistan",
          "Punjab",
          "Punjab",
          "Punjab",
          "Sindh",
          "Sindh",
          "Sindh",
          "Sindh",
          "Sindh",
          "Sindh",
          "Sindh",
          "Baluchistan",
          "Sindh",
          "Khyber Pakhtunkhwa",
          "Sindh",
          "Sindh",
          "Punjab",
          "Punjab",
          "Baluchistan",
          "Punjab",
          "Sindh",
          "Punjab",
          "Baluchistan",
          "Punjab",
          "Punjab",
          "Khyber Pakhtunkhwa",
          "Baluchistan",
          "Baluchistan"
         ],
         "yaxis": "y"
        },
        {
         "alignmentgroup": "True",
         "hovertemplate": "Travel_history=Syria<br>Cases=%{x}<br>Province=%{y}<extra></extra>",
         "legendgroup": "Syria",
         "marker": {
          "color": "#ab63fa",
          "pattern": {
           "shape": ""
          }
         },
         "name": "Syria",
         "offsetgroup": "Syria",
         "orientation": "h",
         "showlegend": true,
         "textposition": "auto",
         "type": "bar",
         "x": [
          6,
          1
         ],
         "xaxis": "x",
         "y": [
          "Sindh",
          "Sindh"
         ],
         "yaxis": "y"
        },
        {
         "alignmentgroup": "True",
         "hovertemplate": "Travel_history=UK<br>Cases=%{x}<br>Province=%{y}<extra></extra>",
         "legendgroup": "UK",
         "marker": {
          "color": "#FFA15A",
          "pattern": {
           "shape": ""
          }
         },
         "name": "UK",
         "offsetgroup": "UK",
         "orientation": "h",
         "showlegend": true,
         "textposition": "auto",
         "type": "bar",
         "x": [
          3,
          1,
          1
         ],
         "xaxis": "x",
         "y": [
          "Sindh",
          "Punjab",
          "Khyber Pakhtunkhwa"
         ],
         "yaxis": "y"
        },
        {
         "alignmentgroup": "True",
         "hovertemplate": "Travel_history=Local - Social Contact<br>Cases=%{x}<br>Province=%{y}<extra></extra>",
         "legendgroup": "Local - Social Contact",
         "marker": {
          "color": "#19d3f3",
          "pattern": {
           "shape": ""
          }
         },
         "name": "Local - Social Contact",
         "offsetgroup": "Local - Social Contact",
         "orientation": "h",
         "showlegend": true,
         "textposition": "auto",
         "type": "bar",
         "x": [
          1,
          1,
          5,
          1,
          1,
          37,
          2,
          4,
          1,
          1,
          3,
          1,
          16,
          0,
          1,
          4,
          1,
          4,
          18,
          1,
          1,
          7,
          16,
          8,
          3,
          5,
          7,
          1,
          9,
          3,
          1,
          1,
          1,
          1,
          3,
          3,
          0,
          9,
          9,
          1,
          1,
          9,
          6,
          1,
          16,
          12,
          2,
          2,
          2,
          1,
          1,
          1,
          1,
          2,
          4,
          2,
          2,
          1,
          1,
          1,
          2,
          1,
          14,
          4,
          10,
          5,
          2,
          29,
          5,
          25,
          4,
          5,
          8,
          4,
          0,
          1,
          1,
          3,
          7,
          1,
          11,
          1,
          33,
          0,
          3,
          2,
          8,
          11,
          8,
          21,
          6,
          6,
          1,
          1,
          3,
          1,
          1,
          16,
          14,
          1,
          1,
          5,
          1,
          1,
          16,
          1,
          1,
          1,
          10,
          1,
          1,
          1,
          0,
          3,
          1,
          2,
          1,
          1,
          2,
          2,
          7,
          1,
          1,
          1,
          33,
          2,
          48,
          7,
          6,
          28,
          2,
          1,
          8,
          1,
          2,
          32,
          5,
          1,
          1,
          5,
          2,
          1,
          1,
          6,
          1,
          1,
          17,
          1,
          1,
          2,
          10,
          6,
          40,
          4,
          6,
          1,
          1,
          8,
          2,
          10,
          11,
          5,
          1,
          1,
          2,
          1,
          2,
          1,
          11,
          1,
          1,
          7,
          6,
          30,
          4,
          4,
          1,
          2,
          3,
          4,
          2,
          2,
          1,
          0,
          3,
          4,
          7,
          6,
          0,
          5,
          0,
          0,
          0,
          4,
          3,
          0,
          0,
          1,
          1,
          1,
          1,
          0,
          0,
          41,
          2,
          31,
          0,
          51,
          3,
          20,
          1,
          0,
          1,
          1,
          2,
          1,
          4,
          1,
          6,
          14,
          1,
          1,
          15,
          1,
          9,
          1,
          24,
          2,
          7,
          3,
          1,
          54,
          11,
          12,
          0,
          1,
          7,
          2,
          1,
          1,
          2,
          3,
          2,
          1,
          0,
          3,
          2,
          1,
          3,
          49,
          2,
          3,
          1,
          15,
          8,
          12,
          7,
          1,
          7,
          4,
          0,
          0,
          17,
          6,
          13,
          1,
          0,
          1,
          1,
          8,
          1,
          2,
          50,
          6,
          2,
          1,
          7,
          4,
          1,
          1,
          12,
          2,
          8,
          1,
          0,
          0,
          2,
          12,
          3,
          2,
          2,
          4,
          5,
          1,
          0,
          10,
          35,
          0,
          7,
          2,
          3,
          6,
          1,
          10,
          4,
          1,
          6,
          1,
          1,
          15,
          2,
          1,
          7,
          1,
          5,
          23,
          1,
          0,
          0,
          1,
          4,
          6,
          0,
          0,
          2,
          17,
          2,
          1,
          8,
          0,
          6,
          2,
          2,
          2,
          85,
          1,
          1,
          0,
          0,
          3,
          3,
          5,
          4,
          3,
          1,
          1,
          1,
          0,
          2,
          2,
          1,
          8,
          3,
          0,
          0,
          10,
          1,
          0,
          7,
          1,
          0,
          1,
          8,
          5,
          5,
          3,
          1,
          5,
          3,
          6,
          6,
          5,
          4,
          2,
          0,
          84,
          3,
          17,
          29,
          30,
          5,
          3,
          16,
          0,
          1,
          9,
          2,
          0,
          6,
          1,
          1,
          4,
          4,
          2,
          3,
          10,
          2,
          2,
          1,
          0,
          8,
          6,
          32,
          19,
          6,
          2,
          3,
          19,
          6,
          1,
          1,
          12,
          60,
          1,
          1,
          0,
          1,
          5,
          3,
          9,
          2,
          1,
          1,
          31,
          3,
          0,
          0,
          0,
          0,
          0,
          3,
          1,
          10,
          0,
          0,
          0,
          17,
          66,
          0,
          5,
          7,
          4,
          11,
          3,
          1,
          1,
          4,
          2,
          1,
          0,
          0,
          0,
          0,
          45,
          13,
          44,
          2,
          22,
          7,
          11,
          8,
          15,
          5,
          36,
          7,
          9,
          22,
          5,
          35,
          52,
          2,
          47,
          2,
          11,
          2,
          8,
          1,
          14,
          9,
          0,
          3,
          2,
          6,
          0,
          1,
          7,
          28,
          94,
          38,
          1,
          7,
          1,
          2,
          1,
          0,
          0,
          0,
          0,
          0,
          20,
          10,
          0,
          0,
          24,
          3,
          1,
          7,
          21,
          10,
          9,
          4,
          24,
          5,
          22,
          1,
          7,
          2,
          3,
          1,
          2,
          2,
          4,
          5,
          1,
          1,
          7,
          0,
          0,
          0,
          24,
          8,
          1,
          21,
          3,
          3,
          4,
          1,
          21,
          70,
          1,
          10,
          3,
          4,
          1,
          12,
          5,
          3,
          2,
          2,
          9,
          0,
          1,
          1,
          2,
          1,
          6,
          1,
          2,
          5,
          41,
          24,
          20,
          10,
          9,
          4,
          8,
          20,
          3,
          4,
          9,
          2,
          1,
          4,
          9,
          1,
          9,
          6,
          4,
          7,
          8,
          5,
          2,
          7,
          1,
          1,
          1,
          8,
          3,
          2,
          10,
          1,
          6,
          60,
          0,
          0,
          0,
          0,
          0,
          0,
          0,
          0,
          0,
          0,
          0,
          0,
          0,
          0,
          56,
          36,
          3,
          0,
          15,
          32,
          1,
          2,
          29,
          13,
          1,
          23,
          0,
          7,
          0,
          76,
          5,
          5,
          3,
          1,
          33,
          150,
          1,
          18,
          334,
          98,
          0,
          0,
          0,
          0,
          0,
          0,
          0,
          10,
          0,
          69,
          0,
          0,
          26,
          4,
          1,
          1,
          8,
          0,
          2,
          1,
          2,
          11,
          2,
          5,
          1,
          1,
          0,
          286,
          4,
          1,
          2,
          31,
          9,
          2,
          12,
          10,
          6,
          2,
          4,
          38,
          155,
          15,
          56,
          7,
          1,
          0,
          2,
          29,
          1,
          2,
          17,
          2,
          6,
          2,
          1,
          39,
          1,
          1,
          1,
          1,
          1,
          242,
          1,
          14,
          1,
          1,
          1,
          25,
          11,
          1,
          1,
          0,
          0,
          10,
          10,
          4,
          14,
          7,
          1,
          0,
          0,
          1,
          0,
          3,
          4,
          3,
          0,
          4,
          6,
          0,
          0,
          3,
          2,
          0,
          0,
          0,
          1,
          0,
          0,
          1,
          2,
          0,
          2,
          0,
          0,
          0,
          0,
          0,
          2,
          0,
          0,
          10,
          7,
          243,
          8,
          1,
          1,
          1,
          14,
          1,
          3,
          1,
          49,
          66,
          4,
          4,
          7,
          0,
          2,
          6,
          4,
          1,
          7,
          0,
          1,
          0,
          0,
          6,
          3,
          217,
          13,
          1,
          2,
          6,
          1,
          1,
          2,
          12,
          17,
          2,
          2,
          11,
          9,
          1,
          41,
          1,
          2,
          3,
          15,
          8,
          2,
          1,
          3,
          6,
          1,
          0,
          0,
          0,
          0,
          0,
          12,
          340,
          7,
          1,
          2,
          4,
          2,
          1,
          2,
          17,
          2,
          1,
          1,
          2,
          1,
          10,
          4,
          10,
          275,
          12,
          0,
          0,
          0,
          0,
          0,
          1,
          0,
          0,
          8,
          4,
          23,
          12,
          3,
          0,
          2,
          1,
          3,
          51,
          6,
          2,
          1,
          4,
          3,
          8,
          7,
          5,
          5,
          2,
          9,
          7,
          2,
          5,
          194,
          2,
          16,
          187,
          335,
          10,
          176,
          6,
          36,
          234,
          337,
          9,
          7,
          14,
          13,
          13,
          1,
          7,
          121,
          3,
          153,
          16,
          279,
          229,
          5,
          1,
          1,
          1,
          4,
          3,
          6,
          1,
          1,
          34,
          2,
          75,
          6,
          1,
          30,
          446,
          176,
          86,
          1,
          1,
          0,
          248,
          3,
          5,
          0,
          0,
          1,
          2,
          17,
          1,
          6,
          0,
          3,
          16,
          2,
          0,
          0,
          1,
          2,
          0,
          0,
          0,
          0,
          0,
          1,
          1,
          0,
          4,
          3,
          0,
          14,
          0,
          0,
          0,
          0,
          0,
          22,
          16,
          57,
          1,
          1,
          0,
          0,
          0,
          6,
          3,
          0,
          8,
          0,
          0,
          14,
          2,
          1,
          1,
          0,
          7,
          0,
          0,
          0,
          0,
          0,
          0,
          0,
          0,
          2,
          1,
          1,
          1,
          0,
          0,
          2,
          0,
          0,
          35,
          1,
          427,
          514,
          28,
          670,
          44,
          2,
          8,
          222,
          5,
          363,
          22,
          122,
          638,
          103,
          8,
          72,
          0,
          2,
          12,
          0,
          9,
          2,
          3,
          0,
          2,
          0,
          1,
          26,
          1,
          0,
          3,
          0,
          0,
          0,
          0,
          0,
          0,
          0,
          4,
          4,
          0,
          1,
          1,
          0,
          12,
          0,
          0,
          3,
          1,
          0,
          49,
          487,
          86,
          174,
          14,
          211,
          0,
          21,
          944,
          451,
          168,
          2,
          213,
          5,
          36,
          118,
          453,
          0,
          6,
          244,
          37,
          838,
          598,
          62,
          371,
          2,
          51,
          1060,
          1080,
          151,
          36,
          182,
          1,
          32,
          0,
          709,
          59,
          12,
          160,
          7
         ],
         "xaxis": "x",
         "y": [
          "Gilgit-Baltistan",
          "Sindh",
          "Sindh",
          "Khyber Pakhtunkhwa",
          "Punjab",
          "Sindh",
          "Khyber Pakhtunkhwa",
          "Sindh",
          "Punjab",
          "Punjab",
          "Punjab",
          "Gilgit-Baltistan",
          "Sindh",
          "Sindh",
          "Punjab",
          "Punjab",
          "Khyber Pakhtunkhwa",
          "Gilgit-Baltistan",
          "Sindh",
          "Punjab",
          "Punjab",
          "Sindh",
          "Punjab",
          "Sindh",
          "Sindh",
          "Gilgit-Baltistan",
          "Punjab",
          "Punjab",
          "Punjab",
          "Punjab",
          "Punjab",
          "Punjab",
          "Punjab",
          "Punjab",
          "Sindh",
          "Sindh",
          "Sindh",
          "Baluchistan",
          "Punjab",
          "Punjab",
          "Punjab",
          "Sindh",
          "Khyber Pakhtunkhwa",
          "Punjab",
          "Punjab",
          "Punjab",
          "Punjab",
          "Punjab",
          "Punjab",
          "Punjab",
          "Punjab",
          "Punjab",
          "Punjab",
          "Islamabad Capital Territory",
          "Sindh",
          "Punjab",
          "Punjab",
          "Punjab",
          "Punjab",
          "Punjab",
          "Punjab",
          "Punjab",
          "Punjab",
          "Punjab",
          "Punjab",
          "Punjab",
          "Punjab",
          "Punjab",
          "Punjab",
          "Sindh",
          "Sindh",
          "Baluchistan",
          "Gilgit-Baltistan",
          "Islamabad Capital Territory",
          "Punjab",
          "Punjab",
          "Punjab",
          "Punjab",
          "Punjab",
          "Punjab",
          "Punjab",
          "Punjab",
          "Sindh",
          "Gilgit-Baltistan",
          "Gilgit-Baltistan",
          "Khyber Pakhtunkhwa",
          "Islamabad Capital Territory",
          "Punjab",
          "Punjab",
          "Sindh",
          "Sindh",
          "Baluchistan",
          "Federal Administration Tribal Area",
          "Khyber Pakhtunkhwa",
          "Khyber Pakhtunkhwa",
          "Khyber Pakhtunkhwa",
          "Khyber Pakhtunkhwa",
          "Khyber Pakhtunkhwa",
          "Punjab",
          "Punjab",
          "Punjab",
          "Punjab",
          "Punjab",
          "Punjab",
          "Sindh",
          "Sindh",
          "Federal Administration Tribal Area",
          "Khyber Pakhtunkhwa",
          "Khyber Pakhtunkhwa",
          "Khyber Pakhtunkhwa",
          "Khyber Pakhtunkhwa",
          "Khyber Pakhtunkhwa",
          "Khyber Pakhtunkhwa",
          "Khyber Pakhtunkhwa",
          "Khyber Pakhtunkhwa",
          "Khyber Pakhtunkhwa",
          "Federal Administration Tribal Area",
          "Khyber Pakhtunkhwa",
          "Federal Administration Tribal Area",
          "Khyber Pakhtunkhwa",
          "Khyber Pakhtunkhwa",
          "Khyber Pakhtunkhwa",
          "Khyber Pakhtunkhwa",
          "Federal Administration Tribal Area",
          "Sindh",
          "Punjab",
          "Punjab",
          "Punjab",
          "Baluchistan",
          "Punjab",
          "Punjab",
          "Punjab",
          "Punjab",
          "Punjab",
          "Punjab",
          "Sindh",
          "Baluchistan",
          "Khyber Pakhtunkhwa",
          "Khyber Pakhtunkhwa",
          "Khyber Pakhtunkhwa",
          "Khyber Pakhtunkhwa",
          "Khyber Pakhtunkhwa",
          "Khyber Pakhtunkhwa",
          "Khyber Pakhtunkhwa",
          "Khyber Pakhtunkhwa",
          "Khyber Pakhtunkhwa",
          "Khyber Pakhtunkhwa",
          "Khyber Pakhtunkhwa",
          "Punjab",
          "Punjab",
          "Punjab",
          "Punjab",
          "Sindh",
          "Khyber Pakhtunkhwa",
          "Khyber Pakhtunkhwa",
          "Khyber Pakhtunkhwa",
          "Khyber Pakhtunkhwa",
          "Khyber Pakhtunkhwa",
          "Khyber Pakhtunkhwa",
          "Khyber Pakhtunkhwa",
          "Punjab",
          "Punjab",
          "Punjab",
          "Punjab",
          "Punjab",
          "Punjab",
          "Punjab",
          "Punjab",
          "Punjab",
          "Punjab",
          "Punjab",
          "Islamabad Capital Territory",
          "Khyber Pakhtunkhwa",
          "Punjab",
          "Khyber Pakhtunkhwa",
          "Khyber Pakhtunkhwa",
          "Khyber Pakhtunkhwa",
          "Khyber Pakhtunkhwa",
          "Federal Administration Tribal Area",
          "Khyber Pakhtunkhwa",
          "Khyber Pakhtunkhwa",
          "Khyber Pakhtunkhwa",
          "Khyber Pakhtunkhwa",
          "Sindh",
          "Islamabad Capital Territory",
          "Khyber Pakhtunkhwa",
          "Khyber Pakhtunkhwa",
          "Khyber Pakhtunkhwa",
          "Khyber Pakhtunkhwa",
          "Khyber Pakhtunkhwa",
          "Khyber Pakhtunkhwa",
          "Khyber Pakhtunkhwa",
          "Khyber Pakhtunkhwa",
          "Khyber Pakhtunkhwa",
          "Khyber Pakhtunkhwa",
          "Khyber Pakhtunkhwa",
          "Khyber Pakhtunkhwa",
          "Federal Administration Tribal Area",
          "Khyber Pakhtunkhwa",
          "Khyber Pakhtunkhwa",
          "Khyber Pakhtunkhwa",
          "Federal Administration Tribal Area",
          "Federal Administration Tribal Area",
          "Sindh",
          "Azad Jummu Kashmir",
          "Punjab",
          "Punjab",
          "Sindh",
          "Baluchistan",
          "Punjab",
          "Gilgit-Baltistan",
          "Gilgit-Baltistan",
          "Azad Jummu Kashmir",
          "Khyber Pakhtunkhwa",
          "Khyber Pakhtunkhwa",
          "Khyber Pakhtunkhwa",
          "Khyber Pakhtunkhwa",
          "Khyber Pakhtunkhwa",
          "Khyber Pakhtunkhwa",
          "Khyber Pakhtunkhwa",
          "Khyber Pakhtunkhwa",
          "Federal Administration Tribal Area",
          "Khyber Pakhtunkhwa",
          "Khyber Pakhtunkhwa",
          "Khyber Pakhtunkhwa",
          "Khyber Pakhtunkhwa",
          "Khyber Pakhtunkhwa",
          "Khyber Pakhtunkhwa",
          "Khyber Pakhtunkhwa",
          "Federal Administration Tribal Area",
          "Islamabad Capital Territory",
          "Sindh",
          "Sindh",
          "Baluchistan",
          "Gilgit-Baltistan",
          "Gilgit-Baltistan",
          "Khyber Pakhtunkhwa",
          "Khyber Pakhtunkhwa",
          "Federal Administration Tribal Area",
          "Khyber Pakhtunkhwa",
          "Khyber Pakhtunkhwa",
          "Khyber Pakhtunkhwa",
          "Khyber Pakhtunkhwa",
          "Federal Administration Tribal Area",
          "Federal Administration Tribal Area",
          "Khyber Pakhtunkhwa",
          "Khyber Pakhtunkhwa",
          "Khyber Pakhtunkhwa",
          "Azad Jummu Kashmir",
          "Punjab",
          "Punjab",
          "Punjab",
          "Punjab",
          "Punjab",
          "Punjab",
          "Punjab",
          "Punjab",
          "Punjab",
          "Punjab",
          "Punjab",
          "Punjab",
          "Punjab",
          "Punjab",
          "Punjab",
          "Punjab",
          "Punjab",
          "Punjab",
          "Punjab",
          "Punjab",
          "Punjab",
          "Punjab",
          "Punjab",
          "Sindh",
          "Sindh",
          "Sindh",
          "Sindh",
          "Sindh",
          "Sindh",
          "Sindh",
          "Sindh",
          "Sindh",
          "Sindh",
          "Baluchistan",
          "Gilgit-Baltistan",
          "Khyber Pakhtunkhwa",
          "Khyber Pakhtunkhwa",
          "Khyber Pakhtunkhwa",
          "Khyber Pakhtunkhwa",
          "Khyber Pakhtunkhwa",
          "Khyber Pakhtunkhwa",
          "Federal Administration Tribal Area",
          "Federal Administration Tribal Area",
          "Khyber Pakhtunkhwa",
          "Khyber Pakhtunkhwa",
          "Khyber Pakhtunkhwa",
          "Azad Jummu Kashmir",
          "Islamabad Capital Territory",
          "Sindh",
          "Baluchistan",
          "Gilgit-Baltistan",
          "Khyber Pakhtunkhwa",
          "Khyber Pakhtunkhwa",
          "Khyber Pakhtunkhwa",
          "Khyber Pakhtunkhwa",
          "Khyber Pakhtunkhwa",
          "Khyber Pakhtunkhwa",
          "Khyber Pakhtunkhwa",
          "Khyber Pakhtunkhwa",
          "Khyber Pakhtunkhwa",
          "Khyber Pakhtunkhwa",
          "Khyber Pakhtunkhwa",
          "Khyber Pakhtunkhwa",
          "Khyber Pakhtunkhwa",
          "Federal Administration Tribal Area",
          "Azad Jummu Kashmir",
          "Punjab",
          "Punjab",
          "Punjab",
          "Punjab",
          "Punjab",
          "Punjab",
          "Punjab",
          "Punjab",
          "Punjab",
          "Punjab",
          "Punjab",
          "Punjab",
          "Punjab",
          "Punjab",
          "Punjab",
          "Punjab",
          "Punjab",
          "Punjab",
          "Punjab",
          "Sindh",
          "Sindh",
          "Baluchistan",
          "Gilgit-Baltistan",
          "Khyber Pakhtunkhwa",
          "Khyber Pakhtunkhwa",
          "Federal Administration Tribal Area",
          "Khyber Pakhtunkhwa",
          "Khyber Pakhtunkhwa",
          "Khyber Pakhtunkhwa",
          "Khyber Pakhtunkhwa",
          "Khyber Pakhtunkhwa",
          "Khyber Pakhtunkhwa",
          "Khyber Pakhtunkhwa",
          "Khyber Pakhtunkhwa",
          "Khyber Pakhtunkhwa",
          "Khyber Pakhtunkhwa",
          "Khyber Pakhtunkhwa",
          "Khyber Pakhtunkhwa",
          "Khyber Pakhtunkhwa",
          "Azad Jummu Kashmir",
          "Punjab",
          "Punjab",
          "Punjab",
          "Punjab",
          "Gilgit-Baltistan",
          "Gilgit-Baltistan",
          "Azad Jummu Kashmir",
          "Baluchistan",
          "Khyber Pakhtunkhwa",
          "Khyber Pakhtunkhwa",
          "Khyber Pakhtunkhwa",
          "Khyber Pakhtunkhwa",
          "Khyber Pakhtunkhwa",
          "Khyber Pakhtunkhwa",
          "Khyber Pakhtunkhwa",
          "Khyber Pakhtunkhwa",
          "Khyber Pakhtunkhwa",
          "Khyber Pakhtunkhwa",
          "Khyber Pakhtunkhwa",
          "Khyber Pakhtunkhwa",
          "Sindh",
          "Sindh",
          "Sindh",
          "Punjab",
          "Punjab",
          "Punjab",
          "Punjab",
          "Punjab",
          "Punjab",
          "Islamabad Capital Territory",
          "Khyber Pakhtunkhwa",
          "Khyber Pakhtunkhwa",
          "Khyber Pakhtunkhwa",
          "Khyber Pakhtunkhwa",
          "Khyber Pakhtunkhwa",
          "Khyber Pakhtunkhwa",
          "Khyber Pakhtunkhwa",
          "Khyber Pakhtunkhwa",
          "Federal Administration Tribal Area",
          "Khyber Pakhtunkhwa",
          "Khyber Pakhtunkhwa",
          "Khyber Pakhtunkhwa",
          "Khyber Pakhtunkhwa",
          "Federal Administration Tribal Area",
          "Federal Administration Tribal Area",
          "Baluchistan",
          "Azad Jummu Kashmir",
          "Punjab",
          "Punjab",
          "Punjab",
          "Punjab",
          "Punjab",
          "Punjab",
          "Punjab",
          "Punjab",
          "Punjab",
          "Islamabad Capital Territory",
          "Punjab",
          "Sindh",
          "Sindh",
          "Khyber Pakhtunkhwa",
          "Khyber Pakhtunkhwa",
          "Khyber Pakhtunkhwa",
          "Khyber Pakhtunkhwa",
          "Federal Administration Tribal Area",
          "Khyber Pakhtunkhwa",
          "Federal Administration Tribal Area",
          "Khyber Pakhtunkhwa",
          "Khyber Pakhtunkhwa",
          "Khyber Pakhtunkhwa",
          "Khyber Pakhtunkhwa",
          "Khyber Pakhtunkhwa",
          "Khyber Pakhtunkhwa",
          "Federal Administration Tribal Area",
          "Khyber Pakhtunkhwa",
          "Azad Jummu Kashmir",
          "Baluchistan",
          "Gilgit-Baltistan",
          "Gilgit-Baltistan",
          "Gilgit-Baltistan",
          "Gilgit-Baltistan",
          "Baluchistan",
          "Sindh",
          "Sindh",
          "Khyber Pakhtunkhwa",
          "Khyber Pakhtunkhwa",
          "Khyber Pakhtunkhwa",
          "Khyber Pakhtunkhwa",
          "Khyber Pakhtunkhwa",
          "Federal Administration Tribal Area",
          "Khyber Pakhtunkhwa",
          "Khyber Pakhtunkhwa",
          "Khyber Pakhtunkhwa",
          "Federal Administration Tribal Area",
          "Khyber Pakhtunkhwa",
          "Khyber Pakhtunkhwa",
          "Khyber Pakhtunkhwa",
          "Khyber Pakhtunkhwa",
          "Punjab",
          "Punjab",
          "Punjab",
          "Punjab",
          "Punjab",
          "Punjab",
          "Punjab",
          "Punjab",
          "Punjab",
          "Punjab",
          "Punjab",
          "Punjab",
          "Punjab",
          "Punjab",
          "Punjab",
          "Punjab",
          "Punjab",
          "Punjab",
          "Punjab",
          "Punjab",
          "Punjab",
          "Punjab",
          "Punjab",
          "Punjab",
          "Punjab",
          "Islamabad Capital Territory",
          "Gilgit-Baltistan",
          "Gilgit-Baltistan",
          "Gilgit-Baltistan",
          "Gilgit-Baltistan",
          "Gilgit-Baltistan",
          "Sindh",
          "Sindh",
          "Sindh",
          "Sindh",
          "Khyber Pakhtunkhwa",
          "Khyber Pakhtunkhwa",
          "Khyber Pakhtunkhwa",
          "Khyber Pakhtunkhwa",
          "Khyber Pakhtunkhwa",
          "Khyber Pakhtunkhwa",
          "Khyber Pakhtunkhwa",
          "Khyber Pakhtunkhwa",
          "Federal Administration Tribal Area",
          "Khyber Pakhtunkhwa",
          "Khyber Pakhtunkhwa",
          "Punjab",
          "Punjab",
          "Punjab",
          "Punjab",
          "Punjab",
          "Punjab",
          "Punjab",
          "Punjab",
          "Punjab",
          "Punjab",
          "Punjab",
          "Punjab",
          "Baluchistan",
          "Islamabad Capital Territory",
          "Khyber Pakhtunkhwa",
          "Khyber Pakhtunkhwa",
          "Khyber Pakhtunkhwa",
          "Khyber Pakhtunkhwa",
          "Khyber Pakhtunkhwa",
          "Khyber Pakhtunkhwa",
          "Khyber Pakhtunkhwa",
          "Federal Administration Tribal Area",
          "Khyber Pakhtunkhwa",
          "Khyber Pakhtunkhwa",
          "Khyber Pakhtunkhwa",
          "Khyber Pakhtunkhwa",
          "Khyber Pakhtunkhwa",
          "Federal Administration Tribal Area",
          "Khyber Pakhtunkhwa",
          "Khyber Pakhtunkhwa",
          "Punjab",
          "Punjab",
          "Punjab",
          "Punjab",
          "Punjab",
          "Punjab",
          "Punjab",
          "Punjab",
          "Punjab",
          "Sindh",
          "Sindh",
          "Sindh",
          "Sindh",
          "Sindh",
          "Sindh",
          "Sindh",
          "Sindh",
          "Sindh",
          "Sindh",
          "Sindh",
          "Islamabad Capital Territory",
          "Sindh",
          "Sindh",
          "Sindh",
          "Sindh",
          "Sindh",
          "Sindh",
          "Sindh",
          "Azad Jummu Kashmir",
          "Gilgit-Baltistan",
          "Baluchistan",
          "Punjab",
          "Punjab",
          "Punjab",
          "Punjab",
          "Punjab",
          "Punjab",
          "Punjab",
          "Punjab",
          "Punjab",
          "Punjab",
          "Punjab",
          "Punjab",
          "Punjab",
          "Islamabad Capital Territory",
          "Sindh",
          "Sindh",
          "Sindh",
          "Sindh",
          "Gilgit-Baltistan",
          "Baluchistan",
          "Punjab",
          "Punjab",
          "Punjab",
          "Punjab",
          "Punjab",
          "Punjab",
          "Islamabad Capital Territory",
          "Sindh",
          "Sindh",
          "Sindh",
          "Azad Jummu Kashmir",
          "Gilgit-Baltistan",
          "Khyber Pakhtunkhwa",
          "Khyber Pakhtunkhwa",
          "Federal Administration Tribal Area",
          "Khyber Pakhtunkhwa",
          "Khyber Pakhtunkhwa",
          "Khyber Pakhtunkhwa",
          "Khyber Pakhtunkhwa",
          "Khyber Pakhtunkhwa",
          "Khyber Pakhtunkhwa",
          "Khyber Pakhtunkhwa",
          "Khyber Pakhtunkhwa",
          "Khyber Pakhtunkhwa",
          "Khyber Pakhtunkhwa",
          "Khyber Pakhtunkhwa",
          "Khyber Pakhtunkhwa",
          "Baluchistan",
          "Punjab",
          "Punjab",
          "Punjab",
          "Punjab",
          "Punjab",
          "Punjab",
          "Punjab",
          "Punjab",
          "Punjab",
          "Punjab",
          "Punjab",
          "Punjab",
          "Punjab",
          "Punjab",
          "Punjab",
          "Punjab",
          "Punjab",
          "Punjab",
          "Punjab",
          "Baluchistan",
          "Sindh",
          "Sindh",
          "Gilgit-Baltistan",
          "Punjab",
          "Khyber Pakhtunkhwa",
          "Khyber Pakhtunkhwa",
          "Khyber Pakhtunkhwa",
          "Khyber Pakhtunkhwa",
          "Khyber Pakhtunkhwa",
          "Khyber Pakhtunkhwa",
          "Khyber Pakhtunkhwa",
          "Khyber Pakhtunkhwa",
          "Islamabad Capital Territory",
          "Khyber Pakhtunkhwa",
          "Khyber Pakhtunkhwa",
          "Khyber Pakhtunkhwa",
          "Khyber Pakhtunkhwa",
          "Khyber Pakhtunkhwa",
          "Khyber Pakhtunkhwa",
          "Khyber Pakhtunkhwa",
          "Federal Administration Tribal Area",
          "Khyber Pakhtunkhwa",
          "Khyber Pakhtunkhwa",
          "Khyber Pakhtunkhwa",
          "Khyber Pakhtunkhwa",
          "Khyber Pakhtunkhwa",
          "Khyber Pakhtunkhwa",
          "Khyber Pakhtunkhwa",
          "Federal Administration Tribal Area",
          "Khyber Pakhtunkhwa",
          "Federal Administration Tribal Area",
          "Khyber Pakhtunkhwa",
          "Sindh",
          "Islamabad Capital Territory",
          "Azad Jummu Kashmir",
          "Gilgit-Baltistan",
          "Baluchistan",
          "Islamabad Capital Territory",
          "Sindh",
          "Sindh",
          "Sindh",
          "Sindh",
          "Sindh",
          "Sindh",
          "Sindh",
          "Sindh",
          "Sindh",
          "Baluchistan",
          "Gilgit-Baltistan",
          "Azad Jummu Kashmir",
          "Khyber Pakhtunkhwa",
          "Khyber Pakhtunkhwa",
          "Khyber Pakhtunkhwa",
          "Khyber Pakhtunkhwa",
          "Khyber Pakhtunkhwa",
          "Khyber Pakhtunkhwa",
          "Khyber Pakhtunkhwa",
          "Khyber Pakhtunkhwa",
          "Khyber Pakhtunkhwa",
          "Khyber Pakhtunkhwa",
          "Khyber Pakhtunkhwa",
          "Khyber Pakhtunkhwa",
          "Khyber Pakhtunkhwa",
          "Khyber Pakhtunkhwa",
          "Khyber Pakhtunkhwa",
          "Khyber Pakhtunkhwa",
          "Sindh",
          "Sindh",
          "Sindh",
          "Sindh",
          "Sindh",
          "Sindh",
          "Sindh",
          "Sindh",
          "Sindh",
          "Sindh",
          "Sindh",
          "Sindh",
          "Islamabad Capital Territory",
          "Gilgit-Baltistan",
          "Azad Jummu Kashmir",
          "Khyber Pakhtunkhwa",
          "Khyber Pakhtunkhwa",
          "Khyber Pakhtunkhwa",
          "Khyber Pakhtunkhwa",
          "Khyber Pakhtunkhwa",
          "Khyber Pakhtunkhwa",
          "Khyber Pakhtunkhwa",
          "Khyber Pakhtunkhwa",
          "Khyber Pakhtunkhwa",
          "Khyber Pakhtunkhwa",
          "Khyber Pakhtunkhwa",
          "Khyber Pakhtunkhwa",
          "Khyber Pakhtunkhwa",
          "Khyber Pakhtunkhwa",
          "Khyber Pakhtunkhwa",
          "Khyber Pakhtunkhwa",
          "Khyber Pakhtunkhwa",
          "Khyber Pakhtunkhwa",
          "Khyber Pakhtunkhwa",
          "Khyber Pakhtunkhwa",
          "Khyber Pakhtunkhwa",
          "Khyber Pakhtunkhwa",
          "Khyber Pakhtunkhwa",
          "Khyber Pakhtunkhwa",
          "Khyber Pakhtunkhwa",
          "Khyber Pakhtunkhwa",
          "Khyber Pakhtunkhwa",
          "Khyber Pakhtunkhwa",
          "Khyber Pakhtunkhwa",
          "Khyber Pakhtunkhwa",
          "Khyber Pakhtunkhwa",
          "Khyber Pakhtunkhwa",
          "Khyber Pakhtunkhwa",
          "Khyber Pakhtunkhwa",
          "Khyber Pakhtunkhwa",
          "Islamabad Capital Territory",
          "Gilgit-Baltistan",
          "Sindh",
          "Sindh",
          "Sindh",
          "Sindh",
          "Sindh",
          "Sindh",
          "Sindh",
          "Sindh",
          "Sindh",
          "Baluchistan",
          "Khyber Pakhtunkhwa",
          "Khyber Pakhtunkhwa",
          "Khyber Pakhtunkhwa",
          "Khyber Pakhtunkhwa",
          "Khyber Pakhtunkhwa",
          "Khyber Pakhtunkhwa",
          "Khyber Pakhtunkhwa",
          "Khyber Pakhtunkhwa",
          "Khyber Pakhtunkhwa",
          "Khyber Pakhtunkhwa",
          "Khyber Pakhtunkhwa",
          "Khyber Pakhtunkhwa",
          "Khyber Pakhtunkhwa",
          "Khyber Pakhtunkhwa",
          "Khyber Pakhtunkhwa",
          "Khyber Pakhtunkhwa",
          "Sindh",
          "Sindh",
          "Sindh",
          "Sindh",
          "Sindh",
          "Sindh",
          "Sindh",
          "Sindh",
          "Sindh",
          "Sindh",
          "Sindh",
          "Sindh",
          "Sindh",
          "Islamabad Capital Territory",
          "Gilgit-Baltistan",
          "Khyber Pakhtunkhwa",
          "Khyber Pakhtunkhwa",
          "Khyber Pakhtunkhwa",
          "Khyber Pakhtunkhwa",
          "Khyber Pakhtunkhwa",
          "Khyber Pakhtunkhwa",
          "Khyber Pakhtunkhwa",
          "Khyber Pakhtunkhwa",
          "Khyber Pakhtunkhwa",
          "Khyber Pakhtunkhwa",
          "Khyber Pakhtunkhwa",
          "Khyber Pakhtunkhwa",
          "Khyber Pakhtunkhwa",
          "Khyber Pakhtunkhwa",
          "Khyber Pakhtunkhwa",
          "Khyber Pakhtunkhwa",
          "Islamabad Capital Territory",
          "Sindh",
          "Sindh",
          "Sindh",
          "Sindh",
          "Sindh",
          "Sindh",
          "Sindh",
          "Sindh",
          "Sindh",
          "Sindh",
          "Sindh",
          "Sindh",
          "Sindh",
          "Sindh",
          "Gilgit-Baltistan",
          "Azad Jummu Kashmir",
          "Islamabad Capital Territory",
          "Sindh",
          "Sindh",
          "Sindh",
          "Sindh",
          "Sindh",
          "Sindh",
          "Sindh",
          "Sindh",
          "Sindh",
          "Sindh",
          "Sindh",
          "Sindh",
          "Sindh",
          "Sindh",
          "Sindh",
          "Sindh",
          "Sindh",
          "Sindh",
          "Khyber Pakhtunkhwa",
          "Khyber Pakhtunkhwa",
          "Khyber Pakhtunkhwa",
          "Khyber Pakhtunkhwa",
          "Khyber Pakhtunkhwa",
          "Khyber Pakhtunkhwa",
          "Khyber Pakhtunkhwa",
          "Khyber Pakhtunkhwa",
          "Khyber Pakhtunkhwa",
          "Khyber Pakhtunkhwa",
          "Khyber Pakhtunkhwa",
          "Khyber Pakhtunkhwa",
          "Khyber Pakhtunkhwa",
          "Khyber Pakhtunkhwa",
          "Khyber Pakhtunkhwa",
          "Khyber Pakhtunkhwa",
          "Punjab",
          "Gilgit-Baltistan",
          "Islamabad Capital Territory",
          "Punjab",
          "Sindh",
          "Gilgit-Baltistan",
          "Khyber Pakhtunkhwa",
          "Azad Jummu Kashmir",
          "Islamabad Capital Territory",
          "Punjab",
          "Sindh",
          "Sindh",
          "Sindh",
          "Sindh",
          "Sindh",
          "Sindh",
          "Sindh",
          "Sindh",
          "Baluchistan",
          "Gilgit-Baltistan",
          "Khyber Pakhtunkhwa",
          "Islamabad Capital Territory",
          "Punjab",
          "Sindh",
          "Sindh",
          "Sindh",
          "Sindh",
          "Sindh",
          "Sindh",
          "Sindh",
          "Sindh",
          "Sindh",
          "Sindh",
          "Sindh",
          "Sindh",
          "Baluchistan",
          "Gilgit-Baltistan",
          "Azad Jummu Kashmir",
          "islamabad Capital Territory",
          "Sindh",
          "Sindh",
          "Baluchistan",
          "Baluchistan",
          "Gilgit-Baltistan",
          "Gilgit-Baltistan",
          "Khyber Pakhtunkhwa",
          "Khyber Pakhtunkhwa",
          "Khyber Pakhtunkhwa",
          "Khyber Pakhtunkhwa",
          "Khyber Pakhtunkhwa",
          "Khyber Pakhtunkhwa",
          "Khyber Pakhtunkhwa",
          "Khyber Pakhtunkhwa",
          "Khyber Pakhtunkhwa",
          "Khyber Pakhtunkhwa",
          "Khyber Pakhtunkhwa",
          "Khyber Pakhtunkhwa",
          "Khyber Pakhtunkhwa",
          "Khyber Pakhtunkhwa",
          "Khyber Pakhtunkhwa",
          "Khyber Pakhtunkhwa",
          "Khyber Pakhtunkhwa",
          "Khyber Pakhtunkhwa",
          "Khyber Pakhtunkhwa",
          "Khyber Pakhtunkhwa",
          "Khyber Pakhtunkhwa",
          "Khyber Pakhtunkhwa",
          "Khyber Pakhtunkhwa",
          "Khyber Pakhtunkhwa",
          "Khyber Pakhtunkhwa",
          "Khyber Pakhtunkhwa",
          "Khyber Pakhtunkhwa",
          "Khyber Pakhtunkhwa",
          "Khyber Pakhtunkhwa",
          "Khyber Pakhtunkhwa",
          "Khyber Pakhtunkhwa",
          "Khyber Pakhtunkhwa",
          "Khyber Pakhtunkhwa",
          "Khyber Pakhtunkhwa",
          "Khyber Pakhtunkhwa",
          "islamabad Capital Territory",
          "Gilgit-Baltistan",
          "Khyber Pakhtunkhwa",
          "Khyber Pakhtunkhwa",
          "Khyber Pakhtunkhwa",
          "Khyber Pakhtunkhwa",
          "Khyber Pakhtunkhwa",
          "Khyber Pakhtunkhwa",
          "Khyber Pakhtunkhwa",
          "Khyber Pakhtunkhwa",
          "Khyber Pakhtunkhwa",
          "Khyber Pakhtunkhwa",
          "Khyber Pakhtunkhwa",
          "Khyber Pakhtunkhwa",
          "Khyber Pakhtunkhwa",
          "Khyber Pakhtunkhwa",
          "Khyber Pakhtunkhwa",
          "Khyber Pakhtunkhwa",
          "Khyber Pakhtunkhwa",
          "Khyber Pakhtunkhwa",
          "Khyber Pakhtunkhwa",
          "Khyber Pakhtunkhwa",
          "Khyber Pakhtunkhwa",
          "Khyber Pakhtunkhwa",
          "Khyber Pakhtunkhwa",
          "Khyber Pakhtunkhwa",
          "Khyber Pakhtunkhwa",
          "Khyber Pakhtunkhwa",
          "Khyber Pakhtunkhwa",
          "Khyber Pakhtunkhwa",
          "Khyber Pakhtunkhwa",
          "Khyber Pakhtunkhwa",
          "Khyber Pakhtunkhwa",
          "Khyber Pakhtunkhwa",
          "Khyber Pakhtunkhwa",
          "Khyber Pakhtunkhwa",
          "Khyber Pakhtunkhwa",
          "Baluchistan",
          "Baluchistan",
          "Sindh",
          "Punjab",
          "islamabad Capital Territory",
          "Punjab",
          "Baluchistan",
          "Baluchistan",
          "Gilgit-Baltistan",
          "Khyber Pakhtunkhwa",
          "Azad Jummu Kashmir",
          "Sindh",
          "islamabad Capital Territory",
          "Punjab",
          "Sindh",
          "Baluchistan",
          "Gilgit-Baltistan",
          "Khyber Pakhtunkhwa",
          "Khyber Pakhtunkhwa",
          "Khyber Pakhtunkhwa",
          "Khyber Pakhtunkhwa",
          "Khyber Pakhtunkhwa",
          "Khyber Pakhtunkhwa",
          "Khyber Pakhtunkhwa",
          "Khyber Pakhtunkhwa",
          "Khyber Pakhtunkhwa",
          "Khyber Pakhtunkhwa",
          "Khyber Pakhtunkhwa",
          "Khyber Pakhtunkhwa",
          "Khyber Pakhtunkhwa",
          "Khyber Pakhtunkhwa",
          "Khyber Pakhtunkhwa",
          "Khyber Pakhtunkhwa",
          "Khyber Pakhtunkhwa",
          "Khyber Pakhtunkhwa",
          "Khyber Pakhtunkhwa",
          "Khyber Pakhtunkhwa",
          "Khyber Pakhtunkhwa",
          "Khyber Pakhtunkhwa",
          "Khyber Pakhtunkhwa",
          "Khyber Pakhtunkhwa",
          "Khyber Pakhtunkhwa",
          "Khyber Pakhtunkhwa",
          "Khyber Pakhtunkhwa",
          "Khyber Pakhtunkhwa",
          "Khyber Pakhtunkhwa",
          "Khyber Pakhtunkhwa",
          "Khyber Pakhtunkhwa",
          "Khyber Pakhtunkhwa",
          "Khyber Pakhtunkhwa",
          "Khyber Pakhtunkhwa",
          "Khyber Pakhtunkhwa",
          "islamabad Capital Territory",
          "Punjab",
          "Sindh",
          "Baluchistan",
          "Gilgit-Baltistan",
          "Khyber Pakhtunkhwa",
          "Azad Jummu Kashmir",
          "islamabad Capital Territory",
          "Punjab",
          "Sindh",
          "Baluchistan",
          "Gilgit-Baltistan",
          "Khyber Pakhtunkhwa",
          "Azad Jummu Kashmir",
          "islamabad Capital Territory",
          "Punjab",
          "Sindh",
          "Baluchistan",
          "Gilgit-Baltistan",
          "Khyber Pakhtunkhwa",
          "islamabad Capital Territory",
          "Punjab",
          "Sindh",
          "Baluchistan",
          "Khyber Pakhtunkhwa",
          "Azad Jummu Kashmir",
          "islamabad Capital Territory",
          "Punjab",
          "Sindh",
          "Baluchistan",
          "Gilgit-Baltistan",
          "Khyber Pakhtunkhwa",
          "Azad Jummu Kashmir",
          "islamabad Capital Territory",
          "Punjab",
          "Sindh",
          "Baluchistan",
          "Gilgit-Baltistan",
          "Khyber Pakhtunkhwa",
          "Azad Jummu Kashmir"
         ],
         "yaxis": "y"
        },
        {
         "alignmentgroup": "True",
         "hovertemplate": "Travel_history=USA<br>Cases=%{x}<br>Province=%{y}<extra></extra>",
         "legendgroup": "USA",
         "marker": {
          "color": "#FF6692",
          "pattern": {
           "shape": ""
          }
         },
         "name": "USA",
         "offsetgroup": "USA",
         "orientation": "h",
         "showlegend": true,
         "textposition": "auto",
         "type": "bar",
         "x": [
          1
         ],
         "xaxis": "x",
         "y": [
          "Islamabad Capital Territory"
         ],
         "yaxis": "y"
        },
        {
         "alignmentgroup": "True",
         "hovertemplate": "Travel_history=KSA<br>Cases=%{x}<br>Province=%{y}<extra></extra>",
         "legendgroup": "KSA",
         "marker": {
          "color": "#B6E880",
          "pattern": {
           "shape": ""
          }
         },
         "name": "KSA",
         "offsetgroup": "KSA",
         "orientation": "h",
         "showlegend": true,
         "textposition": "auto",
         "type": "bar",
         "x": [
          5,
          1
         ],
         "xaxis": "x",
         "y": [
          "Sindh",
          "Khyber Pakhtunkhwa"
         ],
         "yaxis": "y"
        },
        {
         "alignmentgroup": "True",
         "hovertemplate": "Travel_history=Local - Covid Relative<br>Cases=%{x}<br>Province=%{y}<extra></extra>",
         "legendgroup": "Local - Covid Relative",
         "marker": {
          "color": "#FF97FF",
          "pattern": {
           "shape": ""
          }
         },
         "name": "Local - Covid Relative",
         "offsetgroup": "Local - Covid Relative",
         "orientation": "h",
         "showlegend": true,
         "textposition": "auto",
         "type": "bar",
         "x": [
          1
         ],
         "xaxis": "x",
         "y": [
          "Khyber Pakhtunkhwa"
         ],
         "yaxis": "y"
        },
        {
         "alignmentgroup": "True",
         "hovertemplate": "Travel_history=International Passenger<br>Cases=%{x}<br>Province=%{y}<extra></extra>",
         "legendgroup": "International Passenger",
         "marker": {
          "color": "#FECB52",
          "pattern": {
           "shape": ""
          }
         },
         "name": "International Passenger",
         "offsetgroup": "International Passenger",
         "orientation": "h",
         "showlegend": true,
         "textposition": "auto",
         "type": "bar",
         "x": [
          5,
          12,
          13,
          8,
          0
         ],
         "xaxis": "x",
         "y": [
          "Islamabad Capital Territory",
          "Islamabad Capital Territory",
          "Islamabad Capital Territory",
          "Khyber Pakhtunkhwa",
          "Khyber Pakhtunkhwa"
         ],
         "yaxis": "y"
        },
        {
         "alignmentgroup": "True",
         "hovertemplate": "Travel_history=Dubai<br>Cases=%{x}<br>Province=%{y}<extra></extra>",
         "legendgroup": "Dubai",
         "marker": {
          "color": "#636efa",
          "pattern": {
           "shape": ""
          }
         },
         "name": "Dubai",
         "offsetgroup": "Dubai",
         "orientation": "h",
         "showlegend": true,
         "textposition": "auto",
         "type": "bar",
         "x": [
          1,
          0
         ],
         "xaxis": "x",
         "y": [
          "Gilgit-Baltistan",
          "Gilgit-Baltistan"
         ],
         "yaxis": "y"
        },
        {
         "alignmentgroup": "True",
         "hovertemplate": "Travel_history=Tableeghi Jamaat<br>Cases=%{x}<br>Province=%{y}<extra></extra>",
         "legendgroup": "Tableeghi Jamaat",
         "marker": {
          "color": "#EF553B",
          "pattern": {
           "shape": ""
          }
         },
         "name": "Tableeghi Jamaat",
         "offsetgroup": "Tableeghi Jamaat",
         "orientation": "h",
         "showlegend": true,
         "textposition": "auto",
         "type": "bar",
         "x": [
          94,
          27,
          0,
          12,
          3,
          100,
          17,
          0,
          42,
          213,
          18,
          366,
          0,
          2,
          1,
          7,
          0,
          10,
          20,
          10,
          95,
          0,
          78
         ],
         "xaxis": "x",
         "y": [
          "Sindh",
          "Punjab",
          "Sindh",
          "Punjab",
          "Punjab",
          "Punjab",
          "Gilgit-Baltistan",
          "Punjab",
          "Sindh",
          "Punjab",
          "Punjab",
          "Punjab",
          "Khyber Pakhtunkhwa",
          "Khyber Pakhtunkhwa",
          "Punjab",
          "Punjab",
          "Punjab",
          "Punjab",
          "Sindh",
          "Punjab",
          "Punjab",
          "Punjab",
          "Sindh"
         ],
         "yaxis": "y"
        },
        {
         "alignmentgroup": "True",
         "hovertemplate": "Travel_history=Jail<br>Cases=%{x}<br>Province=%{y}<extra></extra>",
         "legendgroup": "Jail",
         "marker": {
          "color": "#00cc96",
          "pattern": {
           "shape": ""
          }
         },
         "name": "Jail",
         "offsetgroup": "Jail",
         "orientation": "h",
         "showlegend": true,
         "textposition": "auto",
         "type": "bar",
         "x": [
          77,
          12,
          9,
          3,
          6
         ],
         "xaxis": "x",
         "y": [
          "Punjab",
          "Punjab",
          "Punjab",
          "Punjab",
          "Sindh"
         ],
         "yaxis": "y"
        },
        {
         "alignmentgroup": "True",
         "hovertemplate": "Travel_history=Afghanistan<br>Cases=%{x}<br>Province=%{y}<extra></extra>",
         "legendgroup": "Afghanistan",
         "marker": {
          "color": "#ab63fa",
          "pattern": {
           "shape": ""
          }
         },
         "name": "Afghanistan",
         "offsetgroup": "Afghanistan",
         "orientation": "h",
         "showlegend": true,
         "textposition": "auto",
         "type": "bar",
         "x": [
          41,
          2,
          2,
          23,
          2
         ],
         "xaxis": "x",
         "y": [
          "Khyber Pakhtunkhwa",
          "Khyber Pakhtunkhwa",
          "Khyber Pakhtunkhwa",
          "Khyber Pakhtunkhwa",
          "Khyber Pakhtunkhwa"
         ],
         "yaxis": "y"
        },
        {
         "alignmentgroup": "True",
         "hovertemplate": "Travel_history=India<br>Cases=%{x}<br>Province=%{y}<extra></extra>",
         "legendgroup": "India",
         "marker": {
          "color": "#FFA15A",
          "pattern": {
           "shape": ""
          }
         },
         "name": "India",
         "offsetgroup": "India",
         "orientation": "h",
         "showlegend": true,
         "textposition": "auto",
         "type": "bar",
         "x": [
          2
         ],
         "xaxis": "x",
         "y": [
          "Punjab"
         ],
         "yaxis": "y"
        }
       ],
       "layout": {
        "barmode": "relative",
        "legend": {
         "title": {
          "text": "Travel_history"
         },
         "tracegroupgap": 0
        },
        "template": {
         "data": {
          "bar": [
           {
            "error_x": {
             "color": "#2a3f5f"
            },
            "error_y": {
             "color": "#2a3f5f"
            },
            "marker": {
             "line": {
              "color": "#E5ECF6",
              "width": 0.5
             },
             "pattern": {
              "fillmode": "overlay",
              "size": 10,
              "solidity": 0.2
             }
            },
            "type": "bar"
           }
          ],
          "barpolar": [
           {
            "marker": {
             "line": {
              "color": "#E5ECF6",
              "width": 0.5
             },
             "pattern": {
              "fillmode": "overlay",
              "size": 10,
              "solidity": 0.2
             }
            },
            "type": "barpolar"
           }
          ],
          "carpet": [
           {
            "aaxis": {
             "endlinecolor": "#2a3f5f",
             "gridcolor": "white",
             "linecolor": "white",
             "minorgridcolor": "white",
             "startlinecolor": "#2a3f5f"
            },
            "baxis": {
             "endlinecolor": "#2a3f5f",
             "gridcolor": "white",
             "linecolor": "white",
             "minorgridcolor": "white",
             "startlinecolor": "#2a3f5f"
            },
            "type": "carpet"
           }
          ],
          "choropleth": [
           {
            "colorbar": {
             "outlinewidth": 0,
             "ticks": ""
            },
            "type": "choropleth"
           }
          ],
          "contour": [
           {
            "colorbar": {
             "outlinewidth": 0,
             "ticks": ""
            },
            "colorscale": [
             [
              0,
              "#0d0887"
             ],
             [
              0.1111111111111111,
              "#46039f"
             ],
             [
              0.2222222222222222,
              "#7201a8"
             ],
             [
              0.3333333333333333,
              "#9c179e"
             ],
             [
              0.4444444444444444,
              "#bd3786"
             ],
             [
              0.5555555555555556,
              "#d8576b"
             ],
             [
              0.6666666666666666,
              "#ed7953"
             ],
             [
              0.7777777777777778,
              "#fb9f3a"
             ],
             [
              0.8888888888888888,
              "#fdca26"
             ],
             [
              1,
              "#f0f921"
             ]
            ],
            "type": "contour"
           }
          ],
          "contourcarpet": [
           {
            "colorbar": {
             "outlinewidth": 0,
             "ticks": ""
            },
            "type": "contourcarpet"
           }
          ],
          "heatmap": [
           {
            "colorbar": {
             "outlinewidth": 0,
             "ticks": ""
            },
            "colorscale": [
             [
              0,
              "#0d0887"
             ],
             [
              0.1111111111111111,
              "#46039f"
             ],
             [
              0.2222222222222222,
              "#7201a8"
             ],
             [
              0.3333333333333333,
              "#9c179e"
             ],
             [
              0.4444444444444444,
              "#bd3786"
             ],
             [
              0.5555555555555556,
              "#d8576b"
             ],
             [
              0.6666666666666666,
              "#ed7953"
             ],
             [
              0.7777777777777778,
              "#fb9f3a"
             ],
             [
              0.8888888888888888,
              "#fdca26"
             ],
             [
              1,
              "#f0f921"
             ]
            ],
            "type": "heatmap"
           }
          ],
          "heatmapgl": [
           {
            "colorbar": {
             "outlinewidth": 0,
             "ticks": ""
            },
            "colorscale": [
             [
              0,
              "#0d0887"
             ],
             [
              0.1111111111111111,
              "#46039f"
             ],
             [
              0.2222222222222222,
              "#7201a8"
             ],
             [
              0.3333333333333333,
              "#9c179e"
             ],
             [
              0.4444444444444444,
              "#bd3786"
             ],
             [
              0.5555555555555556,
              "#d8576b"
             ],
             [
              0.6666666666666666,
              "#ed7953"
             ],
             [
              0.7777777777777778,
              "#fb9f3a"
             ],
             [
              0.8888888888888888,
              "#fdca26"
             ],
             [
              1,
              "#f0f921"
             ]
            ],
            "type": "heatmapgl"
           }
          ],
          "histogram": [
           {
            "marker": {
             "pattern": {
              "fillmode": "overlay",
              "size": 10,
              "solidity": 0.2
             }
            },
            "type": "histogram"
           }
          ],
          "histogram2d": [
           {
            "colorbar": {
             "outlinewidth": 0,
             "ticks": ""
            },
            "colorscale": [
             [
              0,
              "#0d0887"
             ],
             [
              0.1111111111111111,
              "#46039f"
             ],
             [
              0.2222222222222222,
              "#7201a8"
             ],
             [
              0.3333333333333333,
              "#9c179e"
             ],
             [
              0.4444444444444444,
              "#bd3786"
             ],
             [
              0.5555555555555556,
              "#d8576b"
             ],
             [
              0.6666666666666666,
              "#ed7953"
             ],
             [
              0.7777777777777778,
              "#fb9f3a"
             ],
             [
              0.8888888888888888,
              "#fdca26"
             ],
             [
              1,
              "#f0f921"
             ]
            ],
            "type": "histogram2d"
           }
          ],
          "histogram2dcontour": [
           {
            "colorbar": {
             "outlinewidth": 0,
             "ticks": ""
            },
            "colorscale": [
             [
              0,
              "#0d0887"
             ],
             [
              0.1111111111111111,
              "#46039f"
             ],
             [
              0.2222222222222222,
              "#7201a8"
             ],
             [
              0.3333333333333333,
              "#9c179e"
             ],
             [
              0.4444444444444444,
              "#bd3786"
             ],
             [
              0.5555555555555556,
              "#d8576b"
             ],
             [
              0.6666666666666666,
              "#ed7953"
             ],
             [
              0.7777777777777778,
              "#fb9f3a"
             ],
             [
              0.8888888888888888,
              "#fdca26"
             ],
             [
              1,
              "#f0f921"
             ]
            ],
            "type": "histogram2dcontour"
           }
          ],
          "mesh3d": [
           {
            "colorbar": {
             "outlinewidth": 0,
             "ticks": ""
            },
            "type": "mesh3d"
           }
          ],
          "parcoords": [
           {
            "line": {
             "colorbar": {
              "outlinewidth": 0,
              "ticks": ""
             }
            },
            "type": "parcoords"
           }
          ],
          "pie": [
           {
            "automargin": true,
            "type": "pie"
           }
          ],
          "scatter": [
           {
            "fillpattern": {
             "fillmode": "overlay",
             "size": 10,
             "solidity": 0.2
            },
            "type": "scatter"
           }
          ],
          "scatter3d": [
           {
            "line": {
             "colorbar": {
              "outlinewidth": 0,
              "ticks": ""
             }
            },
            "marker": {
             "colorbar": {
              "outlinewidth": 0,
              "ticks": ""
             }
            },
            "type": "scatter3d"
           }
          ],
          "scattercarpet": [
           {
            "marker": {
             "colorbar": {
              "outlinewidth": 0,
              "ticks": ""
             }
            },
            "type": "scattercarpet"
           }
          ],
          "scattergeo": [
           {
            "marker": {
             "colorbar": {
              "outlinewidth": 0,
              "ticks": ""
             }
            },
            "type": "scattergeo"
           }
          ],
          "scattergl": [
           {
            "marker": {
             "colorbar": {
              "outlinewidth": 0,
              "ticks": ""
             }
            },
            "type": "scattergl"
           }
          ],
          "scattermapbox": [
           {
            "marker": {
             "colorbar": {
              "outlinewidth": 0,
              "ticks": ""
             }
            },
            "type": "scattermapbox"
           }
          ],
          "scatterpolar": [
           {
            "marker": {
             "colorbar": {
              "outlinewidth": 0,
              "ticks": ""
             }
            },
            "type": "scatterpolar"
           }
          ],
          "scatterpolargl": [
           {
            "marker": {
             "colorbar": {
              "outlinewidth": 0,
              "ticks": ""
             }
            },
            "type": "scatterpolargl"
           }
          ],
          "scatterternary": [
           {
            "marker": {
             "colorbar": {
              "outlinewidth": 0,
              "ticks": ""
             }
            },
            "type": "scatterternary"
           }
          ],
          "surface": [
           {
            "colorbar": {
             "outlinewidth": 0,
             "ticks": ""
            },
            "colorscale": [
             [
              0,
              "#0d0887"
             ],
             [
              0.1111111111111111,
              "#46039f"
             ],
             [
              0.2222222222222222,
              "#7201a8"
             ],
             [
              0.3333333333333333,
              "#9c179e"
             ],
             [
              0.4444444444444444,
              "#bd3786"
             ],
             [
              0.5555555555555556,
              "#d8576b"
             ],
             [
              0.6666666666666666,
              "#ed7953"
             ],
             [
              0.7777777777777778,
              "#fb9f3a"
             ],
             [
              0.8888888888888888,
              "#fdca26"
             ],
             [
              1,
              "#f0f921"
             ]
            ],
            "type": "surface"
           }
          ],
          "table": [
           {
            "cells": {
             "fill": {
              "color": "#EBF0F8"
             },
             "line": {
              "color": "white"
             }
            },
            "header": {
             "fill": {
              "color": "#C8D4E3"
             },
             "line": {
              "color": "white"
             }
            },
            "type": "table"
           }
          ]
         },
         "layout": {
          "annotationdefaults": {
           "arrowcolor": "#2a3f5f",
           "arrowhead": 0,
           "arrowwidth": 1
          },
          "autotypenumbers": "strict",
          "coloraxis": {
           "colorbar": {
            "outlinewidth": 0,
            "ticks": ""
           }
          },
          "colorscale": {
           "diverging": [
            [
             0,
             "#8e0152"
            ],
            [
             0.1,
             "#c51b7d"
            ],
            [
             0.2,
             "#de77ae"
            ],
            [
             0.3,
             "#f1b6da"
            ],
            [
             0.4,
             "#fde0ef"
            ],
            [
             0.5,
             "#f7f7f7"
            ],
            [
             0.6,
             "#e6f5d0"
            ],
            [
             0.7,
             "#b8e186"
            ],
            [
             0.8,
             "#7fbc41"
            ],
            [
             0.9,
             "#4d9221"
            ],
            [
             1,
             "#276419"
            ]
           ],
           "sequential": [
            [
             0,
             "#0d0887"
            ],
            [
             0.1111111111111111,
             "#46039f"
            ],
            [
             0.2222222222222222,
             "#7201a8"
            ],
            [
             0.3333333333333333,
             "#9c179e"
            ],
            [
             0.4444444444444444,
             "#bd3786"
            ],
            [
             0.5555555555555556,
             "#d8576b"
            ],
            [
             0.6666666666666666,
             "#ed7953"
            ],
            [
             0.7777777777777778,
             "#fb9f3a"
            ],
            [
             0.8888888888888888,
             "#fdca26"
            ],
            [
             1,
             "#f0f921"
            ]
           ],
           "sequentialminus": [
            [
             0,
             "#0d0887"
            ],
            [
             0.1111111111111111,
             "#46039f"
            ],
            [
             0.2222222222222222,
             "#7201a8"
            ],
            [
             0.3333333333333333,
             "#9c179e"
            ],
            [
             0.4444444444444444,
             "#bd3786"
            ],
            [
             0.5555555555555556,
             "#d8576b"
            ],
            [
             0.6666666666666666,
             "#ed7953"
            ],
            [
             0.7777777777777778,
             "#fb9f3a"
            ],
            [
             0.8888888888888888,
             "#fdca26"
            ],
            [
             1,
             "#f0f921"
            ]
           ]
          },
          "colorway": [
           "#636efa",
           "#EF553B",
           "#00cc96",
           "#ab63fa",
           "#FFA15A",
           "#19d3f3",
           "#FF6692",
           "#B6E880",
           "#FF97FF",
           "#FECB52"
          ],
          "font": {
           "color": "#2a3f5f"
          },
          "geo": {
           "bgcolor": "white",
           "lakecolor": "white",
           "landcolor": "#E5ECF6",
           "showlakes": true,
           "showland": true,
           "subunitcolor": "white"
          },
          "hoverlabel": {
           "align": "left"
          },
          "hovermode": "closest",
          "mapbox": {
           "style": "light"
          },
          "paper_bgcolor": "white",
          "plot_bgcolor": "#E5ECF6",
          "polar": {
           "angularaxis": {
            "gridcolor": "white",
            "linecolor": "white",
            "ticks": ""
           },
           "bgcolor": "#E5ECF6",
           "radialaxis": {
            "gridcolor": "white",
            "linecolor": "white",
            "ticks": ""
           }
          },
          "scene": {
           "xaxis": {
            "backgroundcolor": "#E5ECF6",
            "gridcolor": "white",
            "gridwidth": 2,
            "linecolor": "white",
            "showbackground": true,
            "ticks": "",
            "zerolinecolor": "white"
           },
           "yaxis": {
            "backgroundcolor": "#E5ECF6",
            "gridcolor": "white",
            "gridwidth": 2,
            "linecolor": "white",
            "showbackground": true,
            "ticks": "",
            "zerolinecolor": "white"
           },
           "zaxis": {
            "backgroundcolor": "#E5ECF6",
            "gridcolor": "white",
            "gridwidth": 2,
            "linecolor": "white",
            "showbackground": true,
            "ticks": "",
            "zerolinecolor": "white"
           }
          },
          "shapedefaults": {
           "line": {
            "color": "#2a3f5f"
           }
          },
          "ternary": {
           "aaxis": {
            "gridcolor": "white",
            "linecolor": "white",
            "ticks": ""
           },
           "baxis": {
            "gridcolor": "white",
            "linecolor": "white",
            "ticks": ""
           },
           "bgcolor": "#E5ECF6",
           "caxis": {
            "gridcolor": "white",
            "linecolor": "white",
            "ticks": ""
           }
          },
          "title": {
           "x": 0.05
          },
          "xaxis": {
           "automargin": true,
           "gridcolor": "white",
           "linecolor": "white",
           "ticks": "",
           "title": {
            "standoff": 15
           },
           "zerolinecolor": "white",
           "zerolinewidth": 2
          },
          "yaxis": {
           "automargin": true,
           "gridcolor": "white",
           "linecolor": "white",
           "ticks": "",
           "title": {
            "standoff": 15
           },
           "zerolinecolor": "white",
           "zerolinewidth": 2
          }
         }
        },
        "title": {
         "text": "Gender and Payment data by Cities"
        },
        "xaxis": {
         "anchor": "y",
         "domain": [
          0,
          1
         ],
         "title": {
          "text": "Cases"
         }
        },
        "yaxis": {
         "anchor": "x",
         "domain": [
          0,
          1
         ],
         "title": {
          "text": "Province"
         }
        }
       }
      }
     },
     "metadata": {},
     "output_type": "display_data"
    }
   ],
   "source": [
    "fig = px.bar(df, x=\"Cases\", y=\"Province\", color=\"Travel_history\", title=\"Gender and Payment data by Cities\")\n",
    "fig.show()"
   ]
  },
  {
   "cell_type": "code",
   "execution_count": 22,
   "metadata": {},
   "outputs": [
    {
     "data": {
      "image/png": "[encoded data removed]",
      "text/plain": [
       "<Figure size 2000x1500 with 1 Axes>"
      ]
     },
     "metadata": {},
     "output_type": "display_data"
    }
   ],
   "source": [
    "sns.set(font_scale=2.7)\n",
    "\n",
    "plt.figure(figsize= (20,15))\n",
    "plt.xticks(fontsize = 15)\n",
    "plt.yticks(fontsize = 15)\n",
    "plt.xlabel(\"Dates\",fontsize = 20)\n",
    "plt.ylabel('Total cases',fontsize = 20)\n",
    "plt.title(\"New Case, Recovered, Death Per Day in Pakistan\" , fontsize = 30)\n",
    "\n",
    "a = df.groupby('Date')['Cases'].sum().index \n",
    "b = df.groupby('Date')['Cases'].sum().values\n",
    "plt.plot(a,b, marker = '.',ls='--',lw=2,color='black')\n",
    "\n",
    "x = df.groupby('Date')['Recovered'].sum().index\n",
    "y = df.groupby('Date')['Recovered'].sum().values\n",
    "plt.plot(x,y, marker = '.', ls='dashdot',lw=2,color='green')\n",
    "\n",
    "c = df.groupby('Date')['Deaths'].sum().index \n",
    "d = df.groupby('Date')['Deaths'].sum().values\n",
    "plt.plot(c,d, marker = '.', ls='dashdot',lw=2,color='red')\n",
    "\n",
    "\n",
    "plt.legend([\"Cases\", 'Recovered', 'Deaths'], loc =\"upper left\", fontsize=15)\n",
    "plt.show()"
   ]
  },
  {
   "cell_type": "code",
   "execution_count": 23,
   "metadata": {},
   "outputs": [],
   "source": [
    "from prophet import Prophet\n",
    "import plotly.graph_objects as go"
   ]
  },
  {
   "cell_type": "code",
   "execution_count": 24,
   "metadata": {},
   "outputs": [],
   "source": [
    "df['Active_Cases'] = df['Cases'] - df['Recovered'] - df['Deaths']"
   ]
  },
  {
   "cell_type": "code",
   "execution_count": 25,
   "metadata": {},
   "outputs": [],
   "source": [
    "# d_new = df.groupby('Date')['Active_Cases'].sum().reset_index()\n",
    "# d_new.columns = ['ds', 'y']\n",
    "\n",
    "# m = Prophet()\n",
    "# m.fit(d_new)\n",
    "\n",
    "# future = m.make_future_dataframe(periods=30)\n",
    "# forecast = m.predict(future)\n",
    "\n",
    "# fig = go.Figure()\n",
    "\n",
    "# fig.add_trace(go.Scatter( x = forecast['ds'], y = forecast['yhat'],\n",
    "#                         mode='lines+markers',name='Predicted Cases',marker_color='DarkSlateGray'))\n",
    "# fig.add_trace(go.Scatter( x = d_new['ds'], y = d_new['y'],\n",
    "#                          mode='lines+markers',name='Actual Cases',marker_color='Tomato'))"
   ]
  },
  {
   "cell_type": "code",
   "execution_count": 26,
   "metadata": {},
   "outputs": [
    {
     "data": {
      "text/html": [
       "<div>\n",
       "<style scoped>\n",
       "    .dataframe tbody tr th:only-of-type {\n",
       "        vertical-align: middle;\n",
       "    }\n",
       "\n",
       "    .dataframe tbody tr th {\n",
       "        vertical-align: top;\n",
       "    }\n",
       "\n",
       "    .dataframe thead th {\n",
       "        text-align: right;\n",
       "    }\n",
       "</style>\n",
       "<table border=\"1\" class=\"dataframe\">\n",
       "  <thead>\n",
       "    <tr style=\"text-align: right;\">\n",
       "      <th></th>\n",
       "      <th>Date</th>\n",
       "      <th>Cases</th>\n",
       "      <th>Deaths</th>\n",
       "      <th>Recovered</th>\n",
       "      <th>Travel_history</th>\n",
       "      <th>Province</th>\n",
       "      <th>City</th>\n",
       "      <th>Active_Cases</th>\n",
       "    </tr>\n",
       "  </thead>\n",
       "  <tbody>\n",
       "    <tr>\n",
       "      <th>0</th>\n",
       "      <td>2/26/2020</td>\n",
       "      <td>1</td>\n",
       "      <td>0</td>\n",
       "      <td>0</td>\n",
       "      <td>China</td>\n",
       "      <td>Islamabad Capital Territory</td>\n",
       "      <td>Islamabad</td>\n",
       "      <td>1</td>\n",
       "    </tr>\n",
       "    <tr>\n",
       "      <th>1</th>\n",
       "      <td>2/26/2020</td>\n",
       "      <td>2</td>\n",
       "      <td>0</td>\n",
       "      <td>0</td>\n",
       "      <td>Iran/Taftan</td>\n",
       "      <td>Sindh</td>\n",
       "      <td>Karachi</td>\n",
       "      <td>2</td>\n",
       "    </tr>\n",
       "    <tr>\n",
       "      <th>2</th>\n",
       "      <td>2/29/2020</td>\n",
       "      <td>1</td>\n",
       "      <td>0</td>\n",
       "      <td>0</td>\n",
       "      <td>China</td>\n",
       "      <td>Islamabad Capital Territory</td>\n",
       "      <td>Islamabad</td>\n",
       "      <td>1</td>\n",
       "    </tr>\n",
       "    <tr>\n",
       "      <th>3</th>\n",
       "      <td>2/29/2020</td>\n",
       "      <td>1</td>\n",
       "      <td>0</td>\n",
       "      <td>0</td>\n",
       "      <td>Iran/Taftan</td>\n",
       "      <td>Sindh</td>\n",
       "      <td>Karachi</td>\n",
       "      <td>1</td>\n",
       "    </tr>\n",
       "    <tr>\n",
       "      <th>4</th>\n",
       "      <td>3/2/2020</td>\n",
       "      <td>1</td>\n",
       "      <td>0</td>\n",
       "      <td>0</td>\n",
       "      <td>Iran/Taftan</td>\n",
       "      <td>Gilgit-Baltistan</td>\n",
       "      <td>Gilgit</td>\n",
       "      <td>1</td>\n",
       "    </tr>\n",
       "    <tr>\n",
       "      <th>...</th>\n",
       "      <td>...</td>\n",
       "      <td>...</td>\n",
       "      <td>...</td>\n",
       "      <td>...</td>\n",
       "      <td>...</td>\n",
       "      <td>...</td>\n",
       "      <td>...</td>\n",
       "      <td>...</td>\n",
       "    </tr>\n",
       "    <tr>\n",
       "      <th>1323</th>\n",
       "      <td>5/10/2020</td>\n",
       "      <td>709</td>\n",
       "      <td>8</td>\n",
       "      <td>29</td>\n",
       "      <td>Local - Social Contact</td>\n",
       "      <td>Sindh</td>\n",
       "      <td>Karachi</td>\n",
       "      <td>672</td>\n",
       "    </tr>\n",
       "    <tr>\n",
       "      <th>1324</th>\n",
       "      <td>5/10/2020</td>\n",
       "      <td>59</td>\n",
       "      <td>0</td>\n",
       "      <td>0</td>\n",
       "      <td>Local - Social Contact</td>\n",
       "      <td>Baluchistan</td>\n",
       "      <td>Quetta</td>\n",
       "      <td>59</td>\n",
       "    </tr>\n",
       "    <tr>\n",
       "      <th>1325</th>\n",
       "      <td>5/10/2020</td>\n",
       "      <td>12</td>\n",
       "      <td>0</td>\n",
       "      <td>1</td>\n",
       "      <td>Local - Social Contact</td>\n",
       "      <td>Gilgit-Baltistan</td>\n",
       "      <td>Gilgit</td>\n",
       "      <td>11</td>\n",
       "    </tr>\n",
       "    <tr>\n",
       "      <th>1326</th>\n",
       "      <td>5/10/2020</td>\n",
       "      <td>160</td>\n",
       "      <td>11</td>\n",
       "      <td>40</td>\n",
       "      <td>Local - Social Contact</td>\n",
       "      <td>Khyber Pakhtunkhwa</td>\n",
       "      <td>Peshawar</td>\n",
       "      <td>109</td>\n",
       "    </tr>\n",
       "    <tr>\n",
       "      <th>1327</th>\n",
       "      <td>5/10/2020</td>\n",
       "      <td>7</td>\n",
       "      <td>0</td>\n",
       "      <td>0</td>\n",
       "      <td>Local - Social Contact</td>\n",
       "      <td>Azad Jummu Kashmir</td>\n",
       "      <td>Muzaffarabad</td>\n",
       "      <td>7</td>\n",
       "    </tr>\n",
       "  </tbody>\n",
       "</table>\n",
       "<p>1327 rows × 8 columns</p>\n",
       "</div>"
      ],
      "text/plain": [
       "           Date  Cases  Deaths  Recovered          Travel_history  \\\n",
       "0     2/26/2020      1       0          0                   China   \n",
       "1     2/26/2020      2       0          0             Iran/Taftan   \n",
       "2     2/29/2020      1       0          0                   China   \n",
       "3     2/29/2020      1       0          0             Iran/Taftan   \n",
       "4      3/2/2020      1       0          0             Iran/Taftan   \n",
       "...         ...    ...     ...        ...                     ...   \n",
       "1323  5/10/2020    709       8         29  Local - Social Contact   \n",
       "1324  5/10/2020     59       0          0  Local - Social Contact   \n",
       "1325  5/10/2020     12       0          1  Local - Social Contact   \n",
       "1326  5/10/2020    160      11         40  Local - Social Contact   \n",
       "1327  5/10/2020      7       0          0  Local - Social Contact   \n",
       "\n",
       "                         Province          City  Active_Cases  \n",
       "0     Islamabad Capital Territory     Islamabad             1  \n",
       "1                           Sindh       Karachi             2  \n",
       "2     Islamabad Capital Territory     Islamabad             1  \n",
       "3                           Sindh       Karachi             1  \n",
       "4                Gilgit-Baltistan        Gilgit             1  \n",
       "...                           ...           ...           ...  \n",
       "1323                        Sindh       Karachi           672  \n",
       "1324                  Baluchistan        Quetta            59  \n",
       "1325             Gilgit-Baltistan        Gilgit            11  \n",
       "1326           Khyber Pakhtunkhwa      Peshawar           109  \n",
       "1327           Azad Jummu Kashmir  Muzaffarabad             7  \n",
       "\n",
       "[1327 rows x 8 columns]"
      ]
     },
     "execution_count": 26,
     "metadata": {},
     "output_type": "execute_result"
    }
   ],
   "source": [
    "df"
   ]
  },
  {
   "cell_type": "code",
   "execution_count": 27,
   "metadata": {},
   "outputs": [],
   "source": [
    "d_new = df.groupby('Date')['Active_Cases'].sum().reset_index()\n",
    "d_new.columns = ['ds', 'y']"
   ]
  },
  {
   "cell_type": "code",
   "execution_count": 28,
   "metadata": {},
   "outputs": [
    {
     "data": {
      "text/html": [
       "<div>\n",
       "<style scoped>\n",
       "    .dataframe tbody tr th:only-of-type {\n",
       "        vertical-align: middle;\n",
       "    }\n",
       "\n",
       "    .dataframe tbody tr th {\n",
       "        vertical-align: top;\n",
       "    }\n",
       "\n",
       "    .dataframe thead th {\n",
       "        text-align: right;\n",
       "    }\n",
       "</style>\n",
       "<table border=\"1\" class=\"dataframe\">\n",
       "  <thead>\n",
       "    <tr style=\"text-align: right;\">\n",
       "      <th></th>\n",
       "      <th>ds</th>\n",
       "      <th>y</th>\n",
       "    </tr>\n",
       "  </thead>\n",
       "  <tbody>\n",
       "    <tr>\n",
       "      <th>0</th>\n",
       "      <td>2/26/2020</td>\n",
       "      <td>3</td>\n",
       "    </tr>\n",
       "    <tr>\n",
       "      <th>1</th>\n",
       "      <td>2/29/2020</td>\n",
       "      <td>2</td>\n",
       "    </tr>\n",
       "    <tr>\n",
       "      <th>2</th>\n",
       "      <td>3/10/2020</td>\n",
       "      <td>3</td>\n",
       "    </tr>\n",
       "    <tr>\n",
       "      <th>3</th>\n",
       "      <td>3/11/2020</td>\n",
       "      <td>0</td>\n",
       "    </tr>\n",
       "    <tr>\n",
       "      <th>4</th>\n",
       "      <td>3/12/2020</td>\n",
       "      <td>1</td>\n",
       "    </tr>\n",
       "    <tr>\n",
       "      <th>...</th>\n",
       "      <td>...</td>\n",
       "      <td>...</td>\n",
       "    </tr>\n",
       "    <tr>\n",
       "      <th>62</th>\n",
       "      <td>5/5/2020</td>\n",
       "      <td>948</td>\n",
       "    </tr>\n",
       "    <tr>\n",
       "      <th>63</th>\n",
       "      <td>5/6/2020</td>\n",
       "      <td>1625</td>\n",
       "    </tr>\n",
       "    <tr>\n",
       "      <th>64</th>\n",
       "      <td>5/7/2020</td>\n",
       "      <td>770</td>\n",
       "    </tr>\n",
       "    <tr>\n",
       "      <th>65</th>\n",
       "      <td>5/8/2020</td>\n",
       "      <td>1811</td>\n",
       "    </tr>\n",
       "    <tr>\n",
       "      <th>66</th>\n",
       "      <td>5/9/2020</td>\n",
       "      <td>2471</td>\n",
       "    </tr>\n",
       "  </tbody>\n",
       "</table>\n",
       "<p>67 rows × 2 columns</p>\n",
       "</div>"
      ],
      "text/plain": [
       "           ds     y\n",
       "0   2/26/2020     3\n",
       "1   2/29/2020     2\n",
       "2   3/10/2020     3\n",
       "3   3/11/2020     0\n",
       "4   3/12/2020     1\n",
       "..        ...   ...\n",
       "62   5/5/2020   948\n",
       "63   5/6/2020  1625\n",
       "64   5/7/2020   770\n",
       "65   5/8/2020  1811\n",
       "66   5/9/2020  2471\n",
       "\n",
       "[67 rows x 2 columns]"
      ]
     },
     "execution_count": 28,
     "metadata": {},
     "output_type": "execute_result"
    }
   ],
   "source": [
    "d_new"
   ]
  },
  {
   "cell_type": "code",
   "execution_count": 29,
   "metadata": {},
   "outputs": [
    {
     "name": "stderr",
     "output_type": "stream",
     "text": [
      "16:53:21 - cmdstanpy - INFO - Chain [1] start processing\n",
      "16:53:22 - cmdstanpy - INFO - Chain [1] done processing\n"
     ]
    },
    {
     "data": {
      "application/vnd.plotly.v1+json": {
       "config": {
        "plotlyServerURL": "https://plot.ly"
       },
       "data": [
        {
         "mode": "lines+markers",
         "name": "Actual Values",
         "type": "scatter",
         "x": [
          "2/26/2020",
          "2/29/2020",
          "3/10/2020",
          "3/11/2020",
          "3/12/2020",
          "3/13/2020",
          "3/15/2020",
          "3/16/2020",
          "3/17/2020",
          "3/18/2020",
          "3/19/2020",
          "3/2/2020",
          "3/20/2020",
          "3/21/2020",
          "3/22/2020",
          "3/23/2020",
          "3/24/2020",
          "3/25/2020",
          "3/26/2020",
          "3/27/2020",
          "3/28/2020",
          "3/29/2020",
          "3/30/2020",
          "3/31/2020",
          "3/6/2020",
          "3/7/2020",
          "3/9/2020",
          "4/1/2020",
          "4/10/2020",
          "4/11/2020",
          "4/12/2020",
          "4/13/2020",
          "4/14/2020",
          "4/15/2020",
          "4/16/2020",
          "4/17/2020",
          "4/18/2020",
          "4/19/2020",
          "4/2/2020",
          "4/20/2020",
          "4/21/2020",
          "4/22/2020",
          "4/23/2020",
          "4/24/2020",
          "4/25/2020",
          "4/26/2020",
          "4/27/2020",
          "4/28/2020",
          "4/29/2020",
          "4/3/2020",
          "4/30/2020",
          "4/4/2020",
          "4/5/2020",
          "4/6/2020",
          "4/7/2020",
          "4/8/2020",
          "4/9/2020",
          "5/1/2020",
          "5/10/2020",
          "5/2/2020",
          "5/3/2020",
          "5/4/2020",
          "5/5/2020",
          "5/6/2020",
          "5/7/2020",
          "5/8/2020",
          "5/9/2020"
         ],
         "y": [
          3,
          2,
          3,
          0,
          1,
          8,
          33,
          150,
          52,
          55,
          153,
          1,
          49,
          131,
          109,
          81,
          95,
          105,
          125,
          115,
          181,
          74,
          109,
          177,
          -1,
          1,
          9,
          241,
          99,
          245,
          21,
          131,
          561,
          101,
          460,
          494,
          235,
          481,
          164,
          627,
          551,
          686,
          367,
          389,
          875,
          586,
          653,
          725,
          721,
          233,
          650,
          42,
          132,
          69,
          22,
          218,
          757,
          928,
          889,
          1056,
          1312,
          1028,
          948,
          1625,
          770,
          1811,
          2471
         ]
        },
        {
         "mode": "lines",
         "name": "Predicted Values",
         "type": "scatter",
         "x": [
          "2020-02-26T00:00:00",
          "2020-02-29T00:00:00",
          "2020-03-02T00:00:00",
          "2020-03-06T00:00:00",
          "2020-03-07T00:00:00",
          "2020-03-09T00:00:00",
          "2020-03-10T00:00:00",
          "2020-03-11T00:00:00",
          "2020-03-12T00:00:00",
          "2020-03-13T00:00:00",
          "2020-03-15T00:00:00",
          "2020-03-16T00:00:00",
          "2020-03-17T00:00:00",
          "2020-03-18T00:00:00",
          "2020-03-19T00:00:00",
          "2020-03-20T00:00:00",
          "2020-03-21T00:00:00",
          "2020-03-22T00:00:00",
          "2020-03-23T00:00:00",
          "2020-03-24T00:00:00",
          "2020-03-25T00:00:00",
          "2020-03-26T00:00:00",
          "2020-03-27T00:00:00",
          "2020-03-28T00:00:00",
          "2020-03-29T00:00:00",
          "2020-03-30T00:00:00",
          "2020-03-31T00:00:00",
          "2020-04-01T00:00:00",
          "2020-04-02T00:00:00",
          "2020-04-03T00:00:00",
          "2020-04-04T00:00:00",
          "2020-04-05T00:00:00",
          "2020-04-06T00:00:00",
          "2020-04-07T00:00:00",
          "2020-04-08T00:00:00",
          "2020-04-09T00:00:00",
          "2020-04-10T00:00:00",
          "2020-04-11T00:00:00",
          "2020-04-12T00:00:00",
          "2020-04-13T00:00:00",
          "2020-04-14T00:00:00",
          "2020-04-15T00:00:00",
          "2020-04-16T00:00:00",
          "2020-04-17T00:00:00",
          "2020-04-18T00:00:00",
          "2020-04-19T00:00:00",
          "2020-04-20T00:00:00",
          "2020-04-21T00:00:00",
          "2020-04-22T00:00:00",
          "2020-04-23T00:00:00",
          "2020-04-24T00:00:00",
          "2020-04-25T00:00:00",
          "2020-04-26T00:00:00",
          "2020-04-27T00:00:00",
          "2020-04-28T00:00:00",
          "2020-04-29T00:00:00",
          "2020-04-30T00:00:00",
          "2020-05-01T00:00:00",
          "2020-05-02T00:00:00",
          "2020-05-03T00:00:00",
          "2020-05-04T00:00:00",
          "2020-05-05T00:00:00",
          "2020-05-06T00:00:00",
          "2020-05-07T00:00:00",
          "2020-05-08T00:00:00",
          "2020-05-09T00:00:00",
          "2020-05-10T00:00:00",
          "2020-05-11T00:00:00",
          "2020-05-12T00:00:00",
          "2020-05-13T00:00:00",
          "2020-05-14T00:00:00",
          "2020-05-15T00:00:00",
          "2020-05-16T00:00:00",
          "2020-05-17T00:00:00",
          "2020-05-18T00:00:00",
          "2020-05-19T00:00:00",
          "2020-05-20T00:00:00",
          "2020-05-21T00:00:00",
          "2020-05-22T00:00:00",
          "2020-05-23T00:00:00",
          "2020-05-24T00:00:00",
          "2020-05-25T00:00:00",
          "2020-05-26T00:00:00",
          "2020-05-27T00:00:00",
          "2020-05-28T00:00:00",
          "2020-05-29T00:00:00",
          "2020-05-30T00:00:00",
          "2020-05-31T00:00:00",
          "2020-06-01T00:00:00",
          "2020-06-02T00:00:00",
          "2020-06-03T00:00:00",
          "2020-06-04T00:00:00",
          "2020-06-05T00:00:00",
          "2020-06-06T00:00:00",
          "2020-06-07T00:00:00",
          "2020-06-08T00:00:00",
          "2020-06-09T00:00:00"
         ],
         "y": [
          -207.72702405210703,
          -70.44499416251463,
          -201.64107574172866,
          -100.50000081425085,
          22.710570633307384,
          -108.48551087098176,
          -105.91251196655483,
          -21.415894437861795,
          -86.24978588544286,
          -7.344435906698859,
          -87.83867847467248,
          -15.329945952741392,
          -12.7569470486294,
          71.73967047870661,
          6.905779030309667,
          85.8111290020679,
          209.0217004869464,
          5.3168864838240495,
          77.82561906334558,
          80.3986180251988,
          164.89523568689563,
          100.06134437343246,
          178.96669497830558,
          302.1772670645423,
          98.48369871666361,
          171.00367691750083,
          173.59759215913547,
          258.1151260329058,
          193.31208582028373,
          272.2482870277946,
          395.50080173459867,
          191.83793095355077,
          264.40922173956716,
          267.04477890780447,
          352.56129690948876,
          288.7473059352967,
          368.69727549762155,
          492.9524665398701,
          290.30942824801315,
          363.87993650458225,
          367.5147111431763,
          468.72772421090565,
          420.61022830317614,
          516.2627253435913,
          656.220443865019,
          469.28218583535727,
          558.557474354461,
          577.9039850201618,
          679.1741143183403,
          631.1210951818517,
          726.8073174656887,
          866.8046026068578,
          679.8865022606983,
          769.1823111257816,
          788.5423863729874,
          889.8260802517844,
          841.7792651553541,
          937.4716914785238,
          1077.4693392834392,
          890.5516015996856,
          979.8474104648037,
          999.2074857120974,
          1100.4911795910111,
          1052.4443644944565,
          1148.1367908178995,
          1288.1344386224616,
          1101.2167009384502,
          1190.5125098038945,
          1209.8725850509709,
          1311.1562789301513,
          1263.109463833153,
          1358.8018901569005,
          1498.7995379614836,
          1311.8818002774372,
          1401.1776091426432,
          1420.5376843898453,
          1521.8213782690214,
          1473.7745631726611,
          1569.4669894959009,
          1709.4646373002363,
          1522.5468996168597,
          1611.842708481734,
          1631.2027837289543,
          1732.4864776078925,
          1684.4396625117108,
          1780.13208883443,
          1920.1297366389888,
          1733.2119989557357,
          1822.5078078206873,
          1841.867883068064,
          1943.1515769471189,
          1895.104761850813,
          1990.7971881738056,
          2130.7948359780107,
          1943.8770982946116,
          2033.1729071597774,
          2052.5329824068685
         ]
        }
       ],
       "layout": {
        "template": {
         "data": {
          "bar": [
           {
            "error_x": {
             "color": "#2a3f5f"
            },
            "error_y": {
             "color": "#2a3f5f"
            },
            "marker": {
             "line": {
              "color": "#E5ECF6",
              "width": 0.5
             },
             "pattern": {
              "fillmode": "overlay",
              "size": 10,
              "solidity": 0.2
             }
            },
            "type": "bar"
           }
          ],
          "barpolar": [
           {
            "marker": {
             "line": {
              "color": "#E5ECF6",
              "width": 0.5
             },
             "pattern": {
              "fillmode": "overlay",
              "size": 10,
              "solidity": 0.2
             }
            },
            "type": "barpolar"
           }
          ],
          "carpet": [
           {
            "aaxis": {
             "endlinecolor": "#2a3f5f",
             "gridcolor": "white",
             "linecolor": "white",
             "minorgridcolor": "white",
             "startlinecolor": "#2a3f5f"
            },
            "baxis": {
             "endlinecolor": "#2a3f5f",
             "gridcolor": "white",
             "linecolor": "white",
             "minorgridcolor": "white",
             "startlinecolor": "#2a3f5f"
            },
            "type": "carpet"
           }
          ],
          "choropleth": [
           {
            "colorbar": {
             "outlinewidth": 0,
             "ticks": ""
            },
            "type": "choropleth"
           }
          ],
          "contour": [
           {
            "colorbar": {
             "outlinewidth": 0,
             "ticks": ""
            },
            "colorscale": [
             [
              0,
              "#0d0887"
             ],
             [
              0.1111111111111111,
              "#46039f"
             ],
             [
              0.2222222222222222,
              "#7201a8"
             ],
             [
              0.3333333333333333,
              "#9c179e"
             ],
             [
              0.4444444444444444,
              "#bd3786"
             ],
             [
              0.5555555555555556,
              "#d8576b"
             ],
             [
              0.6666666666666666,
              "#ed7953"
             ],
             [
              0.7777777777777778,
              "#fb9f3a"
             ],
             [
              0.8888888888888888,
              "#fdca26"
             ],
             [
              1,
              "#f0f921"
             ]
            ],
            "type": "contour"
           }
          ],
          "contourcarpet": [
           {
            "colorbar": {
             "outlinewidth": 0,
             "ticks": ""
            },
            "type": "contourcarpet"
           }
          ],
          "heatmap": [
           {
            "colorbar": {
             "outlinewidth": 0,
             "ticks": ""
            },
            "colorscale": [
             [
              0,
              "#0d0887"
             ],
             [
              0.1111111111111111,
              "#46039f"
             ],
             [
              0.2222222222222222,
              "#7201a8"
             ],
             [
              0.3333333333333333,
              "#9c179e"
             ],
             [
              0.4444444444444444,
              "#bd3786"
             ],
             [
              0.5555555555555556,
              "#d8576b"
             ],
             [
              0.6666666666666666,
              "#ed7953"
             ],
             [
              0.7777777777777778,
              "#fb9f3a"
             ],
             [
              0.8888888888888888,
              "#fdca26"
             ],
             [
              1,
              "#f0f921"
             ]
            ],
            "type": "heatmap"
           }
          ],
          "heatmapgl": [
           {
            "colorbar": {
             "outlinewidth": 0,
             "ticks": ""
            },
            "colorscale": [
             [
              0,
              "#0d0887"
             ],
             [
              0.1111111111111111,
              "#46039f"
             ],
             [
              0.2222222222222222,
              "#7201a8"
             ],
             [
              0.3333333333333333,
              "#9c179e"
             ],
             [
              0.4444444444444444,
              "#bd3786"
             ],
             [
              0.5555555555555556,
              "#d8576b"
             ],
             [
              0.6666666666666666,
              "#ed7953"
             ],
             [
              0.7777777777777778,
              "#fb9f3a"
             ],
             [
              0.8888888888888888,
              "#fdca26"
             ],
             [
              1,
              "#f0f921"
             ]
            ],
            "type": "heatmapgl"
           }
          ],
          "histogram": [
           {
            "marker": {
             "pattern": {
              "fillmode": "overlay",
              "size": 10,
              "solidity": 0.2
             }
            },
            "type": "histogram"
           }
          ],
          "histogram2d": [
           {
            "colorbar": {
             "outlinewidth": 0,
             "ticks": ""
            },
            "colorscale": [
             [
              0,
              "#0d0887"
             ],
             [
              0.1111111111111111,
              "#46039f"
             ],
             [
              0.2222222222222222,
              "#7201a8"
             ],
             [
              0.3333333333333333,
              "#9c179e"
             ],
             [
              0.4444444444444444,
              "#bd3786"
             ],
             [
              0.5555555555555556,
              "#d8576b"
             ],
             [
              0.6666666666666666,
              "#ed7953"
             ],
             [
              0.7777777777777778,
              "#fb9f3a"
             ],
             [
              0.8888888888888888,
              "#fdca26"
             ],
             [
              1,
              "#f0f921"
             ]
            ],
            "type": "histogram2d"
           }
          ],
          "histogram2dcontour": [
           {
            "colorbar": {
             "outlinewidth": 0,
             "ticks": ""
            },
            "colorscale": [
             [
              0,
              "#0d0887"
             ],
             [
              0.1111111111111111,
              "#46039f"
             ],
             [
              0.2222222222222222,
              "#7201a8"
             ],
             [
              0.3333333333333333,
              "#9c179e"
             ],
             [
              0.4444444444444444,
              "#bd3786"
             ],
             [
              0.5555555555555556,
              "#d8576b"
             ],
             [
              0.6666666666666666,
              "#ed7953"
             ],
             [
              0.7777777777777778,
              "#fb9f3a"
             ],
             [
              0.8888888888888888,
              "#fdca26"
             ],
             [
              1,
              "#f0f921"
             ]
            ],
            "type": "histogram2dcontour"
           }
          ],
          "mesh3d": [
           {
            "colorbar": {
             "outlinewidth": 0,
             "ticks": ""
            },
            "type": "mesh3d"
           }
          ],
          "parcoords": [
           {
            "line": {
             "colorbar": {
              "outlinewidth": 0,
              "ticks": ""
             }
            },
            "type": "parcoords"
           }
          ],
          "pie": [
           {
            "automargin": true,
            "type": "pie"
           }
          ],
          "scatter": [
           {
            "fillpattern": {
             "fillmode": "overlay",
             "size": 10,
             "solidity": 0.2
            },
            "type": "scatter"
           }
          ],
          "scatter3d": [
           {
            "line": {
             "colorbar": {
              "outlinewidth": 0,
              "ticks": ""
             }
            },
            "marker": {
             "colorbar": {
              "outlinewidth": 0,
              "ticks": ""
             }
            },
            "type": "scatter3d"
           }
          ],
          "scattercarpet": [
           {
            "marker": {
             "colorbar": {
              "outlinewidth": 0,
              "ticks": ""
             }
            },
            "type": "scattercarpet"
           }
          ],
          "scattergeo": [
           {
            "marker": {
             "colorbar": {
              "outlinewidth": 0,
              "ticks": ""
             }
            },
            "type": "scattergeo"
           }
          ],
          "scattergl": [
           {
            "marker": {
             "colorbar": {
              "outlinewidth": 0,
              "ticks": ""
             }
            },
            "type": "scattergl"
           }
          ],
          "scattermapbox": [
           {
            "marker": {
             "colorbar": {
              "outlinewidth": 0,
              "ticks": ""
             }
            },
            "type": "scattermapbox"
           }
          ],
          "scatterpolar": [
           {
            "marker": {
             "colorbar": {
              "outlinewidth": 0,
              "ticks": ""
             }
            },
            "type": "scatterpolar"
           }
          ],
          "scatterpolargl": [
           {
            "marker": {
             "colorbar": {
              "outlinewidth": 0,
              "ticks": ""
             }
            },
            "type": "scatterpolargl"
           }
          ],
          "scatterternary": [
           {
            "marker": {
             "colorbar": {
              "outlinewidth": 0,
              "ticks": ""
             }
            },
            "type": "scatterternary"
           }
          ],
          "surface": [
           {
            "colorbar": {
             "outlinewidth": 0,
             "ticks": ""
            },
            "colorscale": [
             [
              0,
              "#0d0887"
             ],
             [
              0.1111111111111111,
              "#46039f"
             ],
             [
              0.2222222222222222,
              "#7201a8"
             ],
             [
              0.3333333333333333,
              "#9c179e"
             ],
             [
              0.4444444444444444,
              "#bd3786"
             ],
             [
              0.5555555555555556,
              "#d8576b"
             ],
             [
              0.6666666666666666,
              "#ed7953"
             ],
             [
              0.7777777777777778,
              "#fb9f3a"
             ],
             [
              0.8888888888888888,
              "#fdca26"
             ],
             [
              1,
              "#f0f921"
             ]
            ],
            "type": "surface"
           }
          ],
          "table": [
           {
            "cells": {
             "fill": {
              "color": "#EBF0F8"
             },
             "line": {
              "color": "white"
             }
            },
            "header": {
             "fill": {
              "color": "#C8D4E3"
             },
             "line": {
              "color": "white"
             }
            },
            "type": "table"
           }
          ]
         },
         "layout": {
          "annotationdefaults": {
           "arrowcolor": "#2a3f5f",
           "arrowhead": 0,
           "arrowwidth": 1
          },
          "autotypenumbers": "strict",
          "coloraxis": {
           "colorbar": {
            "outlinewidth": 0,
            "ticks": ""
           }
          },
          "colorscale": {
           "diverging": [
            [
             0,
             "#8e0152"
            ],
            [
             0.1,
             "#c51b7d"
            ],
            [
             0.2,
             "#de77ae"
            ],
            [
             0.3,
             "#f1b6da"
            ],
            [
             0.4,
             "#fde0ef"
            ],
            [
             0.5,
             "#f7f7f7"
            ],
            [
             0.6,
             "#e6f5d0"
            ],
            [
             0.7,
             "#b8e186"
            ],
            [
             0.8,
             "#7fbc41"
            ],
            [
             0.9,
             "#4d9221"
            ],
            [
             1,
             "#276419"
            ]
           ],
           "sequential": [
            [
             0,
             "#0d0887"
            ],
            [
             0.1111111111111111,
             "#46039f"
            ],
            [
             0.2222222222222222,
             "#7201a8"
            ],
            [
             0.3333333333333333,
             "#9c179e"
            ],
            [
             0.4444444444444444,
             "#bd3786"
            ],
            [
             0.5555555555555556,
             "#d8576b"
            ],
            [
             0.6666666666666666,
             "#ed7953"
            ],
            [
             0.7777777777777778,
             "#fb9f3a"
            ],
            [
             0.8888888888888888,
             "#fdca26"
            ],
            [
             1,
             "#f0f921"
            ]
           ],
           "sequentialminus": [
            [
             0,
             "#0d0887"
            ],
            [
             0.1111111111111111,
             "#46039f"
            ],
            [
             0.2222222222222222,
             "#7201a8"
            ],
            [
             0.3333333333333333,
             "#9c179e"
            ],
            [
             0.4444444444444444,
             "#bd3786"
            ],
            [
             0.5555555555555556,
             "#d8576b"
            ],
            [
             0.6666666666666666,
             "#ed7953"
            ],
            [
             0.7777777777777778,
             "#fb9f3a"
            ],
            [
             0.8888888888888888,
             "#fdca26"
            ],
            [
             1,
             "#f0f921"
            ]
           ]
          },
          "colorway": [
           "#636efa",
           "#EF553B",
           "#00cc96",
           "#ab63fa",
           "#FFA15A",
           "#19d3f3",
           "#FF6692",
           "#B6E880",
           "#FF97FF",
           "#FECB52"
          ],
          "font": {
           "color": "#2a3f5f"
          },
          "geo": {
           "bgcolor": "white",
           "lakecolor": "white",
           "landcolor": "#E5ECF6",
           "showlakes": true,
           "showland": true,
           "subunitcolor": "white"
          },
          "hoverlabel": {
           "align": "left"
          },
          "hovermode": "closest",
          "mapbox": {
           "style": "light"
          },
          "paper_bgcolor": "white",
          "plot_bgcolor": "#E5ECF6",
          "polar": {
           "angularaxis": {
            "gridcolor": "white",
            "linecolor": "white",
            "ticks": ""
           },
           "bgcolor": "#E5ECF6",
           "radialaxis": {
            "gridcolor": "white",
            "linecolor": "white",
            "ticks": ""
           }
          },
          "scene": {
           "xaxis": {
            "backgroundcolor": "#E5ECF6",
            "gridcolor": "white",
            "gridwidth": 2,
            "linecolor": "white",
            "showbackground": true,
            "ticks": "",
            "zerolinecolor": "white"
           },
           "yaxis": {
            "backgroundcolor": "#E5ECF6",
            "gridcolor": "white",
            "gridwidth": 2,
            "linecolor": "white",
            "showbackground": true,
            "ticks": "",
            "zerolinecolor": "white"
           },
           "zaxis": {
            "backgroundcolor": "#E5ECF6",
            "gridcolor": "white",
            "gridwidth": 2,
            "linecolor": "white",
            "showbackground": true,
            "ticks": "",
            "zerolinecolor": "white"
           }
          },
          "shapedefaults": {
           "line": {
            "color": "#2a3f5f"
           }
          },
          "ternary": {
           "aaxis": {
            "gridcolor": "white",
            "linecolor": "white",
            "ticks": ""
           },
           "baxis": {
            "gridcolor": "white",
            "linecolor": "white",
            "ticks": ""
           },
           "bgcolor": "#E5ECF6",
           "caxis": {
            "gridcolor": "white",
            "linecolor": "white",
            "ticks": ""
           }
          },
          "title": {
           "x": 0.05
          },
          "xaxis": {
           "automargin": true,
           "gridcolor": "white",
           "linecolor": "white",
           "ticks": "",
           "title": {
            "standoff": 15
           },
           "zerolinecolor": "white",
           "zerolinewidth": 2
          },
          "yaxis": {
           "automargin": true,
           "gridcolor": "white",
           "linecolor": "white",
           "ticks": "",
           "title": {
            "standoff": 15
           },
           "zerolinecolor": "white",
           "zerolinewidth": 2
          }
         }
        },
        "title": {
         "text": "Time Series Forecast"
        },
        "xaxis": {
         "title": {
          "text": "Date"
         }
        },
        "yaxis": {
         "title": {
          "text": "Values"
         }
        }
       }
      }
     },
     "metadata": {},
     "output_type": "display_data"
    }
   ],
   "source": [
    "import plotly.graph_objects as go\n",
    "from prophet import Prophet  \n",
    "d_new = df.groupby('Date')['Active_Cases'].sum().reset_index()\n",
    "d_new.columns = ['ds', 'y']\n",
    "\n",
    "m = Prophet()\n",
    "m.fit(d_new)\n",
    "\n",
    "future = m.make_future_dataframe(periods=30)\n",
    "forecast = m.predict(future)\n",
    "\n",
    "actual_trace = go.Scatter(\n",
    "    x=d_new['ds'],\n",
    "    y=d_new['y'],\n",
    "    mode='lines+markers',  # Combine line and markers\n",
    "    name='Actual Values'\n",
    ")\n",
    "\n",
    "predicted_trace = go.Scatter(\n",
    "    x=forecast['ds'],\n",
    "    y=forecast['yhat'],\n",
    "    mode='lines',  # Only line for predictions\n",
    "    name='Predicted Values'\n",
    ")\n",
    "\n",
    "# Create the Plotly figure with both traces\n",
    "fig = go.Figure(data=[actual_trace, predicted_trace])\n",
    "\n",
    "# Customize chart title and labels\n",
    "fig.update_layout(\n",
    "    title=\"Time Series Forecast\",\n",
    "    xaxis_title=\"Date\",\n",
    "    yaxis_title=\"Values\"\n",
    ")\n",
    "\n",
    "fig.show()"
   ]
  },
  {
   "cell_type": "code",
   "execution_count": 31,
   "metadata": {},
   "outputs": [
    {
     "data": {
      "application/vnd.plotly.v1+json": {
       "config": {
        "plotlyServerURL": "https://plot.ly"
       },
       "data": [
        {
         "mode": "lines+markers",
         "name": "Actual Values",
         "type": "scatter",
         "x": [
          "2/26/2020",
          "2/29/2020",
          "3/10/2020",
          "3/11/2020",
          "3/12/2020",
          "3/13/2020",
          "3/15/2020",
          "3/16/2020",
          "3/17/2020",
          "3/18/2020",
          "3/19/2020",
          "3/2/2020",
          "3/20/2020",
          "3/21/2020",
          "3/22/2020",
          "3/23/2020",
          "3/24/2020",
          "3/25/2020",
          "3/26/2020",
          "3/27/2020",
          "3/28/2020",
          "3/29/2020",
          "3/30/2020",
          "3/31/2020",
          "3/6/2020",
          "3/7/2020",
          "3/9/2020",
          "4/1/2020",
          "4/10/2020",
          "4/11/2020",
          "4/12/2020",
          "4/13/2020",
          "4/14/2020",
          "4/15/2020",
          "4/16/2020",
          "4/17/2020",
          "4/18/2020",
          "4/19/2020",
          "4/2/2020",
          "4/20/2020",
          "4/21/2020",
          "4/22/2020",
          "4/23/2020",
          "4/24/2020",
          "4/25/2020",
          "4/26/2020",
          "4/27/2020",
          "4/28/2020",
          "4/29/2020",
          "4/3/2020",
          "4/30/2020",
          "4/4/2020",
          "4/5/2020",
          "4/6/2020",
          "4/7/2020",
          "4/8/2020",
          "4/9/2020",
          "5/1/2020",
          "5/10/2020",
          "5/2/2020",
          "5/3/2020",
          "5/4/2020",
          "5/5/2020",
          "5/6/2020",
          "5/7/2020",
          "5/8/2020",
          "5/9/2020"
         ],
         "y": [
          3,
          2,
          3,
          0,
          1,
          8,
          33,
          150,
          52,
          55,
          153,
          1,
          49,
          131,
          109,
          81,
          95,
          105,
          125,
          115,
          181,
          74,
          109,
          177,
          -1,
          1,
          9,
          241,
          99,
          245,
          21,
          131,
          561,
          101,
          460,
          494,
          235,
          481,
          164,
          627,
          551,
          686,
          367,
          389,
          875,
          586,
          653,
          725,
          721,
          233,
          650,
          42,
          132,
          69,
          22,
          218,
          757,
          928,
          889,
          1056,
          1312,
          1028,
          948,
          1625,
          770,
          1811,
          2471
         ]
        }
       ],
       "layout": {
        "template": {
         "data": {
          "bar": [
           {
            "error_x": {
             "color": "#2a3f5f"
            },
            "error_y": {
             "color": "#2a3f5f"
            },
            "marker": {
             "line": {
              "color": "#E5ECF6",
              "width": 0.5
             },
             "pattern": {
              "fillmode": "overlay",
              "size": 10,
              "solidity": 0.2
             }
            },
            "type": "bar"
           }
          ],
          "barpolar": [
           {
            "marker": {
             "line": {
              "color": "#E5ECF6",
              "width": 0.5
             },
             "pattern": {
              "fillmode": "overlay",
              "size": 10,
              "solidity": 0.2
             }
            },
            "type": "barpolar"
           }
          ],
          "carpet": [
           {
            "aaxis": {
             "endlinecolor": "#2a3f5f",
             "gridcolor": "white",
             "linecolor": "white",
             "minorgridcolor": "white",
             "startlinecolor": "#2a3f5f"
            },
            "baxis": {
             "endlinecolor": "#2a3f5f",
             "gridcolor": "white",
             "linecolor": "white",
             "minorgridcolor": "white",
             "startlinecolor": "#2a3f5f"
            },
            "type": "carpet"
           }
          ],
          "choropleth": [
           {
            "colorbar": {
             "outlinewidth": 0,
             "ticks": ""
            },
            "type": "choropleth"
           }
          ],
          "contour": [
           {
            "colorbar": {
             "outlinewidth": 0,
             "ticks": ""
            },
            "colorscale": [
             [
              0,
              "#0d0887"
             ],
             [
              0.1111111111111111,
              "#46039f"
             ],
             [
              0.2222222222222222,
              "#7201a8"
             ],
             [
              0.3333333333333333,
              "#9c179e"
             ],
             [
              0.4444444444444444,
              "#bd3786"
             ],
             [
              0.5555555555555556,
              "#d8576b"
             ],
             [
              0.6666666666666666,
              "#ed7953"
             ],
             [
              0.7777777777777778,
              "#fb9f3a"
             ],
             [
              0.8888888888888888,
              "#fdca26"
             ],
             [
              1,
              "#f0f921"
             ]
            ],
            "type": "contour"
           }
          ],
          "contourcarpet": [
           {
            "colorbar": {
             "outlinewidth": 0,
             "ticks": ""
            },
            "type": "contourcarpet"
           }
          ],
          "heatmap": [
           {
            "colorbar": {
             "outlinewidth": 0,
             "ticks": ""
            },
            "colorscale": [
             [
              0,
              "#0d0887"
             ],
             [
              0.1111111111111111,
              "#46039f"
             ],
             [
              0.2222222222222222,
              "#7201a8"
             ],
             [
              0.3333333333333333,
              "#9c179e"
             ],
             [
              0.4444444444444444,
              "#bd3786"
             ],
             [
              0.5555555555555556,
              "#d8576b"
             ],
             [
              0.6666666666666666,
              "#ed7953"
             ],
             [
              0.7777777777777778,
              "#fb9f3a"
             ],
             [
              0.8888888888888888,
              "#fdca26"
             ],
             [
              1,
              "#f0f921"
             ]
            ],
            "type": "heatmap"
           }
          ],
          "heatmapgl": [
           {
            "colorbar": {
             "outlinewidth": 0,
             "ticks": ""
            },
            "colorscale": [
             [
              0,
              "#0d0887"
             ],
             [
              0.1111111111111111,
              "#46039f"
             ],
             [
              0.2222222222222222,
              "#7201a8"
             ],
             [
              0.3333333333333333,
              "#9c179e"
             ],
             [
              0.4444444444444444,
              "#bd3786"
             ],
             [
              0.5555555555555556,
              "#d8576b"
             ],
             [
              0.6666666666666666,
              "#ed7953"
             ],
             [
              0.7777777777777778,
              "#fb9f3a"
             ],
             [
              0.8888888888888888,
              "#fdca26"
             ],
             [
              1,
              "#f0f921"
             ]
            ],
            "type": "heatmapgl"
           }
          ],
          "histogram": [
           {
            "marker": {
             "pattern": {
              "fillmode": "overlay",
              "size": 10,
              "solidity": 0.2
             }
            },
            "type": "histogram"
           }
          ],
          "histogram2d": [
           {
            "colorbar": {
             "outlinewidth": 0,
             "ticks": ""
            },
            "colorscale": [
             [
              0,
              "#0d0887"
             ],
             [
              0.1111111111111111,
              "#46039f"
             ],
             [
              0.2222222222222222,
              "#7201a8"
             ],
             [
              0.3333333333333333,
              "#9c179e"
             ],
             [
              0.4444444444444444,
              "#bd3786"
             ],
             [
              0.5555555555555556,
              "#d8576b"
             ],
             [
              0.6666666666666666,
              "#ed7953"
             ],
             [
              0.7777777777777778,
              "#fb9f3a"
             ],
             [
              0.8888888888888888,
              "#fdca26"
             ],
             [
              1,
              "#f0f921"
             ]
            ],
            "type": "histogram2d"
           }
          ],
          "histogram2dcontour": [
           {
            "colorbar": {
             "outlinewidth": 0,
             "ticks": ""
            },
            "colorscale": [
             [
              0,
              "#0d0887"
             ],
             [
              0.1111111111111111,
              "#46039f"
             ],
             [
              0.2222222222222222,
              "#7201a8"
             ],
             [
              0.3333333333333333,
              "#9c179e"
             ],
             [
              0.4444444444444444,
              "#bd3786"
             ],
             [
              0.5555555555555556,
              "#d8576b"
             ],
             [
              0.6666666666666666,
              "#ed7953"
             ],
             [
              0.7777777777777778,
              "#fb9f3a"
             ],
             [
              0.8888888888888888,
              "#fdca26"
             ],
             [
              1,
              "#f0f921"
             ]
            ],
            "type": "histogram2dcontour"
           }
          ],
          "mesh3d": [
           {
            "colorbar": {
             "outlinewidth": 0,
             "ticks": ""
            },
            "type": "mesh3d"
           }
          ],
          "parcoords": [
           {
            "line": {
             "colorbar": {
              "outlinewidth": 0,
              "ticks": ""
             }
            },
            "type": "parcoords"
           }
          ],
          "pie": [
           {
            "automargin": true,
            "type": "pie"
           }
          ],
          "scatter": [
           {
            "fillpattern": {
             "fillmode": "overlay",
             "size": 10,
             "solidity": 0.2
            },
            "type": "scatter"
           }
          ],
          "scatter3d": [
           {
            "line": {
             "colorbar": {
              "outlinewidth": 0,
              "ticks": ""
             }
            },
            "marker": {
             "colorbar": {
              "outlinewidth": 0,
              "ticks": ""
             }
            },
            "type": "scatter3d"
           }
          ],
          "scattercarpet": [
           {
            "marker": {
             "colorbar": {
              "outlinewidth": 0,
              "ticks": ""
             }
            },
            "type": "scattercarpet"
           }
          ],
          "scattergeo": [
           {
            "marker": {
             "colorbar": {
              "outlinewidth": 0,
              "ticks": ""
             }
            },
            "type": "scattergeo"
           }
          ],
          "scattergl": [
           {
            "marker": {
             "colorbar": {
              "outlinewidth": 0,
              "ticks": ""
             }
            },
            "type": "scattergl"
           }
          ],
          "scattermapbox": [
           {
            "marker": {
             "colorbar": {
              "outlinewidth": 0,
              "ticks": ""
             }
            },
            "type": "scattermapbox"
           }
          ],
          "scatterpolar": [
           {
            "marker": {
             "colorbar": {
              "outlinewidth": 0,
              "ticks": ""
             }
            },
            "type": "scatterpolar"
           }
          ],
          "scatterpolargl": [
           {
            "marker": {
             "colorbar": {
              "outlinewidth": 0,
              "ticks": ""
             }
            },
            "type": "scatterpolargl"
           }
          ],
          "scatterternary": [
           {
            "marker": {
             "colorbar": {
              "outlinewidth": 0,
              "ticks": ""
             }
            },
            "type": "scatterternary"
           }
          ],
          "surface": [
           {
            "colorbar": {
             "outlinewidth": 0,
             "ticks": ""
            },
            "colorscale": [
             [
              0,
              "#0d0887"
             ],
             [
              0.1111111111111111,
              "#46039f"
             ],
             [
              0.2222222222222222,
              "#7201a8"
             ],
             [
              0.3333333333333333,
              "#9c179e"
             ],
             [
              0.4444444444444444,
              "#bd3786"
             ],
             [
              0.5555555555555556,
              "#d8576b"
             ],
             [
              0.6666666666666666,
              "#ed7953"
             ],
             [
              0.7777777777777778,
              "#fb9f3a"
             ],
             [
              0.8888888888888888,
              "#fdca26"
             ],
             [
              1,
              "#f0f921"
             ]
            ],
            "type": "surface"
           }
          ],
          "table": [
           {
            "cells": {
             "fill": {
              "color": "#EBF0F8"
             },
             "line": {
              "color": "white"
             }
            },
            "header": {
             "fill": {
              "color": "#C8D4E3"
             },
             "line": {
              "color": "white"
             }
            },
            "type": "table"
           }
          ]
         },
         "layout": {
          "annotationdefaults": {
           "arrowcolor": "#2a3f5f",
           "arrowhead": 0,
           "arrowwidth": 1
          },
          "autotypenumbers": "strict",
          "coloraxis": {
           "colorbar": {
            "outlinewidth": 0,
            "ticks": ""
           }
          },
          "colorscale": {
           "diverging": [
            [
             0,
             "#8e0152"
            ],
            [
             0.1,
             "#c51b7d"
            ],
            [
             0.2,
             "#de77ae"
            ],
            [
             0.3,
             "#f1b6da"
            ],
            [
             0.4,
             "#fde0ef"
            ],
            [
             0.5,
             "#f7f7f7"
            ],
            [
             0.6,
             "#e6f5d0"
            ],
            [
             0.7,
             "#b8e186"
            ],
            [
             0.8,
             "#7fbc41"
            ],
            [
             0.9,
             "#4d9221"
            ],
            [
             1,
             "#276419"
            ]
           ],
           "sequential": [
            [
             0,
             "#0d0887"
            ],
            [
             0.1111111111111111,
             "#46039f"
            ],
            [
             0.2222222222222222,
             "#7201a8"
            ],
            [
             0.3333333333333333,
             "#9c179e"
            ],
            [
             0.4444444444444444,
             "#bd3786"
            ],
            [
             0.5555555555555556,
             "#d8576b"
            ],
            [
             0.6666666666666666,
             "#ed7953"
            ],
            [
             0.7777777777777778,
             "#fb9f3a"
            ],
            [
             0.8888888888888888,
             "#fdca26"
            ],
            [
             1,
             "#f0f921"
            ]
           ],
           "sequentialminus": [
            [
             0,
             "#0d0887"
            ],
            [
             0.1111111111111111,
             "#46039f"
            ],
            [
             0.2222222222222222,
             "#7201a8"
            ],
            [
             0.3333333333333333,
             "#9c179e"
            ],
            [
             0.4444444444444444,
             "#bd3786"
            ],
            [
             0.5555555555555556,
             "#d8576b"
            ],
            [
             0.6666666666666666,
             "#ed7953"
            ],
            [
             0.7777777777777778,
             "#fb9f3a"
            ],
            [
             0.8888888888888888,
             "#fdca26"
            ],
            [
             1,
             "#f0f921"
            ]
           ]
          },
          "colorway": [
           "#636efa",
           "#EF553B",
           "#00cc96",
           "#ab63fa",
           "#FFA15A",
           "#19d3f3",
           "#FF6692",
           "#B6E880",
           "#FF97FF",
           "#FECB52"
          ],
          "font": {
           "color": "#2a3f5f"
          },
          "geo": {
           "bgcolor": "white",
           "lakecolor": "white",
           "landcolor": "#E5ECF6",
           "showlakes": true,
           "showland": true,
           "subunitcolor": "white"
          },
          "hoverlabel": {
           "align": "left"
          },
          "hovermode": "closest",
          "mapbox": {
           "style": "light"
          },
          "paper_bgcolor": "white",
          "plot_bgcolor": "#E5ECF6",
          "polar": {
           "angularaxis": {
            "gridcolor": "white",
            "linecolor": "white",
            "ticks": ""
           },
           "bgcolor": "#E5ECF6",
           "radialaxis": {
            "gridcolor": "white",
            "linecolor": "white",
            "ticks": ""
           }
          },
          "scene": {
           "xaxis": {
            "backgroundcolor": "#E5ECF6",
            "gridcolor": "white",
            "gridwidth": 2,
            "linecolor": "white",
            "showbackground": true,
            "ticks": "",
            "zerolinecolor": "white"
           },
           "yaxis": {
            "backgroundcolor": "#E5ECF6",
            "gridcolor": "white",
            "gridwidth": 2,
            "linecolor": "white",
            "showbackground": true,
            "ticks": "",
            "zerolinecolor": "white"
           },
           "zaxis": {
            "backgroundcolor": "#E5ECF6",
            "gridcolor": "white",
            "gridwidth": 2,
            "linecolor": "white",
            "showbackground": true,
            "ticks": "",
            "zerolinecolor": "white"
           }
          },
          "shapedefaults": {
           "line": {
            "color": "#2a3f5f"
           }
          },
          "ternary": {
           "aaxis": {
            "gridcolor": "white",
            "linecolor": "white",
            "ticks": ""
           },
           "baxis": {
            "gridcolor": "white",
            "linecolor": "white",
            "ticks": ""
           },
           "bgcolor": "#E5ECF6",
           "caxis": {
            "gridcolor": "white",
            "linecolor": "white",
            "ticks": ""
           }
          },
          "title": {
           "x": 0.05
          },
          "xaxis": {
           "automargin": true,
           "gridcolor": "white",
           "linecolor": "white",
           "ticks": "",
           "title": {
            "standoff": 15
           },
           "zerolinecolor": "white",
           "zerolinewidth": 2
          },
          "yaxis": {
           "automargin": true,
           "gridcolor": "white",
           "linecolor": "white",
           "ticks": "",
           "title": {
            "standoff": 15
           },
           "zerolinecolor": "white",
           "zerolinewidth": 2
          }
         }
        },
        "title": {
         "text": "Actual Values"
        },
        "xaxis": {
         "title": {
          "text": "Date"
         }
        },
        "yaxis": {
         "title": {
          "text": "Values"
         }
        }
       }
      }
     },
     "metadata": {},
     "output_type": "display_data"
    },
    {
     "data": {
      "application/vnd.plotly.v1+json": {
       "config": {
        "plotlyServerURL": "https://plot.ly"
       },
       "data": [
        {
         "mode": "lines",
         "name": "Predicted Values",
         "type": "scatter",
         "x": [
          "2020-02-26T00:00:00",
          "2020-02-29T00:00:00",
          "2020-03-02T00:00:00",
          "2020-03-06T00:00:00",
          "2020-03-07T00:00:00",
          "2020-03-09T00:00:00",
          "2020-03-10T00:00:00",
          "2020-03-11T00:00:00",
          "2020-03-12T00:00:00",
          "2020-03-13T00:00:00",
          "2020-03-15T00:00:00",
          "2020-03-16T00:00:00",
          "2020-03-17T00:00:00",
          "2020-03-18T00:00:00",
          "2020-03-19T00:00:00",
          "2020-03-20T00:00:00",
          "2020-03-21T00:00:00",
          "2020-03-22T00:00:00",
          "2020-03-23T00:00:00",
          "2020-03-24T00:00:00",
          "2020-03-25T00:00:00",
          "2020-03-26T00:00:00",
          "2020-03-27T00:00:00",
          "2020-03-28T00:00:00",
          "2020-03-29T00:00:00",
          "2020-03-30T00:00:00",
          "2020-03-31T00:00:00",
          "2020-04-01T00:00:00",
          "2020-04-02T00:00:00",
          "2020-04-03T00:00:00",
          "2020-04-04T00:00:00",
          "2020-04-05T00:00:00",
          "2020-04-06T00:00:00",
          "2020-04-07T00:00:00",
          "2020-04-08T00:00:00",
          "2020-04-09T00:00:00",
          "2020-04-10T00:00:00",
          "2020-04-11T00:00:00",
          "2020-04-12T00:00:00",
          "2020-04-13T00:00:00",
          "2020-04-14T00:00:00",
          "2020-04-15T00:00:00",
          "2020-04-16T00:00:00",
          "2020-04-17T00:00:00",
          "2020-04-18T00:00:00",
          "2020-04-19T00:00:00",
          "2020-04-20T00:00:00",
          "2020-04-21T00:00:00",
          "2020-04-22T00:00:00",
          "2020-04-23T00:00:00",
          "2020-04-24T00:00:00",
          "2020-04-25T00:00:00",
          "2020-04-26T00:00:00",
          "2020-04-27T00:00:00",
          "2020-04-28T00:00:00",
          "2020-04-29T00:00:00",
          "2020-04-30T00:00:00",
          "2020-05-01T00:00:00",
          "2020-05-02T00:00:00",
          "2020-05-03T00:00:00",
          "2020-05-04T00:00:00",
          "2020-05-05T00:00:00",
          "2020-05-06T00:00:00",
          "2020-05-07T00:00:00",
          "2020-05-08T00:00:00",
          "2020-05-09T00:00:00",
          "2020-05-10T00:00:00",
          "2020-05-11T00:00:00",
          "2020-05-12T00:00:00",
          "2020-05-13T00:00:00",
          "2020-05-14T00:00:00",
          "2020-05-15T00:00:00",
          "2020-05-16T00:00:00",
          "2020-05-17T00:00:00",
          "2020-05-18T00:00:00",
          "2020-05-19T00:00:00",
          "2020-05-20T00:00:00",
          "2020-05-21T00:00:00",
          "2020-05-22T00:00:00",
          "2020-05-23T00:00:00",
          "2020-05-24T00:00:00",
          "2020-05-25T00:00:00",
          "2020-05-26T00:00:00",
          "2020-05-27T00:00:00",
          "2020-05-28T00:00:00",
          "2020-05-29T00:00:00",
          "2020-05-30T00:00:00",
          "2020-05-31T00:00:00",
          "2020-06-01T00:00:00",
          "2020-06-02T00:00:00",
          "2020-06-03T00:00:00",
          "2020-06-04T00:00:00",
          "2020-06-05T00:00:00",
          "2020-06-06T00:00:00",
          "2020-06-07T00:00:00",
          "2020-06-08T00:00:00",
          "2020-06-09T00:00:00"
         ],
         "y": [
          -207.72702405210703,
          -70.44499416251463,
          -201.64107574172866,
          -100.50000081425085,
          22.710570633307384,
          -108.48551087098176,
          -105.91251196655483,
          -21.415894437861795,
          -86.24978588544286,
          -7.344435906698859,
          -87.83867847467248,
          -15.329945952741392,
          -12.7569470486294,
          71.73967047870661,
          6.905779030309667,
          85.8111290020679,
          209.0217004869464,
          5.3168864838240495,
          77.82561906334558,
          80.3986180251988,
          164.89523568689563,
          100.06134437343246,
          178.96669497830558,
          302.1772670645423,
          98.48369871666361,
          171.00367691750083,
          173.59759215913547,
          258.1151260329058,
          193.31208582028373,
          272.2482870277946,
          395.50080173459867,
          191.83793095355077,
          264.40922173956716,
          267.04477890780447,
          352.56129690948876,
          288.7473059352967,
          368.69727549762155,
          492.9524665398701,
          290.30942824801315,
          363.87993650458225,
          367.5147111431763,
          468.72772421090565,
          420.61022830317614,
          516.2627253435913,
          656.220443865019,
          469.28218583535727,
          558.557474354461,
          577.9039850201618,
          679.1741143183403,
          631.1210951818517,
          726.8073174656887,
          866.8046026068578,
          679.8865022606983,
          769.1823111257816,
          788.5423863729874,
          889.8260802517844,
          841.7792651553541,
          937.4716914785238,
          1077.4693392834392,
          890.5516015996856,
          979.8474104648037,
          999.2074857120974,
          1100.4911795910111,
          1052.4443644944565,
          1148.1367908178995,
          1288.1344386224616,
          1101.2167009384502,
          1190.5125098038945,
          1209.8725850509709,
          1311.1562789301513,
          1263.109463833153,
          1358.8018901569005,
          1498.7995379614836,
          1311.8818002774372,
          1401.1776091426432,
          1420.5376843898453,
          1521.8213782690214,
          1473.7745631726611,
          1569.4669894959009,
          1709.4646373002363,
          1522.5468996168597,
          1611.842708481734,
          1631.2027837289543,
          1732.4864776078925,
          1684.4396625117108,
          1780.13208883443,
          1920.1297366389888,
          1733.2119989557357,
          1822.5078078206873,
          1841.867883068064,
          1943.1515769471189,
          1895.104761850813,
          1990.7971881738056,
          2130.7948359780107,
          1943.8770982946116,
          2033.1729071597774,
          2052.5329824068685
         ]
        }
       ],
       "layout": {
        "template": {
         "data": {
          "bar": [
           {
            "error_x": {
             "color": "#2a3f5f"
            },
            "error_y": {
             "color": "#2a3f5f"
            },
            "marker": {
             "line": {
              "color": "#E5ECF6",
              "width": 0.5
             },
             "pattern": {
              "fillmode": "overlay",
              "size": 10,
              "solidity": 0.2
             }
            },
            "type": "bar"
           }
          ],
          "barpolar": [
           {
            "marker": {
             "line": {
              "color": "#E5ECF6",
              "width": 0.5
             },
             "pattern": {
              "fillmode": "overlay",
              "size": 10,
              "solidity": 0.2
             }
            },
            "type": "barpolar"
           }
          ],
          "carpet": [
           {
            "aaxis": {
             "endlinecolor": "#2a3f5f",
             "gridcolor": "white",
             "linecolor": "white",
             "minorgridcolor": "white",
             "startlinecolor": "#2a3f5f"
            },
            "baxis": {
             "endlinecolor": "#2a3f5f",
             "gridcolor": "white",
             "linecolor": "white",
             "minorgridcolor": "white",
             "startlinecolor": "#2a3f5f"
            },
            "type": "carpet"
           }
          ],
          "choropleth": [
           {
            "colorbar": {
             "outlinewidth": 0,
             "ticks": ""
            },
            "type": "choropleth"
           }
          ],
          "contour": [
           {
            "colorbar": {
             "outlinewidth": 0,
             "ticks": ""
            },
            "colorscale": [
             [
              0,
              "#0d0887"
             ],
             [
              0.1111111111111111,
              "#46039f"
             ],
             [
              0.2222222222222222,
              "#7201a8"
             ],
             [
              0.3333333333333333,
              "#9c179e"
             ],
             [
              0.4444444444444444,
              "#bd3786"
             ],
             [
              0.5555555555555556,
              "#d8576b"
             ],
             [
              0.6666666666666666,
              "#ed7953"
             ],
             [
              0.7777777777777778,
              "#fb9f3a"
             ],
             [
              0.8888888888888888,
              "#fdca26"
             ],
             [
              1,
              "#f0f921"
             ]
            ],
            "type": "contour"
           }
          ],
          "contourcarpet": [
           {
            "colorbar": {
             "outlinewidth": 0,
             "ticks": ""
            },
            "type": "contourcarpet"
           }
          ],
          "heatmap": [
           {
            "colorbar": {
             "outlinewidth": 0,
             "ticks": ""
            },
            "colorscale": [
             [
              0,
              "#0d0887"
             ],
             [
              0.1111111111111111,
              "#46039f"
             ],
             [
              0.2222222222222222,
              "#7201a8"
             ],
             [
              0.3333333333333333,
              "#9c179e"
             ],
             [
              0.4444444444444444,
              "#bd3786"
             ],
             [
              0.5555555555555556,
              "#d8576b"
             ],
             [
              0.6666666666666666,
              "#ed7953"
             ],
             [
              0.7777777777777778,
              "#fb9f3a"
             ],
             [
              0.8888888888888888,
              "#fdca26"
             ],
             [
              1,
              "#f0f921"
             ]
            ],
            "type": "heatmap"
           }
          ],
          "heatmapgl": [
           {
            "colorbar": {
             "outlinewidth": 0,
             "ticks": ""
            },
            "colorscale": [
             [
              0,
              "#0d0887"
             ],
             [
              0.1111111111111111,
              "#46039f"
             ],
             [
              0.2222222222222222,
              "#7201a8"
             ],
             [
              0.3333333333333333,
              "#9c179e"
             ],
             [
              0.4444444444444444,
              "#bd3786"
             ],
             [
              0.5555555555555556,
              "#d8576b"
             ],
             [
              0.6666666666666666,
              "#ed7953"
             ],
             [
              0.7777777777777778,
              "#fb9f3a"
             ],
             [
              0.8888888888888888,
              "#fdca26"
             ],
             [
              1,
              "#f0f921"
             ]
            ],
            "type": "heatmapgl"
           }
          ],
          "histogram": [
           {
            "marker": {
             "pattern": {
              "fillmode": "overlay",
              "size": 10,
              "solidity": 0.2
             }
            },
            "type": "histogram"
           }
          ],
          "histogram2d": [
           {
            "colorbar": {
             "outlinewidth": 0,
             "ticks": ""
            },
            "colorscale": [
             [
              0,
              "#0d0887"
             ],
             [
              0.1111111111111111,
              "#46039f"
             ],
             [
              0.2222222222222222,
              "#7201a8"
             ],
             [
              0.3333333333333333,
              "#9c179e"
             ],
             [
              0.4444444444444444,
              "#bd3786"
             ],
             [
              0.5555555555555556,
              "#d8576b"
             ],
             [
              0.6666666666666666,
              "#ed7953"
             ],
             [
              0.7777777777777778,
              "#fb9f3a"
             ],
             [
              0.8888888888888888,
              "#fdca26"
             ],
             [
              1,
              "#f0f921"
             ]
            ],
            "type": "histogram2d"
           }
          ],
          "histogram2dcontour": [
           {
            "colorbar": {
             "outlinewidth": 0,
             "ticks": ""
            },
            "colorscale": [
             [
              0,
              "#0d0887"
             ],
             [
              0.1111111111111111,
              "#46039f"
             ],
             [
              0.2222222222222222,
              "#7201a8"
             ],
             [
              0.3333333333333333,
              "#9c179e"
             ],
             [
              0.4444444444444444,
              "#bd3786"
             ],
             [
              0.5555555555555556,
              "#d8576b"
             ],
             [
              0.6666666666666666,
              "#ed7953"
             ],
             [
              0.7777777777777778,
              "#fb9f3a"
             ],
             [
              0.8888888888888888,
              "#fdca26"
             ],
             [
              1,
              "#f0f921"
             ]
            ],
            "type": "histogram2dcontour"
           }
          ],
          "mesh3d": [
           {
            "colorbar": {
             "outlinewidth": 0,
             "ticks": ""
            },
            "type": "mesh3d"
           }
          ],
          "parcoords": [
           {
            "line": {
             "colorbar": {
              "outlinewidth": 0,
              "ticks": ""
             }
            },
            "type": "parcoords"
           }
          ],
          "pie": [
           {
            "automargin": true,
            "type": "pie"
           }
          ],
          "scatter": [
           {
            "fillpattern": {
             "fillmode": "overlay",
             "size": 10,
             "solidity": 0.2
            },
            "type": "scatter"
           }
          ],
          "scatter3d": [
           {
            "line": {
             "colorbar": {
              "outlinewidth": 0,
              "ticks": ""
             }
            },
            "marker": {
             "colorbar": {
              "outlinewidth": 0,
              "ticks": ""
             }
            },
            "type": "scatter3d"
           }
          ],
          "scattercarpet": [
           {
            "marker": {
             "colorbar": {
              "outlinewidth": 0,
              "ticks": ""
             }
            },
            "type": "scattercarpet"
           }
          ],
          "scattergeo": [
           {
            "marker": {
             "colorbar": {
              "outlinewidth": 0,
              "ticks": ""
             }
            },
            "type": "scattergeo"
           }
          ],
          "scattergl": [
           {
            "marker": {
             "colorbar": {
              "outlinewidth": 0,
              "ticks": ""
             }
            },
            "type": "scattergl"
           }
          ],
          "scattermapbox": [
           {
            "marker": {
             "colorbar": {
              "outlinewidth": 0,
              "ticks": ""
             }
            },
            "type": "scattermapbox"
           }
          ],
          "scatterpolar": [
           {
            "marker": {
             "colorbar": {
              "outlinewidth": 0,
              "ticks": ""
             }
            },
            "type": "scatterpolar"
           }
          ],
          "scatterpolargl": [
           {
            "marker": {
             "colorbar": {
              "outlinewidth": 0,
              "ticks": ""
             }
            },
            "type": "scatterpolargl"
           }
          ],
          "scatterternary": [
           {
            "marker": {
             "colorbar": {
              "outlinewidth": 0,
              "ticks": ""
             }
            },
            "type": "scatterternary"
           }
          ],
          "surface": [
           {
            "colorbar": {
             "outlinewidth": 0,
             "ticks": ""
            },
            "colorscale": [
             [
              0,
              "#0d0887"
             ],
             [
              0.1111111111111111,
              "#46039f"
             ],
             [
              0.2222222222222222,
              "#7201a8"
             ],
             [
              0.3333333333333333,
              "#9c179e"
             ],
             [
              0.4444444444444444,
              "#bd3786"
             ],
             [
              0.5555555555555556,
              "#d8576b"
             ],
             [
              0.6666666666666666,
              "#ed7953"
             ],
             [
              0.7777777777777778,
              "#fb9f3a"
             ],
             [
              0.8888888888888888,
              "#fdca26"
             ],
             [
              1,
              "#f0f921"
             ]
            ],
            "type": "surface"
           }
          ],
          "table": [
           {
            "cells": {
             "fill": {
              "color": "#EBF0F8"
             },
             "line": {
              "color": "white"
             }
            },
            "header": {
             "fill": {
              "color": "#C8D4E3"
             },
             "line": {
              "color": "white"
             }
            },
            "type": "table"
           }
          ]
         },
         "layout": {
          "annotationdefaults": {
           "arrowcolor": "#2a3f5f",
           "arrowhead": 0,
           "arrowwidth": 1
          },
          "autotypenumbers": "strict",
          "coloraxis": {
           "colorbar": {
            "outlinewidth": 0,
            "ticks": ""
           }
          },
          "colorscale": {
           "diverging": [
            [
             0,
             "#8e0152"
            ],
            [
             0.1,
             "#c51b7d"
            ],
            [
             0.2,
             "#de77ae"
            ],
            [
             0.3,
             "#f1b6da"
            ],
            [
             0.4,
             "#fde0ef"
            ],
            [
             0.5,
             "#f7f7f7"
            ],
            [
             0.6,
             "#e6f5d0"
            ],
            [
             0.7,
             "#b8e186"
            ],
            [
             0.8,
             "#7fbc41"
            ],
            [
             0.9,
             "#4d9221"
            ],
            [
             1,
             "#276419"
            ]
           ],
           "sequential": [
            [
             0,
             "#0d0887"
            ],
            [
             0.1111111111111111,
             "#46039f"
            ],
            [
             0.2222222222222222,
             "#7201a8"
            ],
            [
             0.3333333333333333,
             "#9c179e"
            ],
            [
             0.4444444444444444,
             "#bd3786"
            ],
            [
             0.5555555555555556,
             "#d8576b"
            ],
            [
             0.6666666666666666,
             "#ed7953"
            ],
            [
             0.7777777777777778,
             "#fb9f3a"
            ],
            [
             0.8888888888888888,
             "#fdca26"
            ],
            [
             1,
             "#f0f921"
            ]
           ],
           "sequentialminus": [
            [
             0,
             "#0d0887"
            ],
            [
             0.1111111111111111,
             "#46039f"
            ],
            [
             0.2222222222222222,
             "#7201a8"
            ],
            [
             0.3333333333333333,
             "#9c179e"
            ],
            [
             0.4444444444444444,
             "#bd3786"
            ],
            [
             0.5555555555555556,
             "#d8576b"
            ],
            [
             0.6666666666666666,
             "#ed7953"
            ],
            [
             0.7777777777777778,
             "#fb9f3a"
            ],
            [
             0.8888888888888888,
             "#fdca26"
            ],
            [
             1,
             "#f0f921"
            ]
           ]
          },
          "colorway": [
           "#636efa",
           "#EF553B",
           "#00cc96",
           "#ab63fa",
           "#FFA15A",
           "#19d3f3",
           "#FF6692",
           "#B6E880",
           "#FF97FF",
           "#FECB52"
          ],
          "font": {
           "color": "#2a3f5f"
          },
          "geo": {
           "bgcolor": "white",
           "lakecolor": "white",
           "landcolor": "#E5ECF6",
           "showlakes": true,
           "showland": true,
           "subunitcolor": "white"
          },
          "hoverlabel": {
           "align": "left"
          },
          "hovermode": "closest",
          "mapbox": {
           "style": "light"
          },
          "paper_bgcolor": "white",
          "plot_bgcolor": "#E5ECF6",
          "polar": {
           "angularaxis": {
            "gridcolor": "white",
            "linecolor": "white",
            "ticks": ""
           },
           "bgcolor": "#E5ECF6",
           "radialaxis": {
            "gridcolor": "white",
            "linecolor": "white",
            "ticks": ""
           }
          },
          "scene": {
           "xaxis": {
            "backgroundcolor": "#E5ECF6",
            "gridcolor": "white",
            "gridwidth": 2,
            "linecolor": "white",
            "showbackground": true,
            "ticks": "",
            "zerolinecolor": "white"
           },
           "yaxis": {
            "backgroundcolor": "#E5ECF6",
            "gridcolor": "white",
            "gridwidth": 2,
            "linecolor": "white",
            "showbackground": true,
            "ticks": "",
            "zerolinecolor": "white"
           },
           "zaxis": {
            "backgroundcolor": "#E5ECF6",
            "gridcolor": "white",
            "gridwidth": 2,
            "linecolor": "white",
            "showbackground": true,
            "ticks": "",
            "zerolinecolor": "white"
           }
          },
          "shapedefaults": {
           "line": {
            "color": "#2a3f5f"
           }
          },
          "ternary": {
           "aaxis": {
            "gridcolor": "white",
            "linecolor": "white",
            "ticks": ""
           },
           "baxis": {
            "gridcolor": "white",
            "linecolor": "white",
            "ticks": ""
           },
           "bgcolor": "#E5ECF6",
           "caxis": {
            "gridcolor": "white",
            "linecolor": "white",
            "ticks": ""
           }
          },
          "title": {
           "x": 0.05
          },
          "xaxis": {
           "automargin": true,
           "gridcolor": "white",
           "linecolor": "white",
           "ticks": "",
           "title": {
            "standoff": 15
           },
           "zerolinecolor": "white",
           "zerolinewidth": 2
          },
          "yaxis": {
           "automargin": true,
           "gridcolor": "white",
           "linecolor": "white",
           "ticks": "",
           "title": {
            "standoff": 15
           },
           "zerolinecolor": "white",
           "zerolinewidth": 2
          }
         }
        },
        "title": {
         "text": "Predicted Values"
        },
        "xaxis": {
         "title": {
          "text": "Date"
         }
        },
        "yaxis": {
         "title": {
          "text": "Values"
         }
        }
       }
      }
     },
     "metadata": {},
     "output_type": "display_data"
    }
   ],
   "source": [
    "if 'y' in d_new.columns:\n",
    "    actual_fig = go.Figure(\n",
    "        data=[go.Scatter(\n",
    "            x=d_new['ds'],\n",
    "            y=d_new['y'],\n",
    "            mode='lines+markers',  # Combine line and markers\n",
    "            name='Actual Values'\n",
    "        )]\n",
    "    )\n",
    "    actual_fig.update_layout(\n",
    "        title=\"Actual Values\",\n",
    "        xaxis_title=\"Date\",\n",
    "        yaxis_title=\"Values\"\n",
    "    )\n",
    "# Create a figure for predicted values\n",
    "predicted_fig = go.Figure(\n",
    "    data=[go.Scatter(\n",
    "        x=forecast['ds'],\n",
    "        y=forecast['yhat'],\n",
    "        mode='lines',  # Only line for predictions\n",
    "        name='Predicted Values'\n",
    "    )]\n",
    ")\n",
    "predicted_fig.update_layout(\n",
    "    title=\"Predicted Values\",\n",
    "    xaxis_title=\"Date\",\n",
    "    yaxis_title=\"Values\"\n",
    ")\n",
    "\n",
    "# Display the figures (optional, adjust based on your environment)\n",
    "if 'y' in d_new.columns:\n",
    "    actual_fig.show()\n",
    "predicted_fig.show()\n"
   ]
  },
  {
   "cell_type": "code",
   "execution_count": null,
   "metadata": {},
   "outputs": [
    {
     "data": {
      "text/html": [
       "<div>\n",
       "<style scoped>\n",
       "    .dataframe tbody tr th:only-of-type {\n",
       "        vertical-align: middle;\n",
       "    }\n",
       "\n",
       "    .dataframe tbody tr th {\n",
       "        vertical-align: top;\n",
       "    }\n",
       "\n",
       "    .dataframe thead th {\n",
       "        text-align: right;\n",
       "    }\n",
       "</style>\n",
       "<table border=\"1\" class=\"dataframe\">\n",
       "  <thead>\n",
       "    <tr style=\"text-align: right;\">\n",
       "      <th></th>\n",
       "      <th>ds</th>\n",
       "      <th>y</th>\n",
       "    </tr>\n",
       "  </thead>\n",
       "  <tbody>\n",
       "    <tr>\n",
       "      <th>0</th>\n",
       "      <td>2020-02-26</td>\n",
       "      <td>3</td>\n",
       "    </tr>\n",
       "    <tr>\n",
       "      <th>1</th>\n",
       "      <td>2020-02-29</td>\n",
       "      <td>2</td>\n",
       "    </tr>\n",
       "    <tr>\n",
       "      <th>2</th>\n",
       "      <td>2020-03-10</td>\n",
       "      <td>3</td>\n",
       "    </tr>\n",
       "    <tr>\n",
       "      <th>3</th>\n",
       "      <td>2020-03-11</td>\n",
       "      <td>0</td>\n",
       "    </tr>\n",
       "    <tr>\n",
       "      <th>4</th>\n",
       "      <td>2020-03-12</td>\n",
       "      <td>1</td>\n",
       "    </tr>\n",
       "    <tr>\n",
       "      <th>...</th>\n",
       "      <td>...</td>\n",
       "      <td>...</td>\n",
       "    </tr>\n",
       "    <tr>\n",
       "      <th>62</th>\n",
       "      <td>2020-05-05</td>\n",
       "      <td>948</td>\n",
       "    </tr>\n",
       "    <tr>\n",
       "      <th>63</th>\n",
       "      <td>2020-05-06</td>\n",
       "      <td>1625</td>\n",
       "    </tr>\n",
       "    <tr>\n",
       "      <th>64</th>\n",
       "      <td>2020-05-07</td>\n",
       "      <td>770</td>\n",
       "    </tr>\n",
       "    <tr>\n",
       "      <th>65</th>\n",
       "      <td>2020-05-08</td>\n",
       "      <td>1811</td>\n",
       "    </tr>\n",
       "    <tr>\n",
       "      <th>66</th>\n",
       "      <td>2020-05-09</td>\n",
       "      <td>2471</td>\n",
       "    </tr>\n",
       "  </tbody>\n",
       "</table>\n",
       "<p>67 rows × 2 columns</p>\n",
       "</div>"
      ],
      "text/plain": [
       "           ds     y\n",
       "0  2020-02-26     3\n",
       "1  2020-02-29     2\n",
       "2  2020-03-10     3\n",
       "3  2020-03-11     0\n",
       "4  2020-03-12     1\n",
       "..        ...   ...\n",
       "62 2020-05-05   948\n",
       "63 2020-05-06  1625\n",
       "64 2020-05-07   770\n",
       "65 2020-05-08  1811\n",
       "66 2020-05-09  2471\n",
       "\n",
       "[67 rows x 2 columns]"
      ]
     },
     "execution_count": 29,
     "metadata": {},
     "output_type": "execute_result"
    }
   ],
   "source": [
    "df['ds'] = pd.to_datetime(df['ds'])\n",
    "df\n"
   ]
  },
  {
   "cell_type": "code",
   "execution_count": null,
   "metadata": {},
   "outputs": [],
   "source": [
    "# Initializing the Model \n",
    "model = Prophet()"
   ]
  },
  {
   "cell_type": "code",
   "execution_count": null,
   "metadata": {},
   "outputs": [
    {
     "data": {
      "text/plain": [
       "Index(['ds', 'y'], dtype='object')"
      ]
     },
     "execution_count": 31,
     "metadata": {},
     "output_type": "execute_result"
    }
   ],
   "source": [
    "df.columns"
   ]
  },
  {
   "cell_type": "code",
   "execution_count": null,
   "metadata": {},
   "outputs": [
    {
     "name": "stderr",
     "output_type": "stream",
     "text": [
      "17:26:32 - cmdstanpy - INFO - Chain [1] start processing\n",
      "17:26:34 - cmdstanpy - INFO - Chain [1] done processing\n"
     ]
    },
    {
     "data": {
      "text/plain": [
       "<prophet.forecaster.Prophet at 0x21a4c6b54c0>"
      ]
     },
     "execution_count": 32,
     "metadata": {},
     "output_type": "execute_result"
    }
   ],
   "source": [
    "model.fit(df)"
   ]
  },
  {
   "cell_type": "code",
   "execution_count": null,
   "metadata": {},
   "outputs": [
    {
     "data": {
      "text/plain": [
       "{'additive': ['weekly',\n",
       "  'additive_terms',\n",
       "  'extra_regressors_additive',\n",
       "  'holidays'],\n",
       " 'multiplicative': ['multiplicative_terms', 'extra_regressors_multiplicative']}"
      ]
     },
     "execution_count": 33,
     "metadata": {},
     "output_type": "execute_result"
    }
   ],
   "source": [
    "model.component_modes"
   ]
  },
  {
   "cell_type": "code",
   "execution_count": null,
   "metadata": {},
   "outputs": [],
   "source": [
    "# Create future dates of 30 days \n",
    "future_dates = model.make_future_dataframe(periods=10)"
   ]
  },
  {
   "cell_type": "code",
   "execution_count": null,
   "metadata": {},
   "outputs": [
    {
     "data": {
      "text/html": [
       "<div>\n",
       "<style scoped>\n",
       "    .dataframe tbody tr th:only-of-type {\n",
       "        vertical-align: middle;\n",
       "    }\n",
       "\n",
       "    .dataframe tbody tr th {\n",
       "        vertical-align: top;\n",
       "    }\n",
       "\n",
       "    .dataframe thead th {\n",
       "        text-align: right;\n",
       "    }\n",
       "</style>\n",
       "<table border=\"1\" class=\"dataframe\">\n",
       "  <thead>\n",
       "    <tr style=\"text-align: right;\">\n",
       "      <th></th>\n",
       "      <th>ds</th>\n",
       "    </tr>\n",
       "  </thead>\n",
       "  <tbody>\n",
       "    <tr>\n",
       "      <th>72</th>\n",
       "      <td>2020-05-16</td>\n",
       "    </tr>\n",
       "    <tr>\n",
       "      <th>73</th>\n",
       "      <td>2020-05-17</td>\n",
       "    </tr>\n",
       "    <tr>\n",
       "      <th>74</th>\n",
       "      <td>2020-05-18</td>\n",
       "    </tr>\n",
       "    <tr>\n",
       "      <th>75</th>\n",
       "      <td>2020-05-19</td>\n",
       "    </tr>\n",
       "    <tr>\n",
       "      <th>76</th>\n",
       "      <td>2020-05-20</td>\n",
       "    </tr>\n",
       "  </tbody>\n",
       "</table>\n",
       "</div>"
      ],
      "text/plain": [
       "           ds\n",
       "72 2020-05-16\n",
       "73 2020-05-17\n",
       "74 2020-05-18\n",
       "75 2020-05-19\n",
       "76 2020-05-20"
      ]
     },
     "execution_count": 41,
     "metadata": {},
     "output_type": "execute_result"
    }
   ],
   "source": [
    "future_dates.tail()"
   ]
  },
  {
   "cell_type": "code",
   "execution_count": null,
   "metadata": {},
   "outputs": [],
   "source": [
    "prediction = model.predict(future_dates)"
   ]
  },
  {
   "cell_type": "code",
   "execution_count": null,
   "metadata": {},
   "outputs": [
    {
     "data": {
      "text/html": [
       "<div>\n",
       "<style scoped>\n",
       "    .dataframe tbody tr th:only-of-type {\n",
       "        vertical-align: middle;\n",
       "    }\n",
       "\n",
       "    .dataframe tbody tr th {\n",
       "        vertical-align: top;\n",
       "    }\n",
       "\n",
       "    .dataframe thead th {\n",
       "        text-align: right;\n",
       "    }\n",
       "</style>\n",
       "<table border=\"1\" class=\"dataframe\">\n",
       "  <thead>\n",
       "    <tr style=\"text-align: right;\">\n",
       "      <th></th>\n",
       "      <th>ds</th>\n",
       "      <th>trend</th>\n",
       "      <th>yhat_lower</th>\n",
       "      <th>yhat_upper</th>\n",
       "      <th>trend_lower</th>\n",
       "      <th>trend_upper</th>\n",
       "      <th>additive_terms</th>\n",
       "      <th>additive_terms_lower</th>\n",
       "      <th>additive_terms_upper</th>\n",
       "      <th>weekly</th>\n",
       "      <th>weekly_lower</th>\n",
       "      <th>weekly_upper</th>\n",
       "      <th>multiplicative_terms</th>\n",
       "      <th>multiplicative_terms_lower</th>\n",
       "      <th>multiplicative_terms_upper</th>\n",
       "      <th>yhat</th>\n",
       "    </tr>\n",
       "  </thead>\n",
       "  <tbody>\n",
       "    <tr>\n",
       "      <th>0</th>\n",
       "      <td>2020-02-26</td>\n",
       "      <td>-242.673451</td>\n",
       "      <td>-503.744165</td>\n",
       "      <td>84.412015</td>\n",
       "      <td>-242.673451</td>\n",
       "      <td>-242.673451</td>\n",
       "      <td>34.946427</td>\n",
       "      <td>34.946427</td>\n",
       "      <td>34.946427</td>\n",
       "      <td>34.946427</td>\n",
       "      <td>34.946427</td>\n",
       "      <td>34.946427</td>\n",
       "      <td>0.0</td>\n",
       "      <td>0.0</td>\n",
       "      <td>0.0</td>\n",
       "      <td>-207.727024</td>\n",
       "    </tr>\n",
       "    <tr>\n",
       "      <th>1</th>\n",
       "      <td>2020-02-29</td>\n",
       "      <td>-202.749637</td>\n",
       "      <td>-375.636981</td>\n",
       "      <td>271.525740</td>\n",
       "      <td>-202.749637</td>\n",
       "      <td>-202.749637</td>\n",
       "      <td>132.304643</td>\n",
       "      <td>132.304643</td>\n",
       "      <td>132.304643</td>\n",
       "      <td>132.304643</td>\n",
       "      <td>132.304643</td>\n",
       "      <td>132.304643</td>\n",
       "      <td>0.0</td>\n",
       "      <td>0.0</td>\n",
       "      <td>0.0</td>\n",
       "      <td>-70.444994</td>\n",
       "    </tr>\n",
       "    <tr>\n",
       "      <th>2</th>\n",
       "      <td>2020-03-02</td>\n",
       "      <td>-176.133762</td>\n",
       "      <td>-521.404197</td>\n",
       "      <td>112.658152</td>\n",
       "      <td>-176.133762</td>\n",
       "      <td>-176.133762</td>\n",
       "      <td>-25.507314</td>\n",
       "      <td>-25.507314</td>\n",
       "      <td>-25.507314</td>\n",
       "      <td>-25.507314</td>\n",
       "      <td>-25.507314</td>\n",
       "      <td>-25.507314</td>\n",
       "      <td>0.0</td>\n",
       "      <td>0.0</td>\n",
       "      <td>0.0</td>\n",
       "      <td>-201.641076</td>\n",
       "    </tr>\n",
       "    <tr>\n",
       "      <th>3</th>\n",
       "      <td>2020-03-06</td>\n",
       "      <td>-122.902010</td>\n",
       "      <td>-403.828880</td>\n",
       "      <td>224.082155</td>\n",
       "      <td>-122.902010</td>\n",
       "      <td>-122.902010</td>\n",
       "      <td>22.402009</td>\n",
       "      <td>22.402009</td>\n",
       "      <td>22.402009</td>\n",
       "      <td>22.402009</td>\n",
       "      <td>22.402009</td>\n",
       "      <td>22.402009</td>\n",
       "      <td>0.0</td>\n",
       "      <td>0.0</td>\n",
       "      <td>0.0</td>\n",
       "      <td>-100.500001</td>\n",
       "    </tr>\n",
       "    <tr>\n",
       "      <th>4</th>\n",
       "      <td>2020-03-07</td>\n",
       "      <td>-109.594072</td>\n",
       "      <td>-278.155382</td>\n",
       "      <td>342.753529</td>\n",
       "      <td>-109.594072</td>\n",
       "      <td>-109.594072</td>\n",
       "      <td>132.304643</td>\n",
       "      <td>132.304643</td>\n",
       "      <td>132.304643</td>\n",
       "      <td>132.304643</td>\n",
       "      <td>132.304643</td>\n",
       "      <td>132.304643</td>\n",
       "      <td>0.0</td>\n",
       "      <td>0.0</td>\n",
       "      <td>0.0</td>\n",
       "      <td>22.710571</td>\n",
       "    </tr>\n",
       "  </tbody>\n",
       "</table>\n",
       "</div>"
      ],
      "text/plain": [
       "          ds       trend  yhat_lower  yhat_upper  trend_lower  trend_upper  \\\n",
       "0 2020-02-26 -242.673451 -503.744165   84.412015  -242.673451  -242.673451   \n",
       "1 2020-02-29 -202.749637 -375.636981  271.525740  -202.749637  -202.749637   \n",
       "2 2020-03-02 -176.133762 -521.404197  112.658152  -176.133762  -176.133762   \n",
       "3 2020-03-06 -122.902010 -403.828880  224.082155  -122.902010  -122.902010   \n",
       "4 2020-03-07 -109.594072 -278.155382  342.753529  -109.594072  -109.594072   \n",
       "\n",
       "   additive_terms  additive_terms_lower  additive_terms_upper      weekly  \\\n",
       "0       34.946427             34.946427             34.946427   34.946427   \n",
       "1      132.304643            132.304643            132.304643  132.304643   \n",
       "2      -25.507314            -25.507314            -25.507314  -25.507314   \n",
       "3       22.402009             22.402009             22.402009   22.402009   \n",
       "4      132.304643            132.304643            132.304643  132.304643   \n",
       "\n",
       "   weekly_lower  weekly_upper  multiplicative_terms  \\\n",
       "0     34.946427     34.946427                   0.0   \n",
       "1    132.304643    132.304643                   0.0   \n",
       "2    -25.507314    -25.507314                   0.0   \n",
       "3     22.402009     22.402009                   0.0   \n",
       "4    132.304643    132.304643                   0.0   \n",
       "\n",
       "   multiplicative_terms_lower  multiplicative_terms_upper        yhat  \n",
       "0                         0.0                         0.0 -207.727024  \n",
       "1                         0.0                         0.0  -70.444994  \n",
       "2                         0.0                         0.0 -201.641076  \n",
       "3                         0.0                         0.0 -100.500001  \n",
       "4                         0.0                         0.0   22.710571  "
      ]
     },
     "execution_count": 43,
     "metadata": {},
     "output_type": "execute_result"
    }
   ],
   "source": [
    "prediction.head()"
   ]
  }
 ],
 "metadata": {
  "kernelspec": {
   "display_name": "tf_env",
   "language": "python",
   "name": "python3"
  },
  "language_info": {
   "codemirror_mode": {
    "name": "ipython",
    "version": 3
   },
   "file_extension": ".py",
   "mimetype": "text/x-python",
   "name": "python",
   "nbconvert_exporter": "python",
   "pygments_lexer": "ipython3",
   "version": "3.9.19"
  }
 },
 "nbformat": 4,
 "nbformat_minor": 2
}
